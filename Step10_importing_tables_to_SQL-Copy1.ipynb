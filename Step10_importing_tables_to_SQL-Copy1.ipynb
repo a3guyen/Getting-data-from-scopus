{
 "cells": [
  {
   "cell_type": "code",
   "execution_count": null,
   "metadata": {
    "collapsed": false
   },
   "outputs": [],
   "source": []
  },
  {
   "cell_type": "code",
   "execution_count": 6,
   "metadata": {
    "collapsed": false
   },
   "outputs": [
    {
     "name": "stdout",
     "output_type": "stream",
     "text": [
      "2017-02-16 13:38:46.756000\n",
      "Opened database successfully\n",
      "Done with creating SQL table\n"
     ]
    }
   ],
   "source": [
    "import csv\n",
    "import sys\n",
    "import sqlite3 #for SQLite\n",
    "import datetime\n",
    "\n",
    "csv.field_size_limit(sys.maxint) #to avoid too long field error\n",
    "print datetime.datetime.now()\n",
    "\n",
    "\n",
    "#open the csv file as input\n",
    "infile = open('step9_extract_info_10years.csv','rb')\n",
    "reader = csv.reader(infile, delimiter ='|', quotechar = ' ', quoting = csv.QUOTE_ALL)\n",
    "#connect to the database and create the table\n",
    "conn = sqlite3.connect('database.db')\n",
    "conn.text_factory = str #to accept also strange characters \n",
    "print \"Opened database successfully\";\n",
    "cursor = conn.cursor()\n",
    "cursor.execute('''CREATE TABLE STEP9\n",
    "(year text, paperlink text, author text, oldaffi text, oldaffi_short text)''')\n",
    "row_nb = 0\n",
    "for row in reader:\n",
    "    if row_nb == 0:\n",
    "        row_nb += 1\n",
    "        continue\n",
    "    else:\n",
    "        row_nb += 1\n",
    "        cursor.execute(\"INSERT INTO STEP9 VALUES (?,?,?,?,?)\",(row[1],row[2],row[3], row[4],row[5]))\n",
    "print \"Done with creating SQL table\"\n",
    "conn.commit()\n",
    "conn.close()"
   ]
  },
  {
   "cell_type": "code",
   "execution_count": 7,
   "metadata": {
    "collapsed": false
   },
   "outputs": [
    {
     "name": "stdout",
     "output_type": "stream",
     "text": [
      "2017-02-16 13:38:53.846000\n",
      "Opened database successfully\n",
      "Done with creating SQL table\n"
     ]
    }
   ],
   "source": [
    "import csv\n",
    "import sys\n",
    "import sqlite3 #for SQLite\n",
    "import datetime\n",
    "\n",
    "csv.field_size_limit(sys.maxint) #to avoid too long field error\n",
    "print datetime.datetime.now()\n",
    "\n",
    "#open the csv file as input\n",
    "infile = open('step3_author_emails.csv','rb')\n",
    "reader = csv.reader(infile, delimiter ='|', quotechar = ' ', quoting = csv.QUOTE_ALL)\n",
    "#connect to the database and create the table\n",
    "conn = sqlite3.connect('database.db')\n",
    "conn.text_factory = str #to accept also strange characters \n",
    "print \"Opened database successfully\";\n",
    "cursor = conn.cursor()\n",
    "cursor.execute('''CREATE TABLE STEP3\n",
    "(year text, paperlink text, author text, email text)''')\n",
    "row_nb = 0\n",
    "for row in reader:\n",
    "    if row_nb == 0:\n",
    "        row_nb += 1\n",
    "        continue\n",
    "    else:\n",
    "        email = row[4].replace('mailto:','').replace(',','')\n",
    "        row_nb += 1\n",
    "        cursor.execute(\"INSERT INTO STEP3 VALUES (?,?,?,?)\",(row[1],row[2],row[3], email))\n",
    "print \"Done with creating SQL table\"\n",
    "conn.commit()\n",
    "conn.close()"
   ]
  },
  {
   "cell_type": "markdown",
   "metadata": {},
   "source": [
    "# working with step8 table about author profile"
   ]
  },
  {
   "cell_type": "code",
   "execution_count": 62,
   "metadata": {
    "collapsed": false
   },
   "outputs": [
    {
     "name": "stdout",
     "output_type": "stream",
     "text": [
      "2017-02-16 15:41:22.926000\n",
      "Opened database successfully\n",
      "Done with creating SQL table\n",
      "2\n"
     ]
    }
   ],
   "source": [
    "import csv\n",
    "import sys\n",
    "import sqlite3 #for SQLite\n",
    "import datetime\n",
    "\n",
    "csv.field_size_limit(sys.maxint) #to avoid too long field error\n",
    "print datetime.datetime.now()\n",
    "\n",
    "#open the csv file as input\n",
    "infile = open('step8_authorprofile_unique.csv','rb')\n",
    "reader = csv.reader(infile, delimiter ='|', quotechar = ' ', quoting = csv.QUOTE_ALL)\n",
    "#connect to the database and create the table\n",
    "conn = sqlite3.connect('database.db')\n",
    "conn.text_factory = str #to accept also strange characters \n",
    "print \"Opened database successfully\";\n",
    "cursor = conn.cursor()\n",
    "cursor.execute('''CREATE TABLE STEP8\n",
    "(authid text, authorlink text, fullname text, othernames text, currentaffi text, currentaffi_short text, doccount text, cites text, coauthor text, subject text)''')\n",
    "\n",
    "row_nb = 0\n",
    "error = 0\n",
    "for row in reader:\n",
    "    if row_nb == 0:\n",
    "        row_nb += 1\n",
    "        continue\n",
    "    else:\n",
    "        row_nb += 1\n",
    "        try:\n",
    "            float(row[0])\n",
    "            cursor.execute(\"INSERT INTO STEP8 VALUES (?,?,?,?,?,?,?,?,?,?)\",(row[0],row[1],row[2],row[3],row[4],row[5],row[6],row[7],row[8],row[9]))\n",
    "        except:\n",
    "            error += 1\n",
    "            pass\n",
    "print \"Done with creating SQL table\"\n",
    "print error\n",
    "conn.commit()\n",
    "conn.close()\n",
    "\n",
    "\n"
   ]
  },
  {
   "cell_type": "code",
   "execution_count": 63,
   "metadata": {
    "collapsed": false
   },
   "outputs": [
    {
     "name": "stdout",
     "output_type": "stream",
     "text": [
      "2017-02-16 15:41:26.844000\n",
      "Opened database successfully\n",
      "Done\n",
      "2017-02-16 15:41:32.526000\n"
     ]
    }
   ],
   "source": [
    "import sqlite3 as lite\n",
    "import sys\n",
    "import datetime\n",
    "print datetime.datetime.now()\n",
    "con = lite.connect('database.db')\n",
    "print \"Opened database successfully\"\n",
    "with con:\n",
    "    \n",
    "    cur = con.cursor()     \n",
    "    cur.execute('''UPDATE STEP8 SET cites = '0' WHERE doccount =='1' AND cites LIKE '%documentsView%' ''')\n",
    "    cur.execute('''UPDATE STEP8 SET cites = '0' WHERE doccount =='1' AND cites LIKE '%documentView%' ''')\n",
    "    cur.execute('''UPDATE STEP8 SET cites = '0' WHERE doccount =='2' AND cites LIKE '%documentsView%' ''')\n",
    "    cur.execute('''UPDATE STEP8 SET cites = '0' WHERE doccount =='3' AND cites LIKE '%documentsView%' ''')\n",
    "    cur.execute('''UPDATE STEP8 SET cites = '0' WHERE doccount =='4' AND cites LIKE '%documentsView%' ''')\n",
    "    cur.execute('''UPDATE STEP8 SET cites = '0' WHERE doccount =='5' AND cites LIKE '%documentsView%' ''')\n",
    "    cur.execute('''UPDATE STEP8 SET cites = '0' WHERE doccount =='6' AND cites LIKE '%documentsView%' ''')\n",
    "    cur.execute('''UPDATE STEP8 SET cites = '0' WHERE doccount =='7' AND cites LIKE '%documentsView%' ''')\n",
    "    cur.execute('''UPDATE STEP8 SET cites = '0' WHERE doccount =='8' AND cites LIKE '%documentsView%' ''')\n",
    "    cur.execute('''UPDATE STEP8 SET cites = '0' WHERE doccount =='9' AND cites LIKE '%documentsView%' ''')\n",
    "    cur.execute('''UPDATE STEP8 SET cites = '0' WHERE doccount =='10' AND cites LIKE '%documentsView%' ''')\n",
    "    cur.execute('''UPDATE STEP8 SET cites = '0' WHERE doccount =='11' AND cites LIKE '%documentsView%' ''')\n",
    "    \n",
    "    \n",
    "print \"Done\"\n",
    "print datetime.datetime.now()\n",
    "con.commit()\n",
    "con.close()"
   ]
  },
  {
   "cell_type": "code",
   "execution_count": 66,
   "metadata": {
    "collapsed": false
   },
   "outputs": [
    {
     "name": "stdout",
     "output_type": "stream",
     "text": [
      "2017-02-16 15:42:03.620000\n",
      "Opened database successfully\n",
      "Done\n",
      "2017-02-16 15:42:04.557000\n"
     ]
    }
   ],
   "source": [
    "import sqlite3 as lite\n",
    "import sys\n",
    "import datetime\n",
    "print datetime.datetime.now()\n",
    "con = lite.connect('database.db')\n",
    "print \"Opened database successfully\"\n",
    "with con:\n",
    "    \n",
    "    cur = con.cursor()     \n",
    "    cur.execute('''UPDATE STEP8 SET cites = '0' WHERE doccount =='1' AND cites LIKE '%to%' ''')\n",
    "    cur.execute('''UPDATE STEP8 SET cites = '0' WHERE doccount =='2' AND cites LIKE '%to%' ''')\n",
    "    cur.execute('''UPDATE STEP8 SET cites = '0' WHERE doccount =='3' AND cites LIKE '%to%' ''')\n",
    "    cur.execute('''UPDATE STEP8 SET cites = '0' WHERE doccount =='4' AND cites LIKE '%to%' ''')\n",
    "   \n",
    "    \n",
    "print \"Done\"\n",
    "print datetime.datetime.now()\n",
    "con.commit()\n",
    "con.close()"
   ]
  },
  {
   "cell_type": "code",
   "execution_count": 67,
   "metadata": {
    "collapsed": false
   },
   "outputs": [
    {
     "name": "stdout",
     "output_type": "stream",
     "text": [
      "2017-02-16 15:42:09.630000\n",
      "Opened database successfully\n",
      "Done\n",
      "2017-02-16 15:42:10.348000\n"
     ]
    }
   ],
   "source": [
    "import sqlite3 as lite\n",
    "import sys\n",
    "import datetime\n",
    "print datetime.datetime.now()\n",
    "con = lite.connect('database.db')\n",
    "print \"Opened database successfully\"\n",
    "with con:\n",
    "    \n",
    "    cur = con.cursor()     \n",
    "    cur.execute('''UPDATE STEP8 SET cites = '' WHERE cites LIKE '%documentsView%' ''')\n",
    "    cur.execute('''UPDATE STEP8 SET coauthor ='' WHERE coauthor LIKE '%Add%' ''')\n",
    "    cur.execute('''UPDATE STEP8 SET coauthor ='' WHERE coauthor LIKE '%Set%' ''')\n",
    "    \n",
    "   \n",
    "    \n",
    "print \"Done\"\n",
    "print datetime.datetime.now()\n",
    "con.commit()\n",
    "con.close()"
   ]
  },
  {
   "cell_type": "code",
   "execution_count": 68,
   "metadata": {
    "collapsed": false
   },
   "outputs": [
    {
     "name": "stdout",
     "output_type": "stream",
     "text": [
      "2017-02-16 15:42:16.717000\n",
      "Opened database successfully\n",
      "Done\n",
      "2017-02-16 15:42:17.606000\n"
     ]
    }
   ],
   "source": [
    "import sqlite3 as lite\n",
    "import sys\n",
    "import datetime\n",
    "print datetime.datetime.now()\n",
    "con = lite.connect('database.db')\n",
    "print \"Opened database successfully\"\n",
    "with con:\n",
    "    \n",
    "    cur = con.cursor()     \n",
    "    cur.execute('''UPDATE STEP8 SET cites = '' WHERE doccount =='0' ''')\n",
    "    cur.execute('''UPDATE STEP8 SET coauthor ='' WHERE doccount =='0'  ''')\n",
    "    cur.execute('''UPDATE STEP8 SET doccount ='' WHERE doccount =='0'  ''')\n",
    "    \n",
    "   \n",
    "    \n",
    "print \"Done\"\n",
    "print datetime.datetime.now()\n",
    "con.commit()\n",
    "con.close()"
   ]
  },
  {
   "cell_type": "markdown",
   "metadata": {},
   "source": [
    "# dEN DAY LA HET CAC  BUOC QUAN TRONG NHE"
   ]
  },
  {
   "cell_type": "code",
   "execution_count": 47,
   "metadata": {
    "collapsed": false
   },
   "outputs": [
    {
     "name": "stdout",
     "output_type": "stream",
     "text": [
      "2017-02-16 14:57:12.216000\n",
      "Opened database successfully\n",
      "Done\n",
      "2017-02-16 14:57:12.731000\n"
     ]
    }
   ],
   "source": [
    "import sqlite3 as lite\n",
    "import sys\n",
    "import datetime\n",
    "print datetime.datetime.now()\n",
    "con = lite.connect('database.db')\n",
    "con.text_factory = str\n",
    "print \"Opened database successfully\"\n",
    "with con:\n",
    "    cur = con.cursor()  \n",
    "    cur.execute('''CREATE TABLE STEP8ZEROCOUNT\n",
    "(authid text, authorlink text, fullname text, othernames text, currentaffi text, currentaffi_short text, doccount text, cites text, coauthor text, subject text)''')\n",
    "    cur.execute('''INSERT INTO STEP8ZEROCOUNT SELECT * FROM STEP8 WHERE STEP8.doccount =='0' ''')\n",
    "    \n",
    "print \"Done\"\n",
    "print datetime.datetime.now()\n",
    "con.commit()\n",
    "con.close()\n"
   ]
  },
  {
   "cell_type": "code",
   "execution_count": 32,
   "metadata": {
    "collapsed": false
   },
   "outputs": [
    {
     "name": "stdout",
     "output_type": "stream",
     "text": [
      "2017-02-16 14:33:26.655000\n",
      "Opened database successfully\n",
      "Done\n",
      "2017-02-16 14:33:26.796000\n"
     ]
    }
   ],
   "source": [
    "import sqlite3 as lite\n",
    "import sys\n",
    "import datetime\n",
    "import csv\n",
    "print datetime.datetime.now()\n",
    "infile = open('STEP8ZERORFIX.csv','rb')\n",
    "reader = csv.reader(infile, delimiter ='|', quotechar = ' ', quoting = csv.QUOTE_ALL)\n",
    "con = lite.connect('database.db')\n",
    "con.text_factory = str\n",
    "print \"Opened database successfully\"\n",
    "cur = con.cursor()  \n",
    "cur.execute('''CREATE TABLE STEP8ZEROFIX\n",
    "(authid text, authorlink text, fullname text, othernames text, doccount text, cites text, coauthor text)''')\n",
    "row_nb = 0\n",
    "for row in reader:\n",
    "    if row_nb ==0:\n",
    "        row_nb += 1\n",
    "        continue\n",
    "    else:\n",
    "        row_nb += 1\n",
    "        cur.execute(\"INSERT INTO STEP8ZEROFIX VALUES (?,?,?,?,?,?,?)\", (row[0], row[1],row[2],row[3],row[5],row[6],row[7])) \n",
    "print \"Done\"\n",
    "print datetime.datetime.now()\n",
    "con.commit()\n",
    "con.close()"
   ]
  },
  {
   "cell_type": "code",
   "execution_count": null,
   "metadata": {
    "collapsed": true
   },
   "outputs": [],
   "source": []
  },
  {
   "cell_type": "code",
   "execution_count": 20,
   "metadata": {
    "collapsed": false
   },
   "outputs": [
    {
     "name": "stdout",
     "output_type": "stream",
     "text": [
      "2017-02-16 13:54:06.071000\n",
      "Opened database successfully\n",
      "Done\n",
      "2017-02-16 13:54:06.461000\n"
     ]
    }
   ],
   "source": [
    "import sqlite3 as lite\n",
    "import sys\n",
    "import datetime\n",
    "print datetime.datetime.now()\n",
    "con = lite.connect('database.db')\n",
    "print \"Opened database successfully\"\n",
    "with con:\n",
    "    \n",
    "    cur = con.cursor()     \n",
    "    cur.execute('''UPDATE STEP8 SET cites = '0' WHERE doccount =='4' AND cites LIKE '%to%' ''')\n",
    "   \n",
    "    \n",
    "print \"Done\"\n",
    "print datetime.datetime.now()\n",
    "con.commit()\n",
    "con.close()"
   ]
  },
  {
   "cell_type": "code",
   "execution_count": null,
   "metadata": {
    "collapsed": true
   },
   "outputs": [],
   "source": []
  },
  {
   "cell_type": "code",
   "execution_count": 11,
   "metadata": {
    "collapsed": false
   },
   "outputs": [
    {
     "name": "stdout",
     "output_type": "stream",
     "text": [
      "2017-02-16 13:41:47.662000\n",
      "Opened database successfully\n",
      "Done with creating SQL table\n"
     ]
    }
   ],
   "source": [
    "import csv\n",
    "import sys\n",
    "import sqlite3 #for SQLite\n",
    "import datetime\n",
    "\n",
    "csv.field_size_limit(sys.maxint) #to avoid too long field error\n",
    "print datetime.datetime.now()\n",
    "\n",
    "#open the csv file as input\n",
    "infile = open('step5_extract_authorID.csv','rb')\n",
    "reader = csv.reader(infile, delimiter ='|', quotechar = ' ', quoting = csv.QUOTE_ALL)\n",
    "#connect to the database and create the table\n",
    "conn = sqlite3.connect('database.db')\n",
    "conn.text_factory = str #to accept also strange characters \n",
    "print \"Opened database successfully\";\n",
    "cursor = conn.cursor()\n",
    "cursor.execute('''CREATE TABLE STEP5\n",
    "(paper_ID text, year text, paperlink text, author text,  authorlink text, authid text)''')\n",
    "row_nb = 0\n",
    "for row in reader:\n",
    "    if row_nb == 0:\n",
    "        row_nb += 1\n",
    "        continue\n",
    "    else:\n",
    "        row_nb += 1\n",
    "        cursor.execute(\"INSERT INTO STEP5 VALUES (?,?,?,?,?,?)\",(row[0], row[1],row[2],row[3],row[4],row[5]))\n",
    "print \"Done with creating SQL table\"\n",
    "\n",
    "conn.commit()\n",
    "conn.close()\n"
   ]
  },
  {
   "cell_type": "code",
   "execution_count": null,
   "metadata": {
    "collapsed": true
   },
   "outputs": [],
   "source": []
  },
  {
   "cell_type": "code",
   "execution_count": null,
   "metadata": {
    "collapsed": true
   },
   "outputs": [],
   "source": []
  },
  {
   "cell_type": "code",
   "execution_count": null,
   "metadata": {
    "collapsed": true
   },
   "outputs": [],
   "source": []
  },
  {
   "cell_type": "code",
   "execution_count": null,
   "metadata": {
    "collapsed": true
   },
   "outputs": [],
   "source": []
  },
  {
   "cell_type": "code",
   "execution_count": null,
   "metadata": {
    "collapsed": true
   },
   "outputs": [],
   "source": []
  },
  {
   "cell_type": "code",
   "execution_count": null,
   "metadata": {
    "collapsed": true
   },
   "outputs": [],
   "source": []
  },
  {
   "cell_type": "code",
   "execution_count": null,
   "metadata": {
    "collapsed": true
   },
   "outputs": [],
   "source": []
  },
  {
   "cell_type": "code",
   "execution_count": null,
   "metadata": {
    "collapsed": true
   },
   "outputs": [],
   "source": []
  },
  {
   "cell_type": "code",
   "execution_count": null,
   "metadata": {
    "collapsed": true
   },
   "outputs": [],
   "source": []
  },
  {
   "cell_type": "code",
   "execution_count": null,
   "metadata": {
    "collapsed": true
   },
   "outputs": [],
   "source": []
  }
 ],
 "metadata": {
  "anaconda-cloud": {},
  "kernelspec": {
   "display_name": "Python [conda root]",
   "language": "python",
   "name": "conda-root-py"
  },
  "language_info": {
   "codemirror_mode": {
    "name": "ipython",
    "version": 2
   },
   "file_extension": ".py",
   "mimetype": "text/x-python",
   "name": "python",
   "nbconvert_exporter": "python",
   "pygments_lexer": "ipython2",
   "version": "2.7.12"
  }
 },
 "nbformat": 4,
 "nbformat_minor": 1
}
