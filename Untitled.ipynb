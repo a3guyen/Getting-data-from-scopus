{
 "cells": [
  {
   "cell_type": "code",
   "execution_count": 21,
   "metadata": {
    "collapsed": false
   },
   "outputs": [
    {
     "name": "stdout",
     "output_type": "stream",
     "text": [
      "2017-02-14 12:23:12.717000\n",
      "[u'102 Documents', u'Cited by 2139 documents ', u'150 co-authors102 documentsView all in search results formatSort on:Export all', u'Add all to list', u'Set document alert', u'Set document feed2139 documentsView all in search results format', u'Add all to list', u'Set citation alert']\n",
      "102\n",
      "2139\n",
      "[u'150', u'co-authors102', u'documentsView', u'all', u'in', u'search', u'results', u'formatSort', u'on:Export', u'all']\n",
      "150\n",
      "Done\n"
     ]
    }
   ],
   "source": [
    "import re\n",
    "import requests\n",
    "from bs4 import BeautifulSoup\n",
    "import csv\n",
    "import datetime\n",
    "import sys\n",
    "csv.field_size_limit(sys.maxint)\n",
    "print datetime.datetime.now()\n",
    "url = 'https://www.scopus.com/authid/detail.uri?authorId=35562859800&amp;eid=2-s2.0-78649333298'\n",
    "r = requests.get(url)\n",
    "soup = BeautifulSoup(r.content)\n",
    "doc = soup.find_all(\"div\", {\"id\": \"tabs\"},{\"data-count\"})\n",
    "x= doc[0].text.replace('\\n','').split(\"|\")\n",
    "print x\n",
    "\n",
    "#getting number of documents - doccount\n",
    "y1= x[0].split(' ')\n",
    "doccount = y1[0]\n",
    "print y1[0]\n",
    "# getting number of citations - citecount\n",
    "y2= x[1].split(' ')\n",
    "citecount = y2[2]\n",
    "print y2[2]\n",
    "#getting number of coauthcount \n",
    "y3= x[2].split(' ')\n",
    "print y3\n",
    "print y3[0]\n",
    "\n",
    "print \"Done\"\n",
    "\n"
   ]
  },
  {
   "cell_type": "code",
   "execution_count": 11,
   "metadata": {
    "collapsed": false
   },
   "outputs": [
    {
     "name": "stdout",
     "output_type": "stream",
     "text": [
      "2017-02-14 11:38:47.535000\n",
      "277\n"
     ]
    }
   ],
   "source": [
    "import csv\n",
    "import sys\n",
    "import datetime\n",
    "['authid', 'authorlink', 'fullname', 'othernames', 'currentaffi', 'currentaffi_short', 'doccount', 'cites', 'coauthor', 'subject']\n",
    "csv.field_size_limit(sys.maxint) #to avoid too long field error\n",
    "print datetime.datetime.now()\n",
    "infile = open('step8_authorprofile_modified.csv', 'rb')\n",
    "reader = csv.reader(infile, delimiter='|', quotechar=' ')\n",
    "nb =0\n",
    "nb0 =0\n",
    "for row in reader:\n",
    "    try:\n",
    "        y = float(row[7])\n",
    "        if y == 0:\n",
    "            nb0 += 1\n",
    "    except:\n",
    "        nb += 1\n",
    "print nb0"
   ]
  },
  {
   "cell_type": "code",
   "execution_count": 23,
   "metadata": {
    "collapsed": false
   },
   "outputs": [
    {
     "name": "stdout",
     "output_type": "stream",
     "text": [
      "2017-02-14 13:45:45.205000\n",
      "Opened database successfully\n",
      "Done with creating SQL table\n"
     ]
    }
   ],
   "source": [
    "import csv\n",
    "import sys\n",
    "import sqlite3 #for SQLite\n",
    "import datetime\n",
    "\n",
    "csv.field_size_limit(sys.maxint) #to avoid too long field error\n",
    "print datetime.datetime.now()\n",
    "\n",
    "#open the csv file as input\n",
    "infile = open('step8_NZaffiliation_Nick.csv','rb')\n",
    "reader = csv.reader(infile, delimiter ='|', quotechar = ' ', quoting = csv.QUOTE_ALL)\n",
    "#connect to the database and create the table\n",
    "conn = sqlite3.connect('database_anh.db')\n",
    "conn.text_factory = str #to accept also strange characters \n",
    "print \"Opened database successfully\";\n",
    "cursor = conn.cursor()\n",
    "cursor.execute('''CREATE TABLE STEP8NZ\n",
    "(authid int, authorlink text, fullname text, othernames text, currentaffi text, currentaffi_short text, doccount int, cites int, coauthor int, subject text)''')\n",
    "\n",
    "row_nb = 0\n",
    "for row in reader:\n",
    "    if row_nb == 0:\n",
    "        row_nb += 1\n",
    "        continue\n",
    "    else:\n",
    "        email = row[4].replace('mailto:','')\n",
    "        row_nb += 1\n",
    "        try:\n",
    "            y = float(row[6])\n",
    "            if y !=0:\n",
    "                cursor.execute(\"INSERT INTO STEP8NZ VALUES (?,?,?,?,?,?,?,?,?,?)\",(row[0],row[1],row[2],row[3],row[4],row[5],row[6],row[7],row[8],row[9]))\n",
    "        except:\n",
    "            pass\n",
    "print \"Done with creating SQL table\"\n",
    "conn.commit()\n",
    "conn.close()\n",
    "\n",
    "\n"
   ]
  },
  {
   "cell_type": "code",
   "execution_count": null,
   "metadata": {
    "collapsed": true
   },
   "outputs": [],
   "source": []
  }
 ],
 "metadata": {
  "anaconda-cloud": {},
  "kernelspec": {
   "display_name": "Python 2",
   "language": "python",
   "name": "python2"
  },
  "language_info": {
   "codemirror_mode": {
    "name": "ipython",
    "version": 2
   },
   "file_extension": ".py",
   "mimetype": "text/x-python",
   "name": "python",
   "nbconvert_exporter": "python",
   "pygments_lexer": "ipython2",
   "version": "2.7.13"
  }
 },
 "nbformat": 4,
 "nbformat_minor": 1
}
