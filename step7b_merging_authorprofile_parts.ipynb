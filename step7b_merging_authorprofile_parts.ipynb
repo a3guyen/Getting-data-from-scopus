{
 "cells": [
  {
   "cell_type": "markdown",
   "metadata": {
    "collapsed": false
   },
   "source": [
    "THIS CODE TAKES UNIQUE authid ONLY\n",
    "import csv\n",
    "from collections import OrderedDict\n",
    "\n",
    "filenames = \"step5_extract_authorID.csv\", \"step7_authorprofile_part1.csv\"\n",
    "data = OrderedDict()\n",
    "fieldnames = []\n",
    "for filename in filenames:\n",
    "    with open(filename, \"rb\") as fp: # python 2\n",
    "        reader = csv.DictReader(fp,delimiter = '|', quotechar=' ',quoting = csv.QUOTE_ALL)\n",
    "        fieldnames.extend(reader.fieldnames)\n",
    "        for row in reader:\n",
    "            data.setdefault(row['authid'],{}).update(row)\n",
    "\n",
    "fieldnames = list(OrderedDict.fromkeys(fieldnames))\n",
    "with open(\"merged.csv\", \"wb\") as fp:\n",
    "    writer = csv.writer(fp,delimiter = '|', quotechar=' ', quoting = csv.QUOTE_ALL)\n",
    "    writer.writerow(fieldnames)\n",
    "    for row in data.itervalues():\n",
    "        writer.writerow([row.get(field, '') for field in fieldnames])\n",
    "print \"Done with merging two files\"\n",
    "step7 ['authid', 'authorlink', 'fullname', 'othernames', 'currentaffi', 'doccount', 'cites', 'coauthor', 'subject']\n",
    "step5 ['paper_ID', 'year', 'paperlink', 'author', 'authorlink', 'authid']"
   ]
  },
  {
   "cell_type": "code",
   "execution_count": 1,
   "metadata": {
    "collapsed": false
   },
   "outputs": [
    {
     "name": "stdout",
     "output_type": "stream",
     "text": [
      "Wait a minute!\n",
      "Done. Number of output: 175765\n",
      "2017-02-13 11:37:44.504000\n",
      "['authid', 'authorlink', 'fullname', 'othernames', 'currentaffi', 'doccount', 'cites', 'coauthor', 'subject']\n",
      "['54893381000', 'https://www.scopus.com/authid/detail.uri?authorId=54893381000&amp;eid=2-s2.0-84940951649', 'Krueger, Thomas', 'Krueger, T.;', 'Ecole Polytechnique Federale de Lausanne, Civil and Environmental Engineering (ENAC),Lausanne,Switzerland', '9', '33', '10', 'Agricultural and Biological Sciences,\\xc2\\xa0Biochemistry, Genetics and Molecular Biology,\\xc2\\xa0Medicine ']\n",
      "['55485748100', 'https://www.scopus.com/authid/detail.uri?authorId=55485748100&amp;eid=2-s2.0-84940951649', 'Hawkins, Thomas D.', 'Hawkins, T. D.;', 'University of Delaware, School of Marine Science and Policy,Newark,United States', '9', '37', '14', 'Biochemistry, Genetics and Molecular Biology,\\xc2\\xa0Agricultural and Biological Sciences,\\xc2\\xa0Medicine,\\xc2\\xa0Immunology and Microbiology ']\n",
      "['36898361500', 'https://www.scopus.com/authid/detail.uri?authorId=36898361500&amp;eid=2-s2.0-84940951649', 'Becker, Susanne A W E', 'Becker, S.;Becker, Susanne;Becker, S. A W E;', 'Victoria University of Wellington, School of Biological Sciences,Wellington,New Zealand', '45', '588', '150', 'Biochemistry, Genetics and Molecular Biology,\\xc2\\xa0Medicine,\\xc2\\xa0Materials Science,\\xc2\\xa0Agricultural and Biological Sciences,\\xc2\\xa0Chemistry,\\xc2\\xa0Veterinary,\\xc2\\xa0Neuroscience,\\xc2\\xa0Pharmacology, Toxicology and Pharmaceutics,\\xc2\\xa0Environmental Science,\\xc2\\xa0Chemical Engineering,\\xc2\\xa0Engineering,\\xc2\\xa0Immunology and Microbiology,\\xc2\\xa0Multidisciplinary ']\n",
      "Nb_row: 175760\n",
      "2017-02-13 11:37:45.114000\n"
     ]
    }
   ],
   "source": [
    "# merging all results from step7\n",
    "import glob\n",
    "import csv\n",
    "interesting_files = glob.glob(\"step7_authorprofile_part*.csv\") \n",
    "print \"Wait a minute!\"\n",
    "print datetime.datetime.now()\n",
    "#header_saved = False\n",
    "nb_line_output = 0\n",
    "nb_line = 0\n",
    "listid = []\n",
    "outfile = open('step7_authorprofile_all.csv','wb')\n",
    "writer = csv.writer(outfile, delimiter = '|', quotechar=' ', quoting = csv.QUOTE_ALL)\n",
    "writer.writerow(['authid','authorlink','fullname','othernames','currentaffi','doccount','cites','coauthor','subject'])\n",
    "for filename in interesting_files:\n",
    "    infile = open(filename,'rb')\n",
    "    reader = csv.reader(infile, delimiter ='|', quotechar = ' ',quoting = csv.QUOTE_ALL)\n",
    "    for line in reader:\n",
    "        if 'authid' in line:\n",
    "            continue\n",
    "        elif line[0] not in listid:\n",
    "            listid.append(line[0])\n",
    "            writer.writerow(line)\n",
    "            nb_line_output +=1\n",
    "\n",
    "print \"Done. Number of output:\", nb_line_output\n",
    "\n",
    "import csv\n",
    "import sys\n",
    "import datetime\n",
    "\n",
    "csv.field_size_limit(sys.maxint) #to avoid too long field error\n",
    "print datetime.datetime.now()\n",
    "outfile = open('step7_authorprofile_all.csv', 'rb')\n",
    "readerTest = csv.reader(outfile,delimiter ='|', quotechar = ' ',quoting = csv.QUOTE_ALL)\n",
    "nb_row = 0\n",
    "no_aff = 0\n",
    "for row in readerTest:\n",
    "    nb_row += 1\n",
    "    if nb_row < 5:\n",
    "        print row\n",
    "print \"Nb_row: %d\" %(nb_row)\n",
    "\n",
    "outfile.close()\n",
    "print datetime.datetime.now()"
   ]
  },
  {
   "cell_type": "code",
   "execution_count": null,
   "metadata": {
    "collapsed": false
   },
   "outputs": [],
   "source": []
  },
  {
   "cell_type": "code",
   "execution_count": null,
   "metadata": {
    "collapsed": false
   },
   "outputs": [],
   "source": []
  },
  {
   "cell_type": "code",
   "execution_count": null,
   "metadata": {
    "collapsed": true
   },
   "outputs": [],
   "source": []
  },
  {
   "cell_type": "code",
   "execution_count": null,
   "metadata": {
    "collapsed": true
   },
   "outputs": [],
   "source": []
  }
 ],
 "metadata": {
  "anaconda-cloud": {},
  "kernelspec": {
   "display_name": "Python [conda root]",
   "language": "python",
   "name": "conda-root-py"
  },
  "language_info": {
   "codemirror_mode": {
    "name": "ipython",
    "version": 2
   },
   "file_extension": ".py",
   "mimetype": "text/x-python",
   "name": "python",
   "nbconvert_exporter": "python",
   "pygments_lexer": "ipython2",
   "version": "2.7.12"
  }
 },
 "nbformat": 4,
 "nbformat_minor": 1
}
