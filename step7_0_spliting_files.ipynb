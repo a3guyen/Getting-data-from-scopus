{
 "cells": [
  {
   "cell_type": "code",
   "execution_count": 2,
   "metadata": {
    "collapsed": false
   },
   "outputs": [
    {
     "name": "stdout",
     "output_type": "stream",
     "text": [
      "Done\n"
     ]
    }
   ],
   "source": [
    "import csv\n",
    "csvfile = open('step6_unique_http_all.csv', 'r').readlines()\n",
    "filename = 1\n",
    "for i in range(len(csvfile)):\n",
    "    if i % 25000 == 0:\n",
    "        with open(str(filename) + '.csv', 'w+') as output:\n",
    "             writer = csv.writer(output, delimiter=',', quotechar=' ', quoting=csv.QUOTE_ALL)\n",
    "             writer.writerow(['paper_ID','year', 'link'])\n",
    "             output.writelines(csvfile[i:i+25000])\n",
    "             filename += 1\n",
    "print \"Done\""
   ]
  },
  {
   "cell_type": "code",
   "execution_count": null,
   "metadata": {
    "collapsed": true
   },
   "outputs": [],
   "source": []
  }
 ],
 "metadata": {
  "anaconda-cloud": {},
  "kernelspec": {
   "display_name": "Python [conda root]",
   "language": "python",
   "name": "conda-root-py"
  },
  "language_info": {
   "codemirror_mode": {
    "name": "ipython",
    "version": 2
   },
   "file_extension": ".py",
   "mimetype": "text/x-python",
   "name": "python",
   "nbconvert_exporter": "python",
   "pygments_lexer": "ipython2",
   "version": "2.7.12"
  }
 },
 "nbformat": 4,
 "nbformat_minor": 1
}
