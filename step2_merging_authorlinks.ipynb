{
 "cells": [
  {
   "cell_type": "code",
   "execution_count": 1,
   "metadata": {
    "collapsed": false
   },
   "outputs": [
    {
     "name": "stdout",
     "output_type": "stream",
     "text": [
      "Wait a minute!\n",
      "Done.\n",
      "Nb_line_output:654217.\n",
      "Nb_line_input:1772370.\n",
      "Nb_dup:62\n",
      "Something wrong\n",
      "2017-02-06 14:22:45.063000\n"
     ]
    },
    {
     "ename": "IOError",
     "evalue": "[Errno 2] No such file or directory: 'C:/Users/AUGN392/Downloads/scopus_all/step2_authorlinks.csv'",
     "output_type": "error",
     "traceback": [
      "\u001b[0;31m---------------------------------------------------------------------------\u001b[0m",
      "\u001b[0;31mIOError\u001b[0m                                   Traceback (most recent call last)",
      "\u001b[0;32m<ipython-input-1-2207972106cc>\u001b[0m in \u001b[0;36m<module>\u001b[0;34m()\u001b[0m\n\u001b[1;32m     40\u001b[0m \u001b[0mcsv\u001b[0m\u001b[1;33m.\u001b[0m\u001b[0mfield_size_limit\u001b[0m\u001b[1;33m(\u001b[0m\u001b[0msys\u001b[0m\u001b[1;33m.\u001b[0m\u001b[0mmaxint\u001b[0m\u001b[1;33m)\u001b[0m \u001b[1;31m#to avoid too long field error\u001b[0m\u001b[1;33m\u001b[0m\u001b[0m\n\u001b[1;32m     41\u001b[0m \u001b[1;32mprint\u001b[0m \u001b[0mdatetime\u001b[0m\u001b[1;33m.\u001b[0m\u001b[0mdatetime\u001b[0m\u001b[1;33m.\u001b[0m\u001b[0mnow\u001b[0m\u001b[1;33m(\u001b[0m\u001b[1;33m)\u001b[0m\u001b[1;33m\u001b[0m\u001b[0m\n\u001b[0;32m---> 42\u001b[0;31m \u001b[0moutfile\u001b[0m \u001b[1;33m=\u001b[0m \u001b[0mopen\u001b[0m\u001b[1;33m(\u001b[0m\u001b[1;34m'C:/Users/AUGN392/Downloads/scopus_all/step2_authorlinks.csv'\u001b[0m\u001b[1;33m,\u001b[0m \u001b[1;34m'rb'\u001b[0m\u001b[1;33m)\u001b[0m\u001b[1;33m\u001b[0m\u001b[0m\n\u001b[0m\u001b[1;32m     43\u001b[0m \u001b[0mreaderTest\u001b[0m \u001b[1;33m=\u001b[0m \u001b[0mcsv\u001b[0m\u001b[1;33m.\u001b[0m\u001b[0mreader\u001b[0m\u001b[1;33m(\u001b[0m\u001b[0moutfile\u001b[0m\u001b[1;33m)\u001b[0m\u001b[1;33m\u001b[0m\u001b[0m\n\u001b[1;32m     44\u001b[0m \u001b[0mnb_row\u001b[0m \u001b[1;33m=\u001b[0m \u001b[1;36m0\u001b[0m\u001b[1;33m\u001b[0m\u001b[0m\n",
      "\u001b[0;31mIOError\u001b[0m: [Errno 2] No such file or directory: 'C:/Users/AUGN392/Downloads/scopus_all/step2_authorlinks.csv'"
     ]
    }
   ],
   "source": [
    "# -*- coding: utf-8 -*-\n",
    "import glob\n",
    "\n",
    "interesting_files = glob.glob(\"authorlink_part*.csv\") \n",
    "print \"Wait a minute!\"\n",
    "listLines = []\n",
    "nb_line = 0\n",
    "with open('step2_authorlinks.csv','wb') as fout:\n",
    "    for filename in interesting_files:\n",
    "        with open(filename) as fin:\n",
    "            for line in fin:\n",
    "                nb_line +=1\n",
    "                #if nb_line <10:\n",
    "                    \n",
    "                    if line in listLines: #To be optimized: Line is too long. Verifying a line duplication based on the whole line is therefore costly (slow down).\n",
    "                                          #Instead of using line, you can use uniquely the field \"Title\" (article's title) if it CAN DIFFERENTIATE one line to another ==> HOMEWORK. Hint: \"Title\" = line[1]\n",
    "                        continue\n",
    "                    else:\n",
    "                        listLines.append(line)\n",
    "                        fout.write(line)\n",
    "                        \n",
    "print \"Done\"\n",
    "\n",
    "\n",
    "import csv\n",
    "import sys\n",
    "import datetime\n",
    "\n",
    "csv.field_size_limit(sys.maxint) #to avoid too long field error\n",
    "print datetime.datetime.now()\n",
    "outfile = open('step2_authorlinks.csv', 'rb')\n",
    "readerTest = csv.reader(outfile)\n",
    "nb_row = 0\n",
    "no_aff = 0\n",
    "for row in readerTest:\n",
    "    nb_row += 1\n",
    "    if nb_row < 5:\n",
    "        print row\n",
    "        print row[14]\n",
    "    if row[14] == '':\n",
    "        no_aff += 1\n",
    "    \n",
    "print \"Nb_row: %d\" %(nb_row)\n",
    "print no_aff\n",
    "outfile.close()\n",
    "print datetime.datetime.now()"
   ]
  },
  {
   "cell_type": "code",
   "execution_count": null,
   "metadata": {
    "collapsed": true
   },
   "outputs": [],
   "source": []
  }
 ],
 "metadata": {
  "anaconda-cloud": {},
  "kernelspec": {
   "display_name": "Python 2",
   "language": "python",
   "name": "python2"
  },
  "language_info": {
   "codemirror_mode": {
    "name": "ipython",
    "version": 2
   },
   "file_extension": ".py",
   "mimetype": "text/x-python",
   "name": "python",
   "nbconvert_exporter": "python",
   "pygments_lexer": "ipython2",
   "version": "2.7.13"
  }
 },
 "nbformat": 4,
 "nbformat_minor": 1
}
