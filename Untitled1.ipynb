{
 "cells": [
  {
   "cell_type": "code",
   "execution_count": 3,
   "metadata": {
    "collapsed": false
   },
   "outputs": [
    {
     "name": "stdout",
     "output_type": "stream",
     "text": [
      "2017-02-14 11:00:34.776000\n",
      "Please wait\n",
      "Total number of lines in output: 44014\n"
     ]
    }
   ],
   "source": [
    "import csv\n",
    "import sys\n",
    "import sqlite3 #for SQLite\n",
    "import datetime\n",
    "\n",
    "csv.field_size_limit(sys.maxint) #to avoid too long field error\n",
    "print datetime.datetime.now()\n",
    "\n",
    "#open the csv file as input\n",
    "infile = open('step8_authorprofile_modified.csv','rb')\n",
    "reader = csv.reader(infile, delimiter ='|', quotechar = ' ', quoting = csv.QUOTE_ALL)\n",
    "#connect to the database and create the table\n",
    "outfile = open('step8_NZaffiliation_Nick.csv','wb')\n",
    "writer = csv.writer(outfile,delimiter='|', quotechar=' ', quoting=csv.QUOTE_ALL )\n",
    "writer.writerow(['authid','authorlink','fullname','othernames','currentaffi','currentaffi_short','doccount','cites','coauthor','subject'])\n",
    "line_nb = 0 \n",
    "print 'Please wait'\n",
    "for row in reader:\n",
    "    if line_nb == 0: \n",
    "        line_nb += 1\n",
    "        continue\n",
    "    #if line_nb < 10:\n",
    "    elif 'Zealand' in row[4]:\n",
    "        writer.writerow(row)\n",
    "        line_nb += 1\n",
    "    \n",
    "print 'Total number of lines in output:', line_nb\n",
    "outfile.close()\n",
    "\n"
   ]
  },
  {
   "cell_type": "code",
   "execution_count": null,
   "metadata": {
    "collapsed": true
   },
   "outputs": [],
   "source": []
  }
 ],
 "metadata": {
  "anaconda-cloud": {},
  "kernelspec": {
   "display_name": "Python 2",
   "language": "python",
   "name": "python2"
  },
  "language_info": {
   "codemirror_mode": {
    "name": "ipython",
    "version": 2
   },
   "file_extension": ".py",
   "mimetype": "text/x-python",
   "name": "python",
   "nbconvert_exporter": "python",
   "pygments_lexer": "ipython2",
   "version": "2.7.13"
  }
 },
 "nbformat": 4,
 "nbformat_minor": 1
}
