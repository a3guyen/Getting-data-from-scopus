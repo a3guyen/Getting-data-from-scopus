{
 "cells": [
  {
   "cell_type": "code",
   "execution_count": 1,
   "metadata": {
    "collapsed": false
   },
   "outputs": [
    {
     "name": "stdout",
     "output_type": "stream",
     "text": [
      "2017-02-15 16:12:05.181000\n"
     ]
    }
   ],
   "source": [
    "import re\n",
    "import requests\n",
    "from bs4 import BeautifulSoup\n",
    "import csv\n",
    "import datetime\n",
    "import sys\n",
    "csv.field_size_limit(sys.maxint)\n",
    "print datetime.datetime.now()\n",
    "reload(sys)\n",
    "sys.setdefaultencoding('utf8')\n",
    "csv.field_size_limit(sys.maxint)\n",
    "infile = open('step3_author_https.csv','r')\n",
    "reader = csv.reader(infile, delimiter ='|', quotechar = ' ',quoting = csv.QUOTE_ALL)\n",
    "outfile1 = open('step5_extract_authorID.csv','wb')\n",
    "writer1 = csv.writer(outfile1, delimiter = '|', quotechar=' ', quoting = csv.QUOTE_ALL)\n",
    "writer1.writerow(['year','paperlink','author','authorlink','authid'])\n",
    "nb_line = 0\n",
    "for row in reader:\n",
    "    if nb_line == 0:\n",
    "        nb_line += 1\n",
    "        continue\n",
    "    #if nb_line < 100:\n",
    "    else:\n",
    "        for line in row:\n",
    "            if 'authorId' in line:\n",
    "                nb_line += 1\n",
    "                atpos = line.find('authorId=')\n",
    "                sppos = line.find('&amp')\n",
    "                authid = line[atpos+9 : sppos]            \n",
    "                writer1.writerow([row[1],row[2],row[3],row[4],authid])\n",
    "        \n",
    "print \"Done with extracting authorId\"\n",
    "print \"No of lines: \", nb_line\n",
    "print datetime.datetime.now()\n"
   ]
  },
  {
   "cell_type": "code",
   "execution_count": 1,
   "metadata": {
    "collapsed": false
   },
   "outputs": [
    {
     "name": "stdout",
     "output_type": "stream",
     "text": [
      "54893381000\n"
     ]
    }
   ],
   "source": [
    "line = ' https://www.scopus.com/authid/detail.uri?authorId=54893381000&amp;eid=2-s2.0-84940951649 '\n",
    "atpos = line.find('authorId=')\n",
    "sppos = line.find('&amp')\n",
    "authid = line[atpos+9 : sppos]\n",
    "print authid\n"
   ]
  },
  {
   "cell_type": "code",
   "execution_count": 3,
   "metadata": {
    "collapsed": false
   },
   "outputs": [],
   "source": [
    "import re\n",
    "import requests\n",
    "from bs4 import BeautifulSoup\n",
    "import csv\n",
    "import datetime\n",
    "import sys\n",
    "csv.field_size_limit(sys.maxint)\n",
    "print datetime.datetime.now()\n",
    "reload(sys)\n",
    "csv.field_size_limit(sys.maxint)\n",
    "infile = open('step5_extract_authorID.csv','r')\n",
    "reader = csv.reader(infile, delimiter ='|', quotechar = ' ',quoting = csv.QUOTE_ALL)\n",
    "outfile1 = open('step5b_extract_paperID.csv','wb')\n",
    "writer1 = csv.writer(outfile1, delimiter = '|', quotechar=' ', quoting = csv.QUOTE_ALL)\n",
    "writer1.writerow(['paperid','year','paperlink','author','authorlink','authid'])\n",
    "nb_line = 0\n",
    "for row in reader:\n",
    "    if nb_line == 0:\n",
    "        nb_line += 1\n",
    "        continue\n",
    "    #if nb_line < 100:\n",
    "    else:\n",
    "        for line in row:\n",
    "            if 'eid=2-s2.0-' in line:\n",
    "                nb_line += 1\n",
    "                atpos = line.find('eid=2-s2.0-')\n",
    "                sppos = line.find('&')\n",
    "                paperid = line[atpos+11 : sppos]    \n",
    "                if paperid != '':\n",
    "                    writer1.writerow([paperid,row[0],row[1],row[2],row[3],row[4]])\n",
    "                \n",
    "        \n",
    "print \"Done with extracting authorId\"\n",
    "print \"No of lines: \", nb_line\n",
    "print datetime.datetime.now()"
   ]
  },
  {
   "cell_type": "code",
   "execution_count": null,
   "metadata": {
    "collapsed": true
   },
   "outputs": [],
   "source": []
  }
 ],
 "metadata": {
  "anaconda-cloud": {},
  "kernelspec": {
   "display_name": "Python [conda root]",
   "language": "python",
   "name": "conda-root-py"
  },
  "language_info": {
   "codemirror_mode": {
    "name": "ipython",
    "version": 2
   },
   "file_extension": ".py",
   "mimetype": "text/x-python",
   "name": "python",
   "nbconvert_exporter": "python",
   "pygments_lexer": "ipython2",
   "version": "2.7.12"
  }
 },
 "nbformat": 4,
 "nbformat_minor": 1
}
