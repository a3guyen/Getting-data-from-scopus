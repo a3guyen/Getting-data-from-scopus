{
 "cells": [
  {
   "cell_type": "code",
   "execution_count": 21,
   "metadata": {
    "collapsed": false
   },
   "outputs": [
    {
     "name": "stdout",
     "output_type": "stream",
     "text": [
      "['', 'authid', 'authorlink', 'fullname', 'othernames', 'currentaffi', 'currentaffi_short', 'doccount_x', 'cites_x', 'coauthor_x', 'subject']\n",
      "['14872', '56424171900', 'https://www.scopus.com/authid/detail.uri?authorId=56424171900&amp;eid=2-s2.0-84942551376', 'Chen, T. H.', '', ' ', '', '1', '11', '85', 'Medicine; Neuroscience; Biochemistry; Genetics and Molecular Biology; ']\n",
      "['14886', '56425003300', 'https://www.scopus.com/authid/detail.uri?authorId=56425003300&amp;eid=2-s2.0-84942551376', 'Robbins, J.', '', ' ', '', '1', '11', '85', 'Medicine; Neuroscience; Biochemistry; Genetics and Molecular Biology; ']\n",
      "['19728', '56868675400', 'https://www.scopus.com/authid/detail.uri?authorId=56868675400&amp;eid=2-s2.0-84942243881', 'Sharafeldin, Noha', '', 'University of Alberta, School of Public Health,Edmonton,Canada', 'Canada', '1', '3', '6', 'Medicine; Biochemistry; Genetics and Molecular Biology; ']\n",
      "175764\n"
     ]
    }
   ],
   "source": [
    "import csv\n",
    "import sys\n",
    "csv.field_size_limit(sys.maxint)\n",
    "def read_file(self):\n",
    "    with open(self, 'r') as f:\n",
    "        data = [row for row in csv.reader(f.read().splitlines())]\n",
    "    return data\n",
    "\n",
    "#day la file code to chuyen dung de test cac file input truoc khi lam gi thi lam\n",
    "#infile = open('output_step1_add_papertitle.csv', 'rbU')\n",
    "#infile = open('long.csv', 'rbU')\n",
    "#infile = open('outfile1.csv', 'rb')\n",
    "#infile = open('outfile_authorID_author.csv', 'rb')\n",
    "#infile = open('output.csv', 'rb')#\n",
    "#infile = open('Allaffiliation2013.csv', 'rb')\n",
    "#infile = open('step3_author_https.csv','rb')\n",
    "#infile = open('output_ALL_short_aff.csv', 'rb')\n",
    "#infile = open('result1.csv', 'rb')\n",
    "#infile = open('output_NZ_method123.csv','rb')\n",
    "#infile = open('output_step0_9K_14K.csv', 'rb')\n",
    "#infile = open('New-Zealand-2013.csv', 'rb')\n",
    "#infile = open('New-Zealand-2013_new.csv', 'rb')\n",
    "#infile = open('output_NZ.csv', 'rb')\n",
    "#infile = open('1_extract_infor.csv','rb')\n",
    "#infile = open('output_NZ_short_aff.csv','rb')\n",
    "#infile = open('name_affiliation_NZ_distinct.csv','rb')\n",
    "#infile = open('merged.csv','rb')\n",
    "infile = open('file_name1.csv','rb')\n",
    "reader = csv.reader(infile)#, delimiter = ',', quotechar=' ')\n",
    "#reader = csv.reader(infile, delimiter = '|', quotechar=' ')\n",
    "\n",
    "#reader = read_file('long.csv')\n",
    "#reader = read_file('scopus1.csv')\n",
    "row_nb = 0\n",
    "\n",
    "for row in reader:\n",
    "    row_nb +=1\n",
    "    if row_nb < 5:\n",
    "        print row\n",
    "\n",
    "\n",
    "print row_nb\n",
    "infile.close()\n",
    "\n"
   ]
  },
  {
   "cell_type": "markdown",
   "metadata": {
    "collapsed": false
   },
   "source": [
    "['authid', 'authorlink', 'fullname', 'othernames', 'currentaffi', 'doccount', 'cites', 'coauthor', 'subject'] step 7\n",
    "['paper_ID', 'year', 'paperlink', 'author', 'authorlink', 'authid'] step5"
   ]
  },
  {
   "cell_type": "code",
   "execution_count": 1,
   "metadata": {
    "collapsed": false
   },
   "outputs": [
    {
     "ename": "SyntaxError",
     "evalue": "invalid syntax (<ipython-input-1-2a498f4d1455>, line 1)",
     "output_type": "error",
     "traceback": [
      "\u001b[0;36m  File \u001b[0;32m\"<ipython-input-1-2a498f4d1455>\"\u001b[0;36m, line \u001b[0;32m1\u001b[0m\n\u001b[0;31m    pip install sqlalchemy xlrd\u001b[0m\n\u001b[0m              ^\u001b[0m\n\u001b[0;31mSyntaxError\u001b[0m\u001b[0;31m:\u001b[0m invalid syntax\n"
     ]
    }
   ],
   "source": []
  },
  {
   "cell_type": "code",
   "execution_count": null,
   "metadata": {
    "collapsed": true
   },
   "outputs": [],
   "source": []
  }
 ],
 "metadata": {
  "anaconda-cloud": {},
  "kernelspec": {
   "display_name": "Python 2",
   "language": "python",
   "name": "python2"
  },
  "language_info": {
   "codemirror_mode": {
    "name": "ipython",
    "version": 2
   },
   "file_extension": ".py",
   "mimetype": "text/x-python",
   "name": "python",
   "nbconvert_exporter": "python",
   "pygments_lexer": "ipython2",
   "version": "2.7.13"
  }
 },
 "nbformat": 4,
 "nbformat_minor": 1
}
