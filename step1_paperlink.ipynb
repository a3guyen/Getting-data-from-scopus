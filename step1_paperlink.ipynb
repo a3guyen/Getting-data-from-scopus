{
 "cells": [
  {
   "cell_type": "code",
   "execution_count": 1,
   "metadata": {
    "collapsed": false
   },
   "outputs": [
    {
     "name": "stderr",
     "output_type": "stream",
     "text": [
      "C:\\Users\\anguyen\\AppData\\Local\\Continuum\\Anaconda2\\lib\\site-packages\\bs4\\__init__.py:181: UserWarning: No parser was explicitly specified, so I'm using the best available HTML parser for this system (\"lxml\"). This usually isn't a problem, but if you run this code on another system, or in a different virtual environment, it may use a different parser and behave differently.\n",
      "\n",
      "The code that caused this warning is on line 174 of the file C:\\Users\\anguyen\\AppData\\Local\\Continuum\\Anaconda2\\lib\\runpy.py. To get rid of this warning, change code that looks like this:\n",
      "\n",
      " BeautifulSoup([your markup])\n",
      "\n",
      "to this:\n",
      "\n",
      " BeautifulSoup([your markup], \"lxml\")\n",
      "\n",
      "  markup_type=markup_type))\n"
     ]
    },
    {
     "name": "stdout",
     "output_type": "stream",
     "text": [
      "3\n"
     ]
    }
   ],
   "source": [
    "import re\n",
    "import requests\n",
    "from bs4 import BeautifulSoup\n",
    "url = 'https://www.scopus.com/record/display.uri?eid=2-s2.0-84923005412&origin=inward&txGid=24029BA362423B29C33B2312CE14AF9D.wsnAw8kcdt7IPYLO0V48gA%3a1'\n",
    "r = requests.get(url)\n",
    "soup = BeautifulSoup(r.content)\n",
    "authordata = soup.find_all(\"div\", {\"id\": \"authorlist\"})\n",
    "linhtinh = authordata[0].find_all('div')\n",
    "print len(linhtinh)\n",
    "authors= authordata[0].find_all('a',{\"title\":\"Show Author Details\"})\n",
    "\n",
    "#print authors\n",
    "for author in authors:\n",
    "    auths = author.text\n",
    "    #print auth\n",
    "    for auth in auths:\n",
    "        links = authordata[0].find_all('a')\n",
    "        for i in  xrange(0,len(authors)*2):\n",
    "            if i%2 ==0:\n",
    "                https = links[i].get('href')\n",
    "               # print https\n",
    "            if i%2 == 1:\n",
    "                emails = links[i].get('href')\n",
    "                #print emails\n",
    "    #print auths, emails,https\n",
    "\n"
   ]
  },
  {
   "cell_type": "code",
   "execution_count": null,
   "metadata": {
    "collapsed": false
   },
   "outputs": [
    {
     "name": "stdout",
     "output_type": "stream",
     "text": [
      "2017-02-24 12:30:12.966000\n"
     ]
    },
    {
     "name": "stderr",
     "output_type": "stream",
     "text": [
      "C:\\Users\\anguyen\\AppData\\Local\\Continuum\\Anaconda2\\lib\\site-packages\\bs4\\__init__.py:181: UserWarning: No parser was explicitly specified, so I'm using the best available HTML parser for this system (\"lxml\"). This usually isn't a problem, but if you run this code on another system, or in a different virtual environment, it may use a different parser and behave differently.\n",
      "\n",
      "The code that caused this warning is on line 174 of the file C:\\Users\\anguyen\\AppData\\Local\\Continuum\\Anaconda2\\lib\\runpy.py. To get rid of this warning, change code that looks like this:\n",
      "\n",
      " BeautifulSoup([your markup])\n",
      "\n",
      "to this:\n",
      "\n",
      " BeautifulSoup([your markup], \"lxml\")\n",
      "\n",
      "  markup_type=markup_type))\n"
     ]
    }
   ],
   "source": [
    "import re\n",
    "import requests\n",
    "from bs4 import BeautifulSoup\n",
    "import csv\n",
    "import datetime\n",
    "import sys\n",
    "csv.field_size_limit(sys.maxint)\n",
    "print datetime.datetime.now()\n",
    "#code to prevent coding error:\n",
    "\n",
    "infile = open('link_10years.csv','r')\n",
    "#infile = open('test.csv','r')\n",
    "reader = csv.reader(infile, delimiter =',', quotechar = ' ',quoting = csv.QUOTE_ALL)\n",
    "outfile1 = open('step1_test.csv','wb')\n",
    "writer1 = csv.writer(outfile1, delimiter = '|', quotechar=' ', quoting = csv.QUOTE_ALL)\n",
    "writer1.writerow(['paper_id','year','paperlink','author','authorlink'])\n",
    "outfile2 = open('step1_error_author_links0.csv','wb')\n",
    "writer2 = csv.writer(outfile2, delimiter = '|', quotechar=' ', quoting = csv.QUOTE_ALL)\n",
    "line_nb = 0\n",
    "error_nb = 0\n",
    "id_unique = 0\n",
    "authid_list = []\n",
    "for row in reader:\n",
    "    line_nb += 1\n",
    "    url = row[2]\n",
    "    try:\n",
    "        r = requests.get(url)\n",
    "        soup = BeautifulSoup(r.content)\n",
    "        authordata = soup.find_all(\"div\", {\"id\": \"authorlist\"})\n",
    "        all_authors = authordata[0].find_all('a')\n",
    "        for x in all_authors:\n",
    "            author = x.text\n",
    "            https = x.get('href')\n",
    "            if '#' not in https:\n",
    "                writer1.writerow([row[0],row[1],row[2],author, https])\n",
    "    except:\n",
    "        writer2.writerow(row)\n",
    "        pass\n",
    "print datetime.datetime.now()\n",
    "print \"Done\"\n",
    "\n",
    "\n",
    "\n",
    "   \n",
    "\n"
   ]
  },
  {
   "cell_type": "code",
   "execution_count": 1,
   "metadata": {
    "collapsed": false
   },
   "outputs": [
    {
     "name": "stdout",
     "output_type": "stream",
     "text": [
      "[' paper_id | year | paperlink | author | authorlink ']\n",
      "[' 1 | 2007 | https://www.scopus.com/inward/record.uri?eid=2-s2.0-34447091908&doi=10.1016%2fj.bbabio.2007.04.002&partnerID=40&md5=cf30f13a66e4f4437e081c5618ccf520 | Zulian', '  A. | https://www.scopus.com/authid/detail.uri?authorId=16040948500&amp;eid=2-s2.0-34447091908 ']\n",
      "[' 1 | 2007 | https://www.scopus.com/inward/record.uri?eid=2-s2.0-34447091908&doi=10.1016%2fj.bbabio.2007.04.002&partnerID=40&md5=cf30f13a66e4f4437e081c5618ccf520 | Petronilli', '  V. | https://www.scopus.com/authid/detail.uri?authorId=7004016166&amp;eid=2-s2.0-34447091908 ']\n",
      "[' 1 | 2007 | https://www.scopus.com/inward/record.uri?eid=2-s2.0-34447091908&doi=10.1016%2fj.bbabio.2007.04.002&partnerID=40&md5=cf30f13a66e4f4437e081c5618ccf520 | Bova', '  S. | https://www.scopus.com/authid/detail.uri?authorId=56271110200&amp;eid=2-s2.0-34447091908 ']\n",
      "34\n"
     ]
    }
   ],
   "source": [
    "import csv\n",
    "import sys\n",
    "csv.field_size_limit(sys.maxint)\n",
    "def read_file(self):\n",
    "    with open(self, 'r') as f:\n",
    "        data = [row for row in csv.reader(f.read().splitlines())]\n",
    "    return data\n",
    "\n",
    "#day la file code to chuyen dung de test cac file input truoc khi lam gi thi lam\n",
    "#infile = open('output_step1_add_papertitle.csv', 'rbU')\n",
    "#infile = open('long.csv', 'rbU')\n",
    "#infile = open('outfile1.csv', 'rb')\n",
    "#infile = open('outfile_authorID_author.csv', 'rb')\n",
    "#infile = open('output.csv', 'rb')#\n",
    "#infile = open('Allaffiliation2013.csv', 'rb')\n",
    "#infile = open('step3_author_https.csv','rb')\n",
    "#infile = open('output_ALL_short_aff.csv', 'rb')\n",
    "#infile = open('result1.csv', 'rb')\n",
    "#infile = open('output_NZ_method123.csv','rb')\n",
    "#infile = open('output_step0_9K_14K.csv', 'rb')\n",
    "#infile = open('New-Zealand-2013.csv', 'rb')\n",
    "#infile = open('New-Zealand-2013_new.csv', 'rb')\n",
    "#infile = open('output_NZ.csv', 'rb')\n",
    "#infile = open('1_extract_infor.csv','rb')\n",
    "#infile = open('output_NZ_short_aff.csv','rb')\n",
    "#infile = open('name_affiliation_NZ_distinct.csv','rb')\n",
    "#infile = open('merged.csv','rb')\n",
    "infile = open('step1_test.csv','rb')\n",
    "reader = csv.reader(infile)#, delimiter = ',', quotechar=' ')\n",
    "#reader = csv.reader(infile, delimiter = '|', quotechar=' ')\n",
    "\n",
    "#reader = read_file('long.csv')\n",
    "#reader = read_file('scopus1.csv')\n",
    "row_nb = 0\n",
    "\n",
    "for row in reader:\n",
    "    row_nb +=1\n",
    "    if row_nb < 5:\n",
    "        print row\n",
    "\n",
    "\n",
    "print row_nb\n",
    "infile.close()\n",
    "\n"
   ]
  },
  {
   "cell_type": "code",
   "execution_count": null,
   "metadata": {
    "collapsed": true
   },
   "outputs": [],
   "source": []
  }
 ],
 "metadata": {
  "anaconda-cloud": {},
  "kernelspec": {
   "display_name": "Python 2",
   "language": "python",
   "name": "python2"
  },
  "language_info": {
   "codemirror_mode": {
    "name": "ipython",
    "version": 2
   },
   "file_extension": ".py",
   "mimetype": "text/x-python",
   "name": "python",
   "nbconvert_exporter": "python",
   "pygments_lexer": "ipython2",
   "version": "2.7.13"
  }
 },
 "nbformat": 4,
 "nbformat_minor": 1
}
