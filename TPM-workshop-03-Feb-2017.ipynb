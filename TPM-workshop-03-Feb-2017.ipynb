{
 "cells": [
  {
   "cell_type": "code",
   "execution_count": 2,
   "metadata": {
    "collapsed": false
   },
   "outputs": [
    {
     "name": "stdout",
     "output_type": "stream",
     "text": [
      "Hello world, it's long weekend coming up\n"
     ]
    }
   ],
   "source": [
    "print (\"Hello world, it's long weekend coming up\")"
   ]
  },
  {
   "cell_type": "markdown",
   "metadata": {},
   "source": [
    "# This will be a note here #create header by markdown"
   ]
  },
  {
   "cell_type": "markdown",
   "metadata": {},
   "source": [
    "I can write some notes here in *italics* or **bold** also by markdonw"
   ]
  },
  {
   "cell_type": "code",
   "execution_count": 85,
   "metadata": {
    "collapsed": false
   },
   "outputs": [],
   "source": [
    "import pandas as pd\n",
    "import csv\n",
    "df1 = pd.read_csv(\"STEP5.csv\", sep=',')#,  error_bad_lines=False)#,low_memory=False)\n",
    "df2 = pd.read_csv(\"STEP8.csv\", delimiter =',')#, error_bad_lines=False)#,low_memory=False)\n"
   ]
  },
  {
   "cell_type": "code",
   "execution_count": 86,
   "metadata": {
    "collapsed": false
   },
   "outputs": [
    {
     "data": {
      "text/plain": [
       "paper_ID        int64\n",
       "year          float64\n",
       "paperlink      object\n",
       "author         object\n",
       "authorlink     object\n",
       "authid          int64\n",
       "dtype: object"
      ]
     },
     "execution_count": 86,
     "metadata": {},
     "output_type": "execute_result"
    }
   ],
   "source": [
    "df1.dtypes"
   ]
  },
  {
   "cell_type": "code",
   "execution_count": 87,
   "metadata": {
    "collapsed": false
   },
   "outputs": [
    {
     "data": {
      "text/plain": [
       "authid                 int64\n",
       "authorlink            object\n",
       "fullname              object\n",
       "othernames            object\n",
       "currentaffi           object\n",
       "currentaffi_short     object\n",
       "doccount             float64\n",
       "cites                 object\n",
       "coauthor             float64\n",
       "subject               object\n",
       "dtype: object"
      ]
     },
     "execution_count": 87,
     "metadata": {},
     "output_type": "execute_result"
    }
   ],
   "source": [
    "df2.dtypes"
   ]
  },
  {
   "cell_type": "code",
   "execution_count": 88,
   "metadata": {
    "collapsed": false
   },
   "outputs": [
    {
     "data": {
      "text/plain": [
       "Index([u'paper_ID', u'year', u'paperlink', u'author', u'authorlink',\n",
       "       u'authid'],\n",
       "      dtype='object')"
      ]
     },
     "execution_count": 88,
     "metadata": {},
     "output_type": "execute_result"
    }
   ],
   "source": [
    "df1.columns"
   ]
  },
  {
   "cell_type": "code",
   "execution_count": 89,
   "metadata": {
    "collapsed": false
   },
   "outputs": [
    {
     "data": {
      "text/plain": [
       "Index([u'authid', u'authorlink', u'fullname', u'othernames', u'currentaffi',\n",
       "       u'currentaffi_short', u'doccount', u'cites', u'coauthor', u'subject'],\n",
       "      dtype='object')"
      ]
     },
     "execution_count": 89,
     "metadata": {},
     "output_type": "execute_result"
    }
   ],
   "source": [
    "df2.columns"
   ]
  },
  {
   "cell_type": "code",
   "execution_count": 92,
   "metadata": {
    "collapsed": false
   },
   "outputs": [
    {
     "name": "stdout",
     "output_type": "stream",
     "text": [
      "        paper_ID    year                                          paperlink  \\\n",
      "0          30168  2015.0  https://www.scopus.com/inward/record.uri?eid=2...   \n",
      "1          30168  2015.0  https://www.scopus.com/inward/record.uri?eid=2...   \n",
      "2          30168  2015.0  https://www.scopus.com/inward/record.uri?eid=2...   \n",
      "3          30168  2015.0  https://www.scopus.com/inward/record.uri?eid=2...   \n",
      "4          30168  2015.0  https://www.scopus.com/inward/record.uri?eid=2...   \n",
      "5          30168  2015.0  https://www.scopus.com/inward/record.uri?eid=2...   \n",
      "6          30168  2015.0  https://www.scopus.com/inward/record.uri?eid=2...   \n",
      "7          30168  2015.0  https://www.scopus.com/inward/record.uri?eid=2...   \n",
      "8          30168  2015.0  https://www.scopus.com/inward/record.uri?eid=2...   \n",
      "9          30169  2015.0  https://www.scopus.com/inward/record.uri?eid=2...   \n",
      "10         30169  2015.0  https://www.scopus.com/inward/record.uri?eid=2...   \n",
      "11         30169  2015.0  https://www.scopus.com/inward/record.uri?eid=2...   \n",
      "12         30169  2015.0  https://www.scopus.com/inward/record.uri?eid=2...   \n",
      "13         30169  2015.0  https://www.scopus.com/inward/record.uri?eid=2...   \n",
      "14         30169  2015.0  https://www.scopus.com/inward/record.uri?eid=2...   \n",
      "15         30169  2015.0  https://www.scopus.com/inward/record.uri?eid=2...   \n",
      "16         30169  2015.0  https://www.scopus.com/inward/record.uri?eid=2...   \n",
      "17         30170  2015.0  https://www.scopus.com/inward/record.uri?eid=2...   \n",
      "18         30170  2015.0  https://www.scopus.com/inward/record.uri?eid=2...   \n",
      "19         30171  2015.0  https://www.scopus.com/inward/record.uri?eid=2...   \n",
      "20         30171  2015.0  https://www.scopus.com/inward/record.uri?eid=2...   \n",
      "21         30171  2015.0  https://www.scopus.com/inward/record.uri?eid=2...   \n",
      "22         30171  2015.0  https://www.scopus.com/inward/record.uri?eid=2...   \n",
      "23         30172  2015.0  https://www.scopus.com/inward/record.uri?eid=2...   \n",
      "24         30172  2015.0  https://www.scopus.com/inward/record.uri?eid=2...   \n",
      "25         30172  2015.0  https://www.scopus.com/inward/record.uri?eid=2...   \n",
      "26         30172  2015.0  https://www.scopus.com/inward/record.uri?eid=2...   \n",
      "27         30172  2015.0  https://www.scopus.com/inward/record.uri?eid=2...   \n",
      "28         30172  2015.0  https://www.scopus.com/inward/record.uri?eid=2...   \n",
      "29         30172  2015.0  https://www.scopus.com/inward/record.uri?eid=2...   \n",
      "...          ...     ...                                                ...   \n",
      "506761     30165  2015.0  https://www.scopus.com/inward/record.uri?eid=2...   \n",
      "506762     30165  2015.0  https://www.scopus.com/inward/record.uri?eid=2...   \n",
      "506763     30165  2015.0  https://www.scopus.com/inward/record.uri?eid=2...   \n",
      "506764     30166  2015.0  https://www.scopus.com/inward/record.uri?eid=2...   \n",
      "506765     30166  2015.0  https://www.scopus.com/inward/record.uri?eid=2...   \n",
      "506766     30166  2015.0  https://www.scopus.com/inward/record.uri?eid=2...   \n",
      "506767     30167     NaN  https://www.scopus.com/inward/record.uri?eid=2...   \n",
      "506768     30167     NaN  https://www.scopus.com/inward/record.uri?eid=2...   \n",
      "506769     30167     NaN  https://www.scopus.com/inward/record.uri?eid=2...   \n",
      "506770     30167     NaN  https://www.scopus.com/inward/record.uri?eid=2...   \n",
      "506771     30167     NaN  https://www.scopus.com/inward/record.uri?eid=2...   \n",
      "506772     30167     NaN  https://www.scopus.com/inward/record.uri?eid=2...   \n",
      "506773     30167     NaN  https://www.scopus.com/inward/record.uri?eid=2...   \n",
      "506774     30167     NaN  https://www.scopus.com/inward/record.uri?eid=2...   \n",
      "506775     30167     NaN  https://www.scopus.com/inward/record.uri?eid=2...   \n",
      "506776     30167     NaN  https://www.scopus.com/inward/record.uri?eid=2...   \n",
      "506777     30167     NaN  https://www.scopus.com/inward/record.uri?eid=2...   \n",
      "506778     30167     NaN  https://www.scopus.com/inward/record.uri?eid=2...   \n",
      "506779     30167     NaN  https://www.scopus.com/inward/record.uri?eid=2...   \n",
      "506780     71379  2010.0  https://www.scopus.com/inward/record.uri?eid=2...   \n",
      "506781     71379  2010.0  https://www.scopus.com/inward/record.uri?eid=2...   \n",
      "506782     71379  2010.0  https://www.scopus.com/inward/record.uri?eid=2...   \n",
      "506783     71379  2010.0  https://www.scopus.com/inward/record.uri?eid=2...   \n",
      "506784     71379  2010.0  https://www.scopus.com/inward/record.uri?eid=2...   \n",
      "506785     71379  2010.0  https://www.scopus.com/inward/record.uri?eid=2...   \n",
      "506786     71379  2010.0  https://www.scopus.com/inward/record.uri?eid=2...   \n",
      "506787     71379  2010.0  https://www.scopus.com/inward/record.uri?eid=2...   \n",
      "506788     76455  2010.0  https://www.scopus.com/inward/record.uri?eid=2...   \n",
      "506789     76455  2010.0  https://www.scopus.com/inward/record.uri?eid=2...   \n",
      "506790     77855  2007.0  https://www.scopus.com/inward/record.uri?eid=2...   \n",
      "\n",
      "                    author                                         authorlink  \\\n",
      "0              Krueger, T.  https://www.scopus.com/authid/detail.uri?autho...   \n",
      "1            Hawkins, T.D.  https://www.scopus.com/authid/detail.uri?autho...   \n",
      "2               Becker, S.  https://www.scopus.com/authid/detail.uri?autho...   \n",
      "3             Pontasch, S.  https://www.scopus.com/authid/detail.uri?autho...   \n",
      "4                 Dove, S.  https://www.scopus.com/authid/detail.uri?autho...   \n",
      "5       Hoegh-Guldberg, O.  https://www.scopus.com/authid/detail.uri?autho...   \n",
      "6               Leggat, W.  https://www.scopus.com/authid/detail.uri?autho...   \n",
      "7             Fisher, P.L.  https://www.scopus.com/authid/detail.uri?autho...   \n",
      "8               Davy, S.K.  https://www.scopus.com/authid/detail.uri?autho...   \n",
      "9              Krueger, T.  https://www.scopus.com/authid/detail.uri?autho...   \n",
      "10            Fisher, P.L.  https://www.scopus.com/authid/detail.uri?autho...   \n",
      "11              Becker, S.  https://www.scopus.com/authid/detail.uri?autho...   \n",
      "12            Pontasch, S.  https://www.scopus.com/authid/detail.uri?autho...   \n",
      "13                Dove, S.  https://www.scopus.com/authid/detail.uri?autho...   \n",
      "14      Hoegh-Guldberg, O.  https://www.scopus.com/authid/detail.uri?autho...   \n",
      "15              Leggat, W.  https://www.scopus.com/authid/detail.uri?autho...   \n",
      "16              Davy, S.K.  https://www.scopus.com/authid/detail.uri?autho...   \n",
      "17             Kuczera, S.  https://www.scopus.com/authid/detail.uri?autho...   \n",
      "18            Galvosas, P.  https://www.scopus.com/authid/detail.uri?autho...   \n",
      "19               Kumar, K.  https://www.scopus.com/authid/detail.uri?autho...   \n",
      "20               Chand, P.  https://www.scopus.com/authid/detail.uri?autho...   \n",
      "21               Kumar, K.  https://www.scopus.com/authid/detail.uri?autho...   \n",
      "22          Carnegie, D.A.  https://www.scopus.com/authid/detail.uri?autho...   \n",
      "23           Kurashimo, E.  https://www.scopus.com/authid/detail.uri?autho...   \n",
      "24              Henrys, S.  https://www.scopus.com/authid/detail.uri?autho...   \n",
      "25                Sato, H.  https://www.scopus.com/authid/detail.uri?autho...   \n",
      "26             Iwasaki, T.  https://www.scopus.com/authid/detail.uri?autho...   \n",
      "27               Okaya, D.  https://www.scopus.com/authid/detail.uri?autho...   \n",
      "28          Sutherland, R.  https://www.scopus.com/authid/detail.uri?autho...   \n",
      "29               Stern, T.  https://www.scopus.com/authid/detail.uri?autho...   \n",
      "...                    ...                                                ...   \n",
      "506761       Krejcek, S.C.  https://www.scopus.com/authid/detail.uri?autho...   \n",
      "506762       Malouines, C.  https://www.scopus.com/authid/detail.uri?autho...   \n",
      "506763         Hartley, S.  https://www.scopus.com/authid/detail.uri?autho...   \n",
      "506764        Krishnan, L.  https://www.scopus.com/authid/detail.uri?autho...   \n",
      "506765          Teal, P.D.  https://www.scopus.com/authid/detail.uri?autho...   \n",
      "506766        Betlehem, T.  https://www.scopus.com/authid/detail.uri?autho...   \n",
      "506767    Kristensen, N.P.  https://www.scopus.com/authid/detail.uri?autho...   \n",
      "506768        Hilton, D.J.  https://www.scopus.com/authid/detail.uri?autho...   \n",
      "506769         Kallies, A.  https://www.scopus.com/authid/detail.uri?autho...   \n",
      "506770           Milla, L.  https://www.scopus.com/authid/detail.uri?autho...   \n",
      "506771            Rota, J.  https://www.scopus.com/authid/detail.uri?autho...   \n",
      "506772        Wahlberg, N.  https://www.scopus.com/authid/detail.uri?autho...   \n",
      "506773        Wilcox, S.A.  https://www.scopus.com/authid/detail.uri?autho...   \n",
      "506774         Glatz, R.V.  https://www.scopus.com/authid/detail.uri?autho...   \n",
      "506775         Young, D.A.  https://www.scopus.com/authid/detail.uri?autho...   \n",
      "506776         Cocking, G.  https://www.scopus.com/authid/detail.uri?autho...   \n",
      "506777         Edwards, T.  https://www.scopus.com/authid/detail.uri?autho...   \n",
      "506778         Gibbs, G.W.  https://www.scopus.com/authid/detail.uri?autho...   \n",
      "506779          Halsey, M.  https://www.scopus.com/authid/detail.uri?autho...   \n",
      "506780        Brooks, A.G.  https://www.scopus.com/authid/detail.uri?autho...   \n",
      "506781        Stiles, M.K.  https://www.scopus.com/authid/detail.uri?autho...   \n",
      "506782      Laborderie, J.  https://www.scopus.com/authid/detail.uri?autho...   \n",
      "506783           Lau, D.H.  https://www.scopus.com/authid/detail.uri?autho...   \n",
      "506784          Kuklik, P.  https://www.scopus.com/authid/detail.uri?autho...   \n",
      "506785         Shipp, N.J.  https://www.scopus.com/authid/detail.uri?autho...   \n",
      "506786          Hsu, L.-F.  https://www.scopus.com/authid/detail.uri?autho...   \n",
      "506787         Sanders, P.  https://www.scopus.com/authid/detail.uri?autho...   \n",
      "506788         O'Neill, J.  https://www.scopus.com/authid/detail.uri?autho...   \n",
      "506789          Bourke, R.  https://www.scopus.com/authid/detail.uri?autho...   \n",
      "506790           Smith, D.  https://www.scopus.com/authid/detail.uri?autho...   \n",
      "\n",
      "             authid                fullname  \\\n",
      "0       54893381000         Krueger, Thomas   \n",
      "1       55485748100      Hawkins, Thomas D.   \n",
      "2       36898361500   Becker, Susanne A W E   \n",
      "3       26423966100      Pontasch, Stefanie   \n",
      "4        7005822223         Dove, Sophie G.   \n",
      "5       26643606100     Hoegh-Guldberg, Ove   \n",
      "6        6505809982         Leggat, William   \n",
      "7       26434122200         Fisher, Paul L.   \n",
      "8        7003305262          Davy, Simon K.   \n",
      "9       54893381000                     NaN   \n",
      "10      26434122200                     NaN   \n",
      "11      36898361500                     NaN   \n",
      "12      26423966100                     NaN   \n",
      "13       7005822223                     NaN   \n",
      "14      26643606100                     NaN   \n",
      "15       6505809982                     NaN   \n",
      "16       7003305262                     NaN   \n",
      "17      56638610600         Kuczera, Stefan   \n",
      "18       6602115657        Galvosas, Petrik   \n",
      "19      56612680200    Kumar, Kishan Sarath   \n",
      "20      26322293100          Chand, Praneel   \n",
      "21      55796630645      Kumar, Kishen Siva   \n",
      "22       8983677200  Carnegie, Dale Anthony   \n",
      "23       6506922859         Kurashimo, Eiji   \n",
      "24       6701562033       Henrys, Stuart A.   \n",
      "25      55633316569           Sato, Hiroshi   \n",
      "26       7403058719         Iwasaki, Takaya   \n",
      "27       6701717050         Okaya, David A.   \n",
      "28       7402351635      Sutherland, Rupert   \n",
      "29       7102707331       Tim A. Stern, Tim   \n",
      "...             ...                     ...   \n",
      "506761  56685908600          Krejcek, S. C.   \n",
      "506762  56429762100        Malouines, Clara   \n",
      "506763  56243239900                     NaN   \n",
      "506764  56369616800                     NaN   \n",
      "506765   7005441863                     NaN   \n",
      "506766   6506830929                     NaN   \n",
      "506767   7005170280                     NaN   \n",
      "506768  55354125000      Hilton, Douglas J.   \n",
      "506769   6603640059           Kallies, Axel   \n",
      "506770  55892298500              Milla, Liz   \n",
      "506771  23493592600          Rota, Jadranka   \n",
      "506772   6602565669        Wahlberg, Niklas   \n",
      "506773  56471405000      Wilcox, Stephen A.   \n",
      "506774  36089797900       Glatz, Richard V.   \n",
      "506775  56471114600         Young, David A.   \n",
      "506776  56471882600          Cocking, Glenn   \n",
      "506777   7202999894         Edwards, Ted D.   \n",
      "506778  56471410400                     NaN   \n",
      "506779  55619430900            Halsey, Mike   \n",
      "506780  35263917000           Brooks, A. G.   \n",
      "506781  35278667100                     NaN   \n",
      "506782  15832251500      Laborderie, Julien   \n",
      "506783  16052747100          Lau, Dennis H.   \n",
      "506784   6507732887           Kuklik, PaweŁ   \n",
      "506785   6602557599      Shipp, Nicholas J.   \n",
      "506786   7401644035             Hsu, Lifern   \n",
      "506787   7201703192                     NaN   \n",
      "506788  55429328500                     NaN   \n",
      "506789  43761927000                     NaN   \n",
      "506790   7410356696         Smith, Derek J.   \n",
      "\n",
      "                                               othernames  \\\n",
      "0                                            Krueger, T.;   \n",
      "1                                         Hawkins, T. D.;   \n",
      "2            Becker, S.;Becker, Susanne;Becker, S. A W E;   \n",
      "3                                           Pontasch, S.;   \n",
      "4                      Dove, Sophie;Dove, S. G.;Dove, S.;   \n",
      "5       Hoegh-Guldberg, O.;Hoegh-guldberg, Ove;Hoegh G...   \n",
      "6                                             Leggat, W.;   \n",
      "7                  Fisher, P. L.;Fisher, P.;Fisher, Paul;   \n",
      "8                                   Davy, S. K.;Davy, S.;   \n",
      "9                                                     NaN   \n",
      "10                                                    NaN   \n",
      "11                                                    NaN   \n",
      "12                                                    NaN   \n",
      "13                                                    NaN   \n",
      "14                                                    NaN   \n",
      "15                                                    NaN   \n",
      "16                                                    NaN   \n",
      "17                                                    NaN   \n",
      "18                                          Galvosas, P.;   \n",
      "19                 Kumar, Kishen;Kumar, K.;Kumar, Kishan;   \n",
      "20                                             Chand, P.;   \n",
      "21            Kumar, K. Siva;Kumar, Kishen;Kumar, Kishan;   \n",
      "22      Carnegie, Dale;Carnegie, Dale A.;Carnegie, D. A.;   \n",
      "23                        Kurashimo, E.;Kurashimo, Eiiji;   \n",
      "24               Henrys, S. A.;Henrys, S.;Henrys, Stuart;   \n",
      "25                                              Sato, H.;   \n",
      "26                                           Iwasaki, T.;   \n",
      "27                   Okaya, D.;Okaya, D. A.;Okaya, David;   \n",
      "28                                        Sutherland, R.;   \n",
      "29                     Stern, T. A.;Stern, Tim;Stern, T.;   \n",
      "...                                                   ...   \n",
      "506761                                                NaN   \n",
      "506762                                     Malouines, C.;   \n",
      "506763                                                NaN   \n",
      "506764                                                NaN   \n",
      "506765                                                NaN   \n",
      "506766                                                NaN   \n",
      "506767                                                NaN   \n",
      "506768                                                NaN   \n",
      "506769                                       Kallies, A.;   \n",
      "506770                                             Milla;   \n",
      "506771                                                NaN   \n",
      "506772                                      Wahlberg, N.;   \n",
      "506773                                                NaN   \n",
      "506774                       Glatz, Richard;Glatz, R. V.;   \n",
      "506775                                                NaN   \n",
      "506776                                                NaN   \n",
      "506777                                      Edwards, Ted;   \n",
      "506778                                                NaN   \n",
      "506779                                                NaN   \n",
      "506780  Brooks, Anthony G.;Brooks, A. G.;Brooks, Anthony;   \n",
      "506781                                                NaN   \n",
      "506782                                    Laborderie, J.;   \n",
      "506783                            Lau, Dennis;Lau, D. H.;   \n",
      "506784            Kuklik, Pawel;Kuklik, Paweł;Kuklik, P.;   \n",
      "506785           Shipp, Nicholas;Shipp, Nicholas J;Shipp;   \n",
      "506786                           Hsu, Li Fern;Hsu, L. F.;   \n",
      "506787                                                NaN   \n",
      "506788                                                NaN   \n",
      "506789                                                NaN   \n",
      "506790                                Smith, Derek;Smith;   \n",
      "\n",
      "                                              currentaffi  \\\n",
      "0       Ecole Polytechnique Federale de Lausanne, Civi...   \n",
      "1       University of Delaware, School of Marine Scien...   \n",
      "2       Victoria University of Wellington, School of B...   \n",
      "3       Victoria University of Wellington, School of B...   \n",
      "4       University of Queensland, School of Biological...   \n",
      "5       University of Queensland, Global Change Instit...   \n",
      "6       James Cook University, Australia, College of P...   \n",
      "7       University of Queensland, School of Civil Engi...   \n",
      "8       Victoria University of Wellington, School of B...   \n",
      "9                                                     NaN   \n",
      "10                                                    NaN   \n",
      "11                                                    NaN   \n",
      "12                                                    NaN   \n",
      "13                                                    NaN   \n",
      "14                                                    NaN   \n",
      "15                                                    NaN   \n",
      "16                                                    NaN   \n",
      "17      Victoria University of Wellington,Wellington,N...   \n",
      "18      Victoria University of Wellington,Wellington,N...   \n",
      "19      University of the South Pacific, Faculty of Sc...   \n",
      "20      University of the South Pacific, School of Eng...   \n",
      "21      University of the South Pacific, School of Eng...   \n",
      "22      Victoria University of Wellington,Wellington,N...   \n",
      "23      University of Tokyo, Earthquake Research Insti...   \n",
      "24                     GNS Science,Lower Hutt,New Zealand   \n",
      "25      University of Tokyo, Earthquake Research Insti...   \n",
      "26      University of Tokyo, Earthquake Research Insti...   \n",
      "27      University of Southern California, Department ...   \n",
      "28                     GNS Science,Lower Hutt,New Zealand   \n",
      "29      Victoria University of Wellington, School of G...   \n",
      "...                                                   ...   \n",
      "506761  Victoria University of Wellington, School of B...   \n",
      "506762  University of Texas at Austin,Austin,United St...   \n",
      "506763                                                NaN   \n",
      "506764                                                NaN   \n",
      "506765                                                NaN   \n",
      "506766                                                NaN   \n",
      "506767                                                NaN   \n",
      "506768  University of Melbourne, Department of Zoology...   \n",
      "506769  Walter and Eliza Hall Institute of Medical Res...   \n",
      "506770  University of Melbourne, Department of Medical...   \n",
      "506771  Lunds Universitet, Department of Biology,Lund,...   \n",
      "506772  Lunds Universitet, Department of Biology,Lund,...   \n",
      "506773  Australian Genome Research Facility,Melbourne,...   \n",
      "506774  University of Adelaide, School of Agriculture,...   \n",
      "506775  D'Estrees Entomology and Science Services,,Aus...   \n",
      "506776  Commonwealth Scientific and Industrial Researc...   \n",
      "506777                            NRCA,Canberra,Australia   \n",
      "506778                                                NaN   \n",
      "506779  Murray-Darling Freshwater Research Centre,Albu...   \n",
      "506780  Royal Adelaide Hospital, Centre for Heart Rhyt...   \n",
      "506781                                                NaN   \n",
      "506782             Universite de Bordeaux,Bordeaux,France   \n",
      "506783  Royal Adelaide Hospital, Centre for Heart Rhyt...   \n",
      "506784  Universitatsklinikum Hamburg-Eppendorf und Med...   \n",
      "506785  Royal Adelaide Hospital, Centre for Heart Rhyt...   \n",
      "506786  Mount Elizabeth Novena Hospital, Novena Heart ...   \n",
      "506787                                                NaN   \n",
      "506788                                                NaN   \n",
      "506789                                                NaN   \n",
      "506790  Victoria University of Wellington,Wellington,N...   \n",
      "\n",
      "                        currentaffi_short  doccount         cites  coauthor  \\\n",
      "0                             Switzerland       9.0            33      10.0   \n",
      "1                           United States       9.0            37      14.0   \n",
      "2       Victoria University of Wellington      45.0           588     150.0   \n",
      "3       Victoria University of Wellington       9.0            85      21.0   \n",
      "4                               Australia      78.0          1802     150.0   \n",
      "5                               Australia     259.0         13748     150.0   \n",
      "6                               Australia      49.0          1196     120.0   \n",
      "7                               Australia      23.0           268      53.0   \n",
      "8       Victoria University of Wellington      89.0          1074     150.0   \n",
      "9                                     NaN       NaN           NaN       NaN   \n",
      "10                                    NaN       NaN           NaN       NaN   \n",
      "11                                    NaN       NaN           NaN       NaN   \n",
      "12                                    NaN       NaN           NaN       NaN   \n",
      "13                                    NaN       NaN           NaN       NaN   \n",
      "14                                    NaN       NaN           NaN       NaN   \n",
      "15                                    NaN       NaN           NaN       NaN   \n",
      "16                                    NaN       NaN           NaN       NaN   \n",
      "17      Victoria University of Wellington       2.0             4       6.0   \n",
      "18      Victoria University of Wellington      80.0           920     142.0   \n",
      "19                                   Fiji       7.0             1      20.0   \n",
      "20                                   Fiji      19.0            26      17.0   \n",
      "21                                   Fiji       4.0             1       5.0   \n",
      "22      Victoria University of Wellington      99.0           218      63.0   \n",
      "23                                  Japan      33.0           378     150.0   \n",
      "24                            GNS Science      89.0          1233     150.0   \n",
      "25                                  Japan      58.0           586     150.0   \n",
      "26                                  Japan     109.0          1284     150.0   \n",
      "27                          United States      81.0          1696     150.0   \n",
      "28                            GNS Science      78.0          1306     150.0   \n",
      "29      Victoria University of Wellington      83.0          1300     114.0   \n",
      "...                                   ...       ...           ...       ...   \n",
      "506761  Victoria University of Wellington       1.0  documentView       NaN   \n",
      "506762                      United States       3.0            14      10.0   \n",
      "506763                                NaN       NaN           NaN       NaN   \n",
      "506764                                NaN       NaN           NaN       NaN   \n",
      "506765                                NaN       NaN           NaN       NaN   \n",
      "506766                                NaN       NaN           NaN       NaN   \n",
      "506767                                NaN       NaN           NaN       NaN   \n",
      "506768                          Australia       2.0             8      12.0   \n",
      "506769                          Australia      91.0          2718     150.0   \n",
      "506770                          Australia       4.0            46      29.0   \n",
      "506771                             Sweden      27.0           153      85.0   \n",
      "506772                             Sweden     130.0          2618     150.0   \n",
      "506773                          Australia       1.0             6      12.0   \n",
      "506774                          Australia      28.0           270      57.0   \n",
      "506775                          Australia       1.0             6      12.0   \n",
      "506776                          Australia       1.0             6      12.0   \n",
      "506777                          Australia       7.0            55      29.0   \n",
      "506778                                NaN       NaN           NaN       NaN   \n",
      "506779                          Australia       2.0             6      12.0   \n",
      "506780                          Australia      73.0          1671     139.0   \n",
      "506781                                NaN       NaN           NaN       NaN   \n",
      "506782                             France      23.0          1119     105.0   \n",
      "506783                          Australia     105.0          1807     150.0   \n",
      "506784                            Germany      68.0          1061     150.0   \n",
      "506785                          Australia      16.0           635      66.0   \n",
      "506786                          Singapore      75.0          3982     136.0   \n",
      "506787                                NaN       NaN           NaN       NaN   \n",
      "506788                                NaN       NaN           NaN       NaN   \n",
      "506789                                NaN       NaN           NaN       NaN   \n",
      "506790  Victoria University of Wellington       5.0             2       NaN   \n",
      "\n",
      "                                                  subject  \n",
      "0       Agricultural and Biological Sciences; Biochemi...  \n",
      "1       Biochemistry; Genetics and Molecular Biology; ...  \n",
      "2       Biochemistry; Genetics and Molecular Biology; ...  \n",
      "3       Agricultural and Biological Sciences; Biochemi...  \n",
      "4       Agricultural and Biological Sciences; Biochemi...  \n",
      "5       Agricultural and Biological Sciences; Environm...  \n",
      "6       Agricultural and Biological Sciences; Biochemi...  \n",
      "7       Agricultural and Biological Sciences; Environm...  \n",
      "8       Agricultural and Biological Sciences; Biochemi...  \n",
      "9                                                     NaN  \n",
      "10                                                    NaN  \n",
      "11                                                    NaN  \n",
      "12                                                    NaN  \n",
      "13                                                    NaN  \n",
      "14                                                    NaN  \n",
      "15                                                    NaN  \n",
      "16                                                    NaN  \n",
      "17      Physics and Astronomy; Biochemistry; Genetics ...  \n",
      "18      Physics and Astronomy; Biochemistry; Genetics ...  \n",
      "19                Computer Science; Engineering; Energy;   \n",
      "20      Computer Science; Engineering; Mathematics; So...  \n",
      "21                        Computer Science; Engineering;   \n",
      "22      Computer Science; Engineering; Physics and Ast...  \n",
      "23      Earth and Planetary Sciences; Physics and Astr...  \n",
      "24      Earth and Planetary Sciences; Agricultural and...  \n",
      "25      Earth and Planetary Sciences; Environmental Sc...  \n",
      "26      Earth and Planetary Sciences; Physics and Astr...  \n",
      "27      Earth and Planetary Sciences; Physics and Astr...  \n",
      "28      Earth and Planetary Sciences; Energy; Multidis...  \n",
      "29      Earth and Planetary Sciences; Physics and Astr...  \n",
      "...                                                   ...  \n",
      "506761             Agricultural and Biological Sciences;   \n",
      "506762  Agricultural and Biological Sciences; Biochemi...  \n",
      "506763                                                NaN  \n",
      "506764                                                NaN  \n",
      "506765                                                NaN  \n",
      "506766                                                NaN  \n",
      "506767                                                NaN  \n",
      "506768             Agricultural and Biological Sciences;   \n",
      "506769  Immunology and Microbiology; Biochemistry; Gen...  \n",
      "506770  Biochemistry; Genetics and Molecular Biology; ...  \n",
      "506771  Agricultural and Biological Sciences; Biochemi...  \n",
      "506772  Agricultural and Biological Sciences; Biochemi...  \n",
      "506773             Agricultural and Biological Sciences;   \n",
      "506774  Agricultural and Biological Sciences; Biochemi...  \n",
      "506775             Agricultural and Biological Sciences;   \n",
      "506776             Agricultural and Biological Sciences;   \n",
      "506777  Agricultural and Biological Sciences; Environm...  \n",
      "506778                                                NaN  \n",
      "506779             Agricultural and Biological Sciences;   \n",
      "506780  Medicine; Biochemistry; Genetics and Molecular...  \n",
      "506781                                                NaN  \n",
      "506782  Medicine; Biochemistry; Genetics and Molecular...  \n",
      "506783  Medicine; Biochemistry; Genetics and Molecular...  \n",
      "506784  Medicine; Biochemistry; Genetics and Molecular...  \n",
      "506785  Medicine; Biochemistry; Genetics and Molecular...  \n",
      "506786  Medicine; Biochemistry; Genetics and Molecular...  \n",
      "506787                                                NaN  \n",
      "506788                                                NaN  \n",
      "506789                                                NaN  \n",
      "506790  Computer Science; Psychology; Engineering; Soc...  \n",
      "\n",
      "[506791 rows x 14 columns]\n"
     ]
    }
   ],
   "source": [
    "merge1 = pd.merge(df1,df2, on=['authid','authorlink'], how ='left')\n",
    "print merge1"
   ]
  },
  {
   "cell_type": "code",
   "execution_count": 72,
   "metadata": {
    "collapsed": true
   },
   "outputs": [],
   "source": [
    "df3 = pd.read_csv(\"STEP3.csv\", sep=',')#,  error_bad_lines=False)#,low_memory=False)"
   ]
  },
  {
   "cell_type": "code",
   "execution_count": 73,
   "metadata": {
    "collapsed": false
   },
   "outputs": [
    {
     "data": {
      "text/plain": [
       "Index([u'year', u'paperlink', u'author', u'email'], dtype='object')"
      ]
     },
     "execution_count": 73,
     "metadata": {},
     "output_type": "execute_result"
    }
   ],
   "source": [
    "df3.columns"
   ]
  },
  {
   "cell_type": "code",
   "execution_count": 74,
   "metadata": {
    "collapsed": false
   },
   "outputs": [
    {
     "data": {
      "text/plain": [
       "Index([u'paper_ID', u'year', u'paperlink', u'author', u'authorlink_x',\n",
       "       u'authid', u'authorlink_y', u'fullname', u'othernames', u'currentaffi',\n",
       "       u'currentaffi_short', u'doccount', u'cites', u'coauthor', u'subject'],\n",
       "      dtype='object')"
      ]
     },
     "execution_count": 74,
     "metadata": {},
     "output_type": "execute_result"
    }
   ],
   "source": [
    "finaldata.columns"
   ]
  },
  {
   "cell_type": "code",
   "execution_count": 75,
   "metadata": {
    "collapsed": false
   },
   "outputs": [
    {
     "name": "stdout",
     "output_type": "stream",
     "text": [
      "            paper_ID           year        authid       doccount\n",
      "count  506913.000000  506607.000000  5.069130e+05  506862.000000\n",
      "mean    53873.078240    2012.128788  2.488262e+10      80.186074\n",
      "std     33223.606826       2.789963  2.022747e+10     132.543436\n",
      "min         1.000000    1993.000000  7.196023e+06       0.000000\n",
      "25%     25314.000000            NaN  7.006737e+09            NaN\n",
      "50%     49911.000000            NaN  1.483168e+10            NaN\n",
      "75%     83078.000000            NaN  4.486140e+10            NaN\n",
      "max    115100.000000    2016.000000  5.719309e+10    5275.000000\n"
     ]
    }
   ],
   "source": [
    "dfemail = pd.merge(finaldata,df3, on= ['paperlink','author','year'],how ='left')\n",
    "print dfemail.describe()"
   ]
  },
  {
   "cell_type": "code",
   "execution_count": 76,
   "metadata": {
    "collapsed": false
   },
   "outputs": [
    {
     "data": {
      "text/plain": [
       "paper_ID               int64\n",
       "year                 float64\n",
       "paperlink             object\n",
       "author                object\n",
       "authorlink_x          object\n",
       "authid                 int64\n",
       "authorlink_y          object\n",
       "fullname              object\n",
       "othernames            object\n",
       "currentaffi           object\n",
       "currentaffi_short     object\n",
       "doccount             float64\n",
       "cites                 object\n",
       "coauthor              object\n",
       "subject               object\n",
       "email                 object\n",
       "dtype: object"
      ]
     },
     "execution_count": 76,
     "metadata": {},
     "output_type": "execute_result"
    }
   ],
   "source": [
    "dfemail.dtypes"
   ]
  },
  {
   "cell_type": "code",
   "execution_count": 77,
   "metadata": {
    "collapsed": false
   },
   "outputs": [
    {
     "name": "stdout",
     "output_type": "stream",
     "text": [
      "Done\n"
     ]
    }
   ],
   "source": [
    "dfemail.to_csv('file_name1.csv', sep=',', encoding='utf-8')\n",
    "print \"Done\"\n"
   ]
  },
  {
   "cell_type": "code",
   "execution_count": 66,
   "metadata": {
    "collapsed": false
   },
   "outputs": [
    {
     "data": {
      "text/plain": [
       "Index([u'year', u'paperlink', u'author', u'oldaffi', u'oldaffi_short'], dtype='object')"
      ]
     },
     "execution_count": 66,
     "metadata": {},
     "output_type": "execute_result"
    }
   ],
   "source": [
    "df9 = pd.read_csv(\"STEP9.csv\", sep=',')#,  error_bad_lines=False)#,low_memory=False)\n",
    "df9.columns\n",
    "#df9.dtypes\n"
   ]
  },
  {
   "cell_type": "code",
   "execution_count": 81,
   "metadata": {
    "collapsed": false
   },
   "outputs": [
    {
     "data": {
      "text/plain": [
       "Index([u'paper_ID', u'year', u'paperlink', u'author', u'authorlink_x',\n",
       "       u'authid', u'authorlink_y', u'fullname', u'othernames', u'currentaffi',\n",
       "       u'currentaffi_short', u'doccount', u'cites', u'coauthor', u'subject',\n",
       "       u'email'],\n",
       "      dtype='object')"
      ]
     },
     "execution_count": 81,
     "metadata": {},
     "output_type": "execute_result"
    }
   ],
   "source": [
    "dfemail.columns"
   ]
  },
  {
   "cell_type": "code",
   "execution_count": 78,
   "metadata": {
    "collapsed": false
   },
   "outputs": [
    {
     "data": {
      "text/plain": [
       "Index([u'paper_ID', u'year', u'paperlink', u'author', u'authorlink_x',\n",
       "       u'authid', u'authorlink_y', u'fullname', u'othernames', u'currentaffi',\n",
       "       u'currentaffi_short', u'doccount', u'cites', u'coauthor', u'subject',\n",
       "       u'email', u'oldaffi', u'oldaffi_short'],\n",
       "      dtype='object')"
      ]
     },
     "execution_count": 78,
     "metadata": {},
     "output_type": "execute_result"
    }
   ],
   "source": [
    "full = pd.merge(dfemail,df9, on= ['paperlink','author','year'],how ='outer')\n",
    "full.columns"
   ]
  },
  {
   "cell_type": "code",
   "execution_count": 82,
   "metadata": {
    "collapsed": false
   },
   "outputs": [
    {
     "data": {
      "text/html": [
       "<div>\n",
       "<table border=\"1\" class=\"dataframe\">\n",
       "  <thead>\n",
       "    <tr style=\"text-align: right;\">\n",
       "      <th></th>\n",
       "      <th>paper_ID</th>\n",
       "      <th>year</th>\n",
       "      <th>authid</th>\n",
       "      <th>doccount</th>\n",
       "    </tr>\n",
       "  </thead>\n",
       "  <tbody>\n",
       "    <tr>\n",
       "      <th>count</th>\n",
       "      <td>507764.000000</td>\n",
       "      <td>507458.000000</td>\n",
       "      <td>5.077640e+05</td>\n",
       "      <td>507713.000000</td>\n",
       "    </tr>\n",
       "    <tr>\n",
       "      <th>mean</th>\n",
       "      <td>53882.650298</td>\n",
       "      <td>2012.128308</td>\n",
       "      <td>2.490239e+10</td>\n",
       "      <td>80.179470</td>\n",
       "    </tr>\n",
       "    <tr>\n",
       "      <th>std</th>\n",
       "      <td>33224.769203</td>\n",
       "      <td>2.789996</td>\n",
       "      <td>2.023441e+10</td>\n",
       "      <td>132.629977</td>\n",
       "    </tr>\n",
       "    <tr>\n",
       "      <th>min</th>\n",
       "      <td>1.000000</td>\n",
       "      <td>1993.000000</td>\n",
       "      <td>7.196023e+06</td>\n",
       "      <td>0.000000</td>\n",
       "    </tr>\n",
       "    <tr>\n",
       "      <th>25%</th>\n",
       "      <td>25324.750000</td>\n",
       "      <td>NaN</td>\n",
       "      <td>7.006740e+09</td>\n",
       "      <td>NaN</td>\n",
       "    </tr>\n",
       "    <tr>\n",
       "      <th>50%</th>\n",
       "      <td>49928.000000</td>\n",
       "      <td>NaN</td>\n",
       "      <td>1.501917e+10</td>\n",
       "      <td>NaN</td>\n",
       "    </tr>\n",
       "    <tr>\n",
       "      <th>75%</th>\n",
       "      <td>83093.250000</td>\n",
       "      <td>NaN</td>\n",
       "      <td>4.556188e+10</td>\n",
       "      <td>NaN</td>\n",
       "    </tr>\n",
       "    <tr>\n",
       "      <th>max</th>\n",
       "      <td>115100.000000</td>\n",
       "      <td>2016.000000</td>\n",
       "      <td>5.719309e+10</td>\n",
       "      <td>5275.000000</td>\n",
       "    </tr>\n",
       "  </tbody>\n",
       "</table>\n",
       "</div>"
      ],
      "text/plain": [
       "            paper_ID           year        authid       doccount\n",
       "count  507764.000000  507458.000000  5.077640e+05  507713.000000\n",
       "mean    53882.650298    2012.128308  2.490239e+10      80.179470\n",
       "std     33224.769203       2.789996  2.023441e+10     132.629977\n",
       "min         1.000000    1993.000000  7.196023e+06       0.000000\n",
       "25%     25324.750000            NaN  7.006740e+09            NaN\n",
       "50%     49928.000000            NaN  1.501917e+10            NaN\n",
       "75%     83093.250000            NaN  4.556188e+10            NaN\n",
       "max    115100.000000    2016.000000  5.719309e+10    5275.000000"
      ]
     },
     "execution_count": 82,
     "metadata": {},
     "output_type": "execute_result"
    }
   ],
   "source": [
    "full.describe()"
   ]
  },
  {
   "cell_type": "code",
   "execution_count": 83,
   "metadata": {
    "collapsed": false
   },
   "outputs": [
    {
     "data": {
      "text/plain": [
       "Index([u'paper_ID', u'year', u'paperlink', u'author', u'authorlink_x',\n",
       "       u'authid', u'authorlink_y', u'fullname', u'othernames', u'currentaffi',\n",
       "       u'currentaffi_short', u'doccount', u'cites', u'coauthor', u'subject',\n",
       "       u'email', u'oldaffi', u'oldaffi_short'],\n",
       "      dtype='object')"
      ]
     },
     "execution_count": 83,
     "metadata": {},
     "output_type": "execute_result"
    }
   ],
   "source": [
    "full = pd.merge(dfemail,df9, on= ['paperlink','author','year'],how ='outer')\n",
    "full.columns"
   ]
  },
  {
   "cell_type": "code",
   "execution_count": 84,
   "metadata": {
    "collapsed": false
   },
   "outputs": [
    {
     "data": {
      "text/html": [
       "<div>\n",
       "<table border=\"1\" class=\"dataframe\">\n",
       "  <thead>\n",
       "    <tr style=\"text-align: right;\">\n",
       "      <th></th>\n",
       "      <th>paper_ID</th>\n",
       "      <th>year</th>\n",
       "      <th>authid</th>\n",
       "      <th>doccount</th>\n",
       "    </tr>\n",
       "  </thead>\n",
       "  <tbody>\n",
       "    <tr>\n",
       "      <th>count</th>\n",
       "      <td>507764.000000</td>\n",
       "      <td>521651.000000</td>\n",
       "      <td>5.077640e+05</td>\n",
       "      <td>507713.000000</td>\n",
       "    </tr>\n",
       "    <tr>\n",
       "      <th>mean</th>\n",
       "      <td>53882.650298</td>\n",
       "      <td>2012.136177</td>\n",
       "      <td>2.490239e+10</td>\n",
       "      <td>80.179470</td>\n",
       "    </tr>\n",
       "    <tr>\n",
       "      <th>std</th>\n",
       "      <td>33224.769203</td>\n",
       "      <td>2.791306</td>\n",
       "      <td>2.023441e+10</td>\n",
       "      <td>132.629977</td>\n",
       "    </tr>\n",
       "    <tr>\n",
       "      <th>min</th>\n",
       "      <td>1.000000</td>\n",
       "      <td>1993.000000</td>\n",
       "      <td>7.196023e+06</td>\n",
       "      <td>0.000000</td>\n",
       "    </tr>\n",
       "    <tr>\n",
       "      <th>25%</th>\n",
       "      <td>NaN</td>\n",
       "      <td>NaN</td>\n",
       "      <td>NaN</td>\n",
       "      <td>NaN</td>\n",
       "    </tr>\n",
       "    <tr>\n",
       "      <th>50%</th>\n",
       "      <td>NaN</td>\n",
       "      <td>NaN</td>\n",
       "      <td>NaN</td>\n",
       "      <td>NaN</td>\n",
       "    </tr>\n",
       "    <tr>\n",
       "      <th>75%</th>\n",
       "      <td>NaN</td>\n",
       "      <td>NaN</td>\n",
       "      <td>NaN</td>\n",
       "      <td>NaN</td>\n",
       "    </tr>\n",
       "    <tr>\n",
       "      <th>max</th>\n",
       "      <td>115100.000000</td>\n",
       "      <td>2016.000000</td>\n",
       "      <td>5.719309e+10</td>\n",
       "      <td>5275.000000</td>\n",
       "    </tr>\n",
       "  </tbody>\n",
       "</table>\n",
       "</div>"
      ],
      "text/plain": [
       "            paper_ID           year        authid       doccount\n",
       "count  507764.000000  521651.000000  5.077640e+05  507713.000000\n",
       "mean    53882.650298    2012.136177  2.490239e+10      80.179470\n",
       "std     33224.769203       2.791306  2.023441e+10     132.629977\n",
       "min         1.000000    1993.000000  7.196023e+06       0.000000\n",
       "25%              NaN            NaN           NaN            NaN\n",
       "50%              NaN            NaN           NaN            NaN\n",
       "75%              NaN            NaN           NaN            NaN\n",
       "max    115100.000000    2016.000000  5.719309e+10    5275.000000"
      ]
     },
     "execution_count": 84,
     "metadata": {},
     "output_type": "execute_result"
    }
   ],
   "source": [
    "full.describe()"
   ]
  },
  {
   "cell_type": "code",
   "execution_count": null,
   "metadata": {
    "collapsed": true
   },
   "outputs": [],
   "source": []
  },
  {
   "cell_type": "code",
   "execution_count": null,
   "metadata": {
    "collapsed": true
   },
   "outputs": [],
   "source": []
  },
  {
   "cell_type": "code",
   "execution_count": null,
   "metadata": {
    "collapsed": true
   },
   "outputs": [],
   "source": []
  },
  {
   "cell_type": "code",
   "execution_count": 8,
   "metadata": {
    "collapsed": false
   },
   "outputs": [
    {
     "data": {
      "text/plain": [
       "(35549, 9)"
      ]
     },
     "execution_count": 8,
     "metadata": {},
     "output_type": "execute_result"
    }
   ],
   "source": [
    "surveys_df.shape # no of rows, no of column"
   ]
  },
  {
   "cell_type": "code",
   "execution_count": 21,
   "metadata": {
    "collapsed": false
   },
   "outputs": [
    {
     "name": "stdout",
     "output_type": "stream",
     "text": [
      "['NL' 'DM' 'PF' 'PE' 'DS' 'PP' 'SH' 'OT' 'DO' 'OX' 'SS' 'OL' 'RM' nan 'SA'\n",
      " 'PM' 'AH' 'DX' 'AB' 'CB' 'CM' 'CQ' 'RF' 'PC' 'PG' 'PH' 'PU' 'CV' 'UR' 'UP'\n",
      " 'ZL' 'UL' 'CS' 'SC' 'BA' 'SF' 'RO' 'AS' 'SO' 'PI' 'ST' 'CU' 'SU' 'RX' 'PB'\n",
      " 'PL' 'PX' 'CT' 'US']\n",
      "49\n"
     ]
    }
   ],
   "source": [
    "species_list= pd.unique(surveys_df['species_id'])\n",
    "print species_list\n",
    "print len(species_list)\n"
   ]
  },
  {
   "cell_type": "code",
   "execution_count": 10,
   "metadata": {
    "collapsed": false
   },
   "outputs": [
    {
     "data": {
      "text/plain": [
       "'b'"
      ]
     },
     "execution_count": 10,
     "metadata": {},
     "output_type": "execute_result"
    }
   ],
   "source": [
    "list_a = ['a','b','c']\n",
    "list_a[1]"
   ]
  },
  {
   "cell_type": "code",
   "execution_count": 22,
   "metadata": {
    "collapsed": false
   },
   "outputs": [
    {
     "name": "stdout",
     "output_type": "stream",
     "text": [
      "[ 2  3  7  1  6  5  8  4 11 14 15 13  9 10 17 16 20 23 18 21 22 19 12 24]\n",
      "24\n"
     ]
    }
   ],
   "source": [
    "plot_list = pd.unique(surveys_df['plot_id'])\n",
    "print plot_list\n",
    "print len(plot_list)\n"
   ]
  },
  {
   "cell_type": "code",
   "execution_count": 25,
   "metadata": {
    "collapsed": false
   },
   "outputs": [
    {
     "name": "stderr",
     "output_type": "stream",
     "text": [
      "C:\\Program Files\\Anaconda2\\lib\\site-packages\\numpy\\lib\\function_base.py:3834: RuntimeWarning: Invalid value encountered in percentile\n",
      "  RuntimeWarning)\n"
     ]
    },
    {
     "data": {
      "text/plain": [
       "count    32283.000000\n",
       "mean        42.672428\n",
       "std         36.631259\n",
       "min          4.000000\n",
       "25%               NaN\n",
       "50%               NaN\n",
       "75%               NaN\n",
       "max        280.000000\n",
       "Name: weight, dtype: float64"
      ]
     },
     "execution_count": 25,
     "metadata": {},
     "output_type": "execute_result"
    }
   ],
   "source": [
    "surveys_df['weight'].describe()"
   ]
  },
  {
   "cell_type": "code",
   "execution_count": 13,
   "metadata": {
    "collapsed": true
   },
   "outputs": [],
   "source": [
    "import matplotlib\n",
    "%matplotlib inline"
   ]
  },
  {
   "cell_type": "code",
   "execution_count": 8,
   "metadata": {
    "collapsed": false
   },
   "outputs": [
    {
     "name": "stdout",
     "output_type": "stream",
     "text": [
      "(4.0, 280.0, 42.672428212991356)\n"
     ]
    }
   ],
   "source": [
    "print (surveys_df['weight'].min(),\n",
    "surveys_df['weight'].max(),\n",
    "surveys_df['weight'].mean())\n"
   ]
  },
  {
   "cell_type": "code",
   "execution_count": null,
   "metadata": {
    "collapsed": true
   },
   "outputs": [],
   "source": [
    " "
   ]
  },
  {
   "cell_type": "code",
   "execution_count": 11,
   "metadata": {
    "collapsed": false
   },
   "outputs": [
    {
     "name": "stdout",
     "output_type": "stream",
     "text": [
      "                          day  hindfoot_length       month     record_id  \\\n",
      "sex plot_id                                                                \n",
      "F   1       count  848.000000       808.000000  848.000000    848.000000   \n",
      "            mean    15.338443        31.733911    6.597877  18390.384434   \n",
      "            std      8.325993         8.894939    3.366246  10469.790852   \n",
      "            min      1.000000        14.000000    1.000000      9.000000   \n",
      "            25%      9.000000              NaN    4.000000   8783.500000   \n",
      "            50%     15.000000              NaN    7.000000  19182.500000   \n",
      "            75%     22.000000              NaN   10.000000  27691.750000   \n",
      "            max     31.000000        64.000000   12.000000  35393.000000   \n",
      "    2       count  970.000000       918.000000  970.000000    970.000000   \n",
      "            mean    16.288660        30.161220    6.426804  17714.753608   \n",
      "            std      8.046509         8.677937    3.537694  10300.015076   \n",
      "            min      1.000000        14.000000    1.000000      3.000000   \n",
      "            25%     10.000000              NaN    3.000000   9580.250000   \n",
      "            50%     16.000000              NaN    6.000000  18104.500000   \n",
      "            75%     23.000000              NaN   10.000000  26586.500000   \n",
      "            max     31.000000        57.000000   12.000000  35405.000000   \n",
      "    3       count  893.000000       863.000000  893.000000    893.000000   \n",
      "            mean    16.161254        23.774044    6.604703  19888.783875   \n",
      "            std      7.961706         6.565124    3.307055   9352.010884   \n",
      "            min      1.000000        11.000000    1.000000     17.000000   \n",
      "            25%      9.000000              NaN    4.000000  12963.000000   \n",
      "            50%     16.000000              NaN    7.000000  20051.000000   \n",
      "            75%     23.000000              NaN    9.000000  27989.000000   \n",
      "            max     31.000000        54.000000   12.000000  35495.000000   \n",
      "    4       count  872.000000       835.000000  872.000000    872.000000   \n",
      "            mean    15.746560        33.249102    6.442661  17489.205275   \n",
      "            std      8.217829        10.122404    3.273442  10314.252887   \n",
      "            min      1.000000        12.000000    1.000000     16.000000   \n",
      "            25%      9.000000              NaN    4.000000   8733.000000   \n",
      "            50%     16.000000              NaN    6.000000  17441.500000   \n",
      "...                       ...              ...         ...           ...   \n",
      "M   21      std      8.328696         6.010020    3.527490  10033.899944   \n",
      "            min      1.000000        11.000000    1.000000     43.000000   \n",
      "            25%      9.000000              NaN    3.000000  12143.500000   \n",
      "            50%     16.000000              NaN    7.000000  22244.000000   \n",
      "            75%     23.000000              NaN   10.000000  28385.500000   \n",
      "            max     31.000000        49.000000   12.000000  35463.000000   \n",
      "    22      count  673.000000       631.000000  673.000000    673.000000   \n",
      "            mean    16.682021        33.359746    6.381872  18015.365527   \n",
      "            std      8.117620        10.145242    3.387841  10819.955805   \n",
      "            min      1.000000        13.000000    1.000000     45.000000   \n",
      "            25%     10.000000              NaN    3.000000   7703.000000   \n",
      "            50%     16.000000              NaN    6.000000  16660.000000   \n",
      "            75%     23.000000              NaN    9.000000  28213.000000   \n",
      "            max     31.000000        54.000000   12.000000  35476.000000   \n",
      "    23      count  207.000000       200.000000  207.000000    207.000000   \n",
      "            mean    16.077295        19.850000    6.391304  17091.338164   \n",
      "            std      7.955203         5.980496    3.543971   8852.413083   \n",
      "            min      1.000000        14.000000    1.000000     55.000000   \n",
      "            25%     10.000000              NaN    3.000000  11274.000000   \n",
      "            50%     16.000000              NaN    6.000000  15693.000000   \n",
      "            75%     23.000000              NaN   10.000000  24740.500000   \n",
      "            max     31.000000        50.000000   12.000000  35282.000000   \n",
      "    24      count  485.000000       446.000000  485.000000    485.000000   \n",
      "            mean    16.971134        25.786996    6.360825  15208.136082   \n",
      "            std      8.431738         8.350303    3.452708   9395.610252   \n",
      "            min      1.000000        12.000000    1.000000   2063.000000   \n",
      "            25%     10.000000              NaN    3.000000   6992.000000   \n",
      "            50%     17.000000              NaN    6.000000  12918.000000   \n",
      "            75%     24.000000              NaN   10.000000  22841.000000   \n",
      "            max     31.000000        51.000000   12.000000  35479.000000   \n",
      "\n",
      "                       weight         year  \n",
      "sex plot_id                                 \n",
      "F   1       count  826.000000   848.000000  \n",
      "            mean    46.311138  1990.933962  \n",
      "            std     33.240958     7.678171  \n",
      "            min      5.000000  1977.000000  \n",
      "            25%           NaN  1983.000000  \n",
      "            50%           NaN  1991.000000  \n",
      "            75%           NaN  1998.000000  \n",
      "            max    196.000000  2002.000000  \n",
      "    2       count  954.000000   970.000000  \n",
      "            mean    52.561845  1990.449485  \n",
      "            std     45.547697     7.519910  \n",
      "            min      5.000000  1977.000000  \n",
      "            25%           NaN  1984.000000  \n",
      "            50%           NaN  1990.000000  \n",
      "            75%           NaN  1997.000000  \n",
      "            max    274.000000  2002.000000  \n",
      "    3       count  873.000000   893.000000  \n",
      "            mean    31.215349  1992.013438  \n",
      "            std     30.687451     6.811511  \n",
      "            min      4.000000  1977.000000  \n",
      "            25%           NaN  1987.000000  \n",
      "            50%           NaN  1992.000000  \n",
      "            75%           NaN  1998.000000  \n",
      "            max    199.000000  2002.000000  \n",
      "    4       count  850.000000   872.000000  \n",
      "            mean    46.818824  1990.235092  \n",
      "            std     33.560664     7.535359  \n",
      "            min      5.000000  1977.000000  \n",
      "            25%           NaN  1983.000000  \n",
      "            50%           NaN  1990.000000  \n",
      "...                       ...          ...  \n",
      "M   21      std     18.984554     7.325456  \n",
      "            min      4.000000  1977.000000  \n",
      "            25%           NaN  1986.500000  \n",
      "            50%           NaN  1995.000000  \n",
      "            75%           NaN  1998.000000  \n",
      "            max    190.000000  2002.000000  \n",
      "    22      count  648.000000   673.000000  \n",
      "            mean    54.572531  1990.650817  \n",
      "            std     38.841066     7.868993  \n",
      "            min      6.000000  1977.000000  \n",
      "            25%           NaN  1983.000000  \n",
      "            50%           NaN  1989.000000  \n",
      "            75%           NaN  1998.000000  \n",
      "            max    212.000000  2002.000000  \n",
      "    23      count  205.000000   207.000000  \n",
      "            mean    18.941463  1989.961353  \n",
      "            std     17.979740     6.509027  \n",
      "            min      4.000000  1977.000000  \n",
      "            25%           NaN  1986.000000  \n",
      "            50%           NaN  1989.000000  \n",
      "            75%           NaN  1996.000000  \n",
      "            max    131.000000  2002.000000  \n",
      "    24      count  479.000000   485.000000  \n",
      "            mean    39.321503  1988.641237  \n",
      "            std     42.003947     6.825992  \n",
      "            min      4.000000  1979.000000  \n",
      "            25%           NaN  1982.000000  \n",
      "            50%           NaN  1987.000000  \n",
      "            75%           NaN  1995.000000  \n",
      "            max    230.000000  2002.000000  \n",
      "\n",
      "[384 rows x 6 columns]\n"
     ]
    }
   ],
   "source": [
    "grouped_data = surveys_df.groupby([\"sex\",\"plot_id\"])\n",
    "print (grouped_data.describe())"
   ]
  },
  {
   "cell_type": "code",
   "execution_count": 14,
   "metadata": {
    "collapsed": true
   },
   "outputs": [],
   "source": [
    "import matplotlib\n",
    "%matplotlib inline"
   ]
  },
  {
   "cell_type": "code",
   "execution_count": 15,
   "metadata": {
    "collapsed": true
   },
   "outputs": [],
   "source": [
    "species_counts = surveys_df.groupby('species_id')['record_id'].count()"
   ]
  },
  {
   "cell_type": "code",
   "execution_count": 16,
   "metadata": {
    "collapsed": false
   },
   "outputs": [
    {
     "data": {
      "text/plain": [
       "<matplotlib.axes._subplots.AxesSubplot at 0xa994208>"
      ]
     },
     "execution_count": 16,
     "metadata": {},
     "output_type": "execute_result"
    },
    {
     "data": {
      "image/png": "[encoded data removed]",
      "text/plain": [
       "<matplotlib.figure.Figure at 0xa90c5f8>"
      ]
     },
     "metadata": {},
     "output_type": "display_data"
    }
   ],
   "source": [
    "species_counts.plot(kind = 'bar')"
   ]
  },
  {
   "cell_type": "code",
   "execution_count": 19,
   "metadata": {
    "collapsed": false
   },
   "outputs": [
    {
     "name": "stdout",
     "output_type": "stream",
     "text": [
      "plot_id\n",
      "1     1995\n",
      "2     2194\n",
      "3     1828\n",
      "4     1969\n",
      "5     1194\n",
      "6     1582\n",
      "7      816\n",
      "8     1891\n",
      "9     1936\n",
      "10     469\n",
      "11    1918\n",
      "12    2365\n",
      "13    1538\n",
      "14    1885\n",
      "15    1069\n",
      "16     646\n",
      "17    2039\n",
      "18    1445\n",
      "19    1189\n",
      "20    1390\n",
      "21    1173\n",
      "22    1399\n",
      "23     571\n",
      "24    1048\n",
      "Name: record_id, dtype: int64\n"
     ]
    },
    {
     "data": {
      "text/plain": [
       "<matplotlib.axes._subplots.AxesSubplot at 0xaf53860>"
      ]
     },
     "execution_count": 19,
     "metadata": {},
     "output_type": "execute_result"
    },
    {
     "data": {
      "image/png": "[encoded data removed]",
      "text/plain": [
       "<matplotlib.figure.Figure at 0xadd10f0>"
      ]
     },
     "metadata": {},
     "output_type": "display_data"
    }
   ],
   "source": [
    "# how many animals were caught in each plot how many animals were captured in each plot:\n",
    "plot_animals = surveys_df.groupby('plot_id')['record_id'].count()\n",
    "print plot_animals\n",
    "plot_animals.plot(kind = 'bar')\n",
    "#hint: pd.unique(surveys_df['plot_id'])"
   ]
  },
  {
   "cell_type": "code",
   "execution_count": 30,
   "metadata": {
    "collapsed": false
   },
   "outputs": [
    {
     "name": "stdout",
     "output_type": "stream",
     "text": [
      "plot_id\n",
      "1     1995\n",
      "2     2194\n",
      "3     1828\n",
      "4     1969\n",
      "5     1194\n",
      "6     1582\n",
      "7      816\n",
      "8     1891\n",
      "9     1936\n",
      "10     469\n",
      "11    1918\n",
      "12    2365\n",
      "13    1538\n",
      "14    1885\n",
      "15    1069\n",
      "16     646\n",
      "17    2039\n",
      "18    1445\n",
      "19    1189\n",
      "20    1390\n",
      "21    1173\n",
      "22    1399\n",
      "23     571\n",
      "24    1048\n",
      "Name: record_id, dtype: int64\n"
     ]
    },
    {
     "data": {
      "text/plain": [
       "<matplotlib.axes._subplots.AxesSubplot at 0xd27e048>"
      ]
     },
     "execution_count": 30,
     "metadata": {},
     "output_type": "execute_result"
    },
    {
     "data": {
      "image/png": "[encoded data removed]",
      "text/plain": [
       "<matplotlib.figure.Figure at 0xd289898>"
      ]
     },
     "metadata": {},
     "output_type": "display_data"
    }
   ],
   "source": [
    "animalplot_count = surveys_df['record_id'].groupby(surveys_df['plot_id']).nunique()\n",
    "print animalplot_count\n",
    "animalplot_count.plot(kind='bar')"
   ]
  },
  {
   "cell_type": "code",
   "execution_count": 28,
   "metadata": {
    "collapsed": false
   },
   "outputs": [
    {
     "name": "stdout",
     "output_type": "stream",
     "text": [
      "plot_id\n",
      "1     51.82\n",
      "2     52.25\n",
      "3     32.65\n",
      "4     47.93\n",
      "5     40.95\n",
      "6     36.74\n",
      "7     20.66\n",
      "8     47.76\n",
      "9     51.43\n",
      "10    18.54\n",
      "11    43.45\n",
      "12    49.50\n",
      "13    40.45\n",
      "14    46.28\n",
      "15    27.04\n",
      "16    24.59\n",
      "17    47.89\n",
      "18    40.01\n",
      "19    21.11\n",
      "20    48.67\n",
      "21    24.63\n",
      "22    54.15\n",
      "23    19.63\n",
      "24    43.68\n",
      "Name: weight, dtype: float64\n"
     ]
    },
    {
     "data": {
      "text/plain": [
       "<matplotlib.axes._subplots.AxesSubplot at 0xc54ae80>"
      ]
     },
     "execution_count": 28,
     "metadata": {},
     "output_type": "execute_result"
    },
    {
     "data": {
      "image/png": "[encoded data removed]",
      "text/plain": [
       "<matplotlib.figure.Figure at 0xccf9208>"
      ]
     },
     "metadata": {},
     "output_type": "display_data"
    }
   ],
   "source": [
    "# average weight of animals in each plot\n",
    "average_weight = surveys_df.groupby('plot_id')['weight'].mean().round(2)\n",
    "print average_weight\n",
    "average_weight.plot(kind = 'bar')\n"
   ]
  },
  {
   "cell_type": "code",
   "execution_count": 32,
   "metadata": {
    "collapsed": false
   },
   "outputs": [
    {
     "name": "stdout",
     "output_type": "stream",
     "text": [
      "[2, 3, 4, 5]\n"
     ]
    }
   ],
   "source": [
    "list_b = [1,2,3,4,5]\n",
    "print list_b[1:]"
   ]
  },
  {
   "cell_type": "code",
   "execution_count": 40,
   "metadata": {
    "collapsed": false
   },
   "outputs": [
    {
     "data": {
      "text/html": [
       "<div>\n",
       "<table border=\"1\" class=\"dataframe\">\n",
       "  <thead>\n",
       "    <tr style=\"text-align: right;\">\n",
       "      <th></th>\n",
       "      <th>sex</th>\n",
       "      <th>species_id</th>\n",
       "    </tr>\n",
       "  </thead>\n",
       "  <tbody>\n",
       "    <tr>\n",
       "      <th>100</th>\n",
       "      <td>F</td>\n",
       "      <td>DM</td>\n",
       "    </tr>\n",
       "    <tr>\n",
       "      <th>101</th>\n",
       "      <td>F</td>\n",
       "      <td>DM</td>\n",
       "    </tr>\n",
       "    <tr>\n",
       "      <th>102</th>\n",
       "      <td>F</td>\n",
       "      <td>DM</td>\n",
       "    </tr>\n",
       "    <tr>\n",
       "      <th>103</th>\n",
       "      <td>M</td>\n",
       "      <td>DS</td>\n",
       "    </tr>\n",
       "  </tbody>\n",
       "</table>\n",
       "</div>"
      ],
      "text/plain": [
       "    sex species_id\n",
       "100   F         DM\n",
       "101   F         DM\n",
       "102   F         DM\n",
       "103   M         DS"
      ]
     },
     "execution_count": 40,
     "metadata": {},
     "output_type": "execute_result"
    }
   ],
   "source": [
    "surveys_df[100:104][['sex','species_id']]"
   ]
  },
  {
   "cell_type": "code",
   "execution_count": 41,
   "metadata": {
    "collapsed": true
   },
   "outputs": [],
   "source": [
    "surveys_copy = surveys_df.copy() #create an exact copy of surveys_df"
   ]
  },
  {
   "cell_type": "code",
   "execution_count": 45,
   "metadata": {
    "collapsed": false
   },
   "outputs": [
    {
     "data": {
      "text/html": [
       "<div>\n",
       "<table border=\"1\" class=\"dataframe\">\n",
       "  <thead>\n",
       "    <tr style=\"text-align: right;\">\n",
       "      <th></th>\n",
       "      <th>record_id</th>\n",
       "      <th>month</th>\n",
       "      <th>day</th>\n",
       "      <th>year</th>\n",
       "      <th>plot_id</th>\n",
       "      <th>species_id</th>\n",
       "      <th>sex</th>\n",
       "      <th>hindfoot_length</th>\n",
       "      <th>weight</th>\n",
       "    </tr>\n",
       "  </thead>\n",
       "  <tbody>\n",
       "    <tr>\n",
       "      <th>0</th>\n",
       "      <td>1</td>\n",
       "      <td>7</td>\n",
       "      <td>16</td>\n",
       "      <td>1977</td>\n",
       "      <td>2</td>\n",
       "      <td>NL</td>\n",
       "      <td>M</td>\n",
       "      <td>32.0</td>\n",
       "      <td>NaN</td>\n",
       "    </tr>\n",
       "    <tr>\n",
       "      <th>1</th>\n",
       "      <td>2</td>\n",
       "      <td>7</td>\n",
       "      <td>16</td>\n",
       "      <td>1977</td>\n",
       "      <td>3</td>\n",
       "      <td>NL</td>\n",
       "      <td>M</td>\n",
       "      <td>33.0</td>\n",
       "      <td>NaN</td>\n",
       "    </tr>\n",
       "    <tr>\n",
       "      <th>2</th>\n",
       "      <td>3</td>\n",
       "      <td>7</td>\n",
       "      <td>16</td>\n",
       "      <td>1977</td>\n",
       "      <td>2</td>\n",
       "      <td>DM</td>\n",
       "      <td>F</td>\n",
       "      <td>37.0</td>\n",
       "      <td>NaN</td>\n",
       "    </tr>\n",
       "    <tr>\n",
       "      <th>3</th>\n",
       "      <td>4</td>\n",
       "      <td>7</td>\n",
       "      <td>16</td>\n",
       "      <td>1977</td>\n",
       "      <td>7</td>\n",
       "      <td>DM</td>\n",
       "      <td>M</td>\n",
       "      <td>36.0</td>\n",
       "      <td>NaN</td>\n",
       "    </tr>\n",
       "    <tr>\n",
       "      <th>4</th>\n",
       "      <td>5</td>\n",
       "      <td>7</td>\n",
       "      <td>16</td>\n",
       "      <td>1977</td>\n",
       "      <td>3</td>\n",
       "      <td>DM</td>\n",
       "      <td>M</td>\n",
       "      <td>35.0</td>\n",
       "      <td>NaN</td>\n",
       "    </tr>\n",
       "    <tr>\n",
       "      <th>5</th>\n",
       "      <td>6</td>\n",
       "      <td>7</td>\n",
       "      <td>16</td>\n",
       "      <td>1977</td>\n",
       "      <td>1</td>\n",
       "      <td>PF</td>\n",
       "      <td>M</td>\n",
       "      <td>14.0</td>\n",
       "      <td>NaN</td>\n",
       "    </tr>\n",
       "    <tr>\n",
       "      <th>6</th>\n",
       "      <td>7</td>\n",
       "      <td>7</td>\n",
       "      <td>16</td>\n",
       "      <td>1977</td>\n",
       "      <td>2</td>\n",
       "      <td>PE</td>\n",
       "      <td>F</td>\n",
       "      <td>NaN</td>\n",
       "      <td>NaN</td>\n",
       "    </tr>\n",
       "    <tr>\n",
       "      <th>7</th>\n",
       "      <td>8</td>\n",
       "      <td>7</td>\n",
       "      <td>16</td>\n",
       "      <td>1977</td>\n",
       "      <td>1</td>\n",
       "      <td>DM</td>\n",
       "      <td>M</td>\n",
       "      <td>37.0</td>\n",
       "      <td>NaN</td>\n",
       "    </tr>\n",
       "    <tr>\n",
       "      <th>8</th>\n",
       "      <td>9</td>\n",
       "      <td>7</td>\n",
       "      <td>16</td>\n",
       "      <td>1977</td>\n",
       "      <td>1</td>\n",
       "      <td>DM</td>\n",
       "      <td>F</td>\n",
       "      <td>34.0</td>\n",
       "      <td>NaN</td>\n",
       "    </tr>\n",
       "    <tr>\n",
       "      <th>9</th>\n",
       "      <td>10</td>\n",
       "      <td>7</td>\n",
       "      <td>16</td>\n",
       "      <td>1977</td>\n",
       "      <td>6</td>\n",
       "      <td>PF</td>\n",
       "      <td>F</td>\n",
       "      <td>20.0</td>\n",
       "      <td>NaN</td>\n",
       "    </tr>\n",
       "    <tr>\n",
       "      <th>10</th>\n",
       "      <td>11</td>\n",
       "      <td>7</td>\n",
       "      <td>16</td>\n",
       "      <td>1977</td>\n",
       "      <td>5</td>\n",
       "      <td>DS</td>\n",
       "      <td>F</td>\n",
       "      <td>53.0</td>\n",
       "      <td>NaN</td>\n",
       "    </tr>\n",
       "    <tr>\n",
       "      <th>11</th>\n",
       "      <td>12</td>\n",
       "      <td>7</td>\n",
       "      <td>16</td>\n",
       "      <td>1977</td>\n",
       "      <td>7</td>\n",
       "      <td>DM</td>\n",
       "      <td>M</td>\n",
       "      <td>38.0</td>\n",
       "      <td>NaN</td>\n",
       "    </tr>\n",
       "    <tr>\n",
       "      <th>12</th>\n",
       "      <td>13</td>\n",
       "      <td>7</td>\n",
       "      <td>16</td>\n",
       "      <td>1977</td>\n",
       "      <td>3</td>\n",
       "      <td>DM</td>\n",
       "      <td>M</td>\n",
       "      <td>35.0</td>\n",
       "      <td>NaN</td>\n",
       "    </tr>\n",
       "    <tr>\n",
       "      <th>13</th>\n",
       "      <td>14</td>\n",
       "      <td>7</td>\n",
       "      <td>16</td>\n",
       "      <td>1977</td>\n",
       "      <td>8</td>\n",
       "      <td>DM</td>\n",
       "      <td>NaN</td>\n",
       "      <td>NaN</td>\n",
       "      <td>NaN</td>\n",
       "    </tr>\n",
       "    <tr>\n",
       "      <th>14</th>\n",
       "      <td>15</td>\n",
       "      <td>7</td>\n",
       "      <td>16</td>\n",
       "      <td>1977</td>\n",
       "      <td>6</td>\n",
       "      <td>DM</td>\n",
       "      <td>F</td>\n",
       "      <td>36.0</td>\n",
       "      <td>NaN</td>\n",
       "    </tr>\n",
       "    <tr>\n",
       "      <th>15</th>\n",
       "      <td>16</td>\n",
       "      <td>7</td>\n",
       "      <td>16</td>\n",
       "      <td>1977</td>\n",
       "      <td>4</td>\n",
       "      <td>DM</td>\n",
       "      <td>F</td>\n",
       "      <td>36.0</td>\n",
       "      <td>NaN</td>\n",
       "    </tr>\n",
       "    <tr>\n",
       "      <th>16</th>\n",
       "      <td>17</td>\n",
       "      <td>7</td>\n",
       "      <td>16</td>\n",
       "      <td>1977</td>\n",
       "      <td>3</td>\n",
       "      <td>DS</td>\n",
       "      <td>F</td>\n",
       "      <td>48.0</td>\n",
       "      <td>NaN</td>\n",
       "    </tr>\n",
       "    <tr>\n",
       "      <th>17</th>\n",
       "      <td>18</td>\n",
       "      <td>7</td>\n",
       "      <td>16</td>\n",
       "      <td>1977</td>\n",
       "      <td>2</td>\n",
       "      <td>PP</td>\n",
       "      <td>M</td>\n",
       "      <td>22.0</td>\n",
       "      <td>NaN</td>\n",
       "    </tr>\n",
       "    <tr>\n",
       "      <th>18</th>\n",
       "      <td>19</td>\n",
       "      <td>7</td>\n",
       "      <td>16</td>\n",
       "      <td>1977</td>\n",
       "      <td>4</td>\n",
       "      <td>PF</td>\n",
       "      <td>NaN</td>\n",
       "      <td>NaN</td>\n",
       "      <td>NaN</td>\n",
       "    </tr>\n",
       "    <tr>\n",
       "      <th>19</th>\n",
       "      <td>20</td>\n",
       "      <td>7</td>\n",
       "      <td>17</td>\n",
       "      <td>1977</td>\n",
       "      <td>11</td>\n",
       "      <td>DS</td>\n",
       "      <td>F</td>\n",
       "      <td>48.0</td>\n",
       "      <td>NaN</td>\n",
       "    </tr>\n",
       "    <tr>\n",
       "      <th>20</th>\n",
       "      <td>21</td>\n",
       "      <td>7</td>\n",
       "      <td>17</td>\n",
       "      <td>1977</td>\n",
       "      <td>14</td>\n",
       "      <td>DM</td>\n",
       "      <td>F</td>\n",
       "      <td>34.0</td>\n",
       "      <td>NaN</td>\n",
       "    </tr>\n",
       "    <tr>\n",
       "      <th>21</th>\n",
       "      <td>22</td>\n",
       "      <td>7</td>\n",
       "      <td>17</td>\n",
       "      <td>1977</td>\n",
       "      <td>15</td>\n",
       "      <td>NL</td>\n",
       "      <td>F</td>\n",
       "      <td>31.0</td>\n",
       "      <td>NaN</td>\n",
       "    </tr>\n",
       "    <tr>\n",
       "      <th>22</th>\n",
       "      <td>23</td>\n",
       "      <td>7</td>\n",
       "      <td>17</td>\n",
       "      <td>1977</td>\n",
       "      <td>13</td>\n",
       "      <td>DM</td>\n",
       "      <td>M</td>\n",
       "      <td>36.0</td>\n",
       "      <td>NaN</td>\n",
       "    </tr>\n",
       "    <tr>\n",
       "      <th>23</th>\n",
       "      <td>24</td>\n",
       "      <td>7</td>\n",
       "      <td>17</td>\n",
       "      <td>1977</td>\n",
       "      <td>13</td>\n",
       "      <td>SH</td>\n",
       "      <td>M</td>\n",
       "      <td>21.0</td>\n",
       "      <td>NaN</td>\n",
       "    </tr>\n",
       "    <tr>\n",
       "      <th>24</th>\n",
       "      <td>25</td>\n",
       "      <td>7</td>\n",
       "      <td>17</td>\n",
       "      <td>1977</td>\n",
       "      <td>9</td>\n",
       "      <td>DM</td>\n",
       "      <td>M</td>\n",
       "      <td>35.0</td>\n",
       "      <td>NaN</td>\n",
       "    </tr>\n",
       "    <tr>\n",
       "      <th>25</th>\n",
       "      <td>26</td>\n",
       "      <td>7</td>\n",
       "      <td>17</td>\n",
       "      <td>1977</td>\n",
       "      <td>15</td>\n",
       "      <td>DM</td>\n",
       "      <td>M</td>\n",
       "      <td>31.0</td>\n",
       "      <td>NaN</td>\n",
       "    </tr>\n",
       "    <tr>\n",
       "      <th>26</th>\n",
       "      <td>27</td>\n",
       "      <td>7</td>\n",
       "      <td>17</td>\n",
       "      <td>1977</td>\n",
       "      <td>15</td>\n",
       "      <td>DM</td>\n",
       "      <td>M</td>\n",
       "      <td>36.0</td>\n",
       "      <td>NaN</td>\n",
       "    </tr>\n",
       "    <tr>\n",
       "      <th>27</th>\n",
       "      <td>28</td>\n",
       "      <td>7</td>\n",
       "      <td>17</td>\n",
       "      <td>1977</td>\n",
       "      <td>11</td>\n",
       "      <td>DM</td>\n",
       "      <td>M</td>\n",
       "      <td>38.0</td>\n",
       "      <td>NaN</td>\n",
       "    </tr>\n",
       "    <tr>\n",
       "      <th>28</th>\n",
       "      <td>29</td>\n",
       "      <td>7</td>\n",
       "      <td>17</td>\n",
       "      <td>1977</td>\n",
       "      <td>11</td>\n",
       "      <td>PP</td>\n",
       "      <td>M</td>\n",
       "      <td>NaN</td>\n",
       "      <td>NaN</td>\n",
       "    </tr>\n",
       "    <tr>\n",
       "      <th>29</th>\n",
       "      <td>30</td>\n",
       "      <td>7</td>\n",
       "      <td>17</td>\n",
       "      <td>1977</td>\n",
       "      <td>10</td>\n",
       "      <td>DS</td>\n",
       "      <td>F</td>\n",
       "      <td>52.0</td>\n",
       "      <td>NaN</td>\n",
       "    </tr>\n",
       "    <tr>\n",
       "      <th>...</th>\n",
       "      <td>...</td>\n",
       "      <td>...</td>\n",
       "      <td>...</td>\n",
       "      <td>...</td>\n",
       "      <td>...</td>\n",
       "      <td>...</td>\n",
       "      <td>...</td>\n",
       "      <td>...</td>\n",
       "      <td>...</td>\n",
       "    </tr>\n",
       "    <tr>\n",
       "      <th>33290</th>\n",
       "      <td>33291</td>\n",
       "      <td>12</td>\n",
       "      <td>15</td>\n",
       "      <td>2001</td>\n",
       "      <td>23</td>\n",
       "      <td>PE</td>\n",
       "      <td>M</td>\n",
       "      <td>20.0</td>\n",
       "      <td>18.0</td>\n",
       "    </tr>\n",
       "    <tr>\n",
       "      <th>33291</th>\n",
       "      <td>33292</td>\n",
       "      <td>12</td>\n",
       "      <td>15</td>\n",
       "      <td>2001</td>\n",
       "      <td>23</td>\n",
       "      <td>RM</td>\n",
       "      <td>F</td>\n",
       "      <td>16.0</td>\n",
       "      <td>8.0</td>\n",
       "    </tr>\n",
       "    <tr>\n",
       "      <th>33292</th>\n",
       "      <td>33293</td>\n",
       "      <td>12</td>\n",
       "      <td>15</td>\n",
       "      <td>2001</td>\n",
       "      <td>20</td>\n",
       "      <td>PE</td>\n",
       "      <td>F</td>\n",
       "      <td>20.0</td>\n",
       "      <td>22.0</td>\n",
       "    </tr>\n",
       "    <tr>\n",
       "      <th>33293</th>\n",
       "      <td>33294</td>\n",
       "      <td>12</td>\n",
       "      <td>15</td>\n",
       "      <td>2001</td>\n",
       "      <td>20</td>\n",
       "      <td>SH</td>\n",
       "      <td>M</td>\n",
       "      <td>25.0</td>\n",
       "      <td>43.0</td>\n",
       "    </tr>\n",
       "    <tr>\n",
       "      <th>33294</th>\n",
       "      <td>33295</td>\n",
       "      <td>12</td>\n",
       "      <td>15</td>\n",
       "      <td>2001</td>\n",
       "      <td>20</td>\n",
       "      <td>PB</td>\n",
       "      <td>F</td>\n",
       "      <td>27.0</td>\n",
       "      <td>33.0</td>\n",
       "    </tr>\n",
       "    <tr>\n",
       "      <th>33295</th>\n",
       "      <td>33296</td>\n",
       "      <td>12</td>\n",
       "      <td>15</td>\n",
       "      <td>2001</td>\n",
       "      <td>20</td>\n",
       "      <td>PB</td>\n",
       "      <td>M</td>\n",
       "      <td>25.0</td>\n",
       "      <td>35.0</td>\n",
       "    </tr>\n",
       "    <tr>\n",
       "      <th>33296</th>\n",
       "      <td>33297</td>\n",
       "      <td>12</td>\n",
       "      <td>15</td>\n",
       "      <td>2001</td>\n",
       "      <td>20</td>\n",
       "      <td>RM</td>\n",
       "      <td>M</td>\n",
       "      <td>16.0</td>\n",
       "      <td>11.0</td>\n",
       "    </tr>\n",
       "    <tr>\n",
       "      <th>33297</th>\n",
       "      <td>33298</td>\n",
       "      <td>12</td>\n",
       "      <td>15</td>\n",
       "      <td>2001</td>\n",
       "      <td>20</td>\n",
       "      <td>RM</td>\n",
       "      <td>F</td>\n",
       "      <td>16.0</td>\n",
       "      <td>8.0</td>\n",
       "    </tr>\n",
       "    <tr>\n",
       "      <th>33298</th>\n",
       "      <td>33299</td>\n",
       "      <td>12</td>\n",
       "      <td>15</td>\n",
       "      <td>2001</td>\n",
       "      <td>20</td>\n",
       "      <td>PB</td>\n",
       "      <td>F</td>\n",
       "      <td>25.0</td>\n",
       "      <td>28.0</td>\n",
       "    </tr>\n",
       "    <tr>\n",
       "      <th>33299</th>\n",
       "      <td>33300</td>\n",
       "      <td>12</td>\n",
       "      <td>15</td>\n",
       "      <td>2001</td>\n",
       "      <td>20</td>\n",
       "      <td>PB</td>\n",
       "      <td>F</td>\n",
       "      <td>26.0</td>\n",
       "      <td>30.0</td>\n",
       "    </tr>\n",
       "    <tr>\n",
       "      <th>33300</th>\n",
       "      <td>33301</td>\n",
       "      <td>12</td>\n",
       "      <td>15</td>\n",
       "      <td>2001</td>\n",
       "      <td>20</td>\n",
       "      <td>PB</td>\n",
       "      <td>F</td>\n",
       "      <td>27.0</td>\n",
       "      <td>31.0</td>\n",
       "    </tr>\n",
       "    <tr>\n",
       "      <th>33301</th>\n",
       "      <td>33302</td>\n",
       "      <td>12</td>\n",
       "      <td>15</td>\n",
       "      <td>2001</td>\n",
       "      <td>24</td>\n",
       "      <td>PE</td>\n",
       "      <td>M</td>\n",
       "      <td>20.0</td>\n",
       "      <td>24.0</td>\n",
       "    </tr>\n",
       "    <tr>\n",
       "      <th>33302</th>\n",
       "      <td>33303</td>\n",
       "      <td>12</td>\n",
       "      <td>15</td>\n",
       "      <td>2001</td>\n",
       "      <td>24</td>\n",
       "      <td>PE</td>\n",
       "      <td>M</td>\n",
       "      <td>20.0</td>\n",
       "      <td>23.0</td>\n",
       "    </tr>\n",
       "    <tr>\n",
       "      <th>33303</th>\n",
       "      <td>33304</td>\n",
       "      <td>12</td>\n",
       "      <td>15</td>\n",
       "      <td>2001</td>\n",
       "      <td>24</td>\n",
       "      <td>RM</td>\n",
       "      <td>M</td>\n",
       "      <td>16.0</td>\n",
       "      <td>10.0</td>\n",
       "    </tr>\n",
       "    <tr>\n",
       "      <th>33304</th>\n",
       "      <td>33305</td>\n",
       "      <td>12</td>\n",
       "      <td>15</td>\n",
       "      <td>2001</td>\n",
       "      <td>7</td>\n",
       "      <td>PB</td>\n",
       "      <td>M</td>\n",
       "      <td>29.0</td>\n",
       "      <td>44.0</td>\n",
       "    </tr>\n",
       "    <tr>\n",
       "      <th>33305</th>\n",
       "      <td>33306</td>\n",
       "      <td>12</td>\n",
       "      <td>15</td>\n",
       "      <td>2001</td>\n",
       "      <td>7</td>\n",
       "      <td>OT</td>\n",
       "      <td>M</td>\n",
       "      <td>19.0</td>\n",
       "      <td>21.0</td>\n",
       "    </tr>\n",
       "    <tr>\n",
       "      <th>33306</th>\n",
       "      <td>33307</td>\n",
       "      <td>12</td>\n",
       "      <td>15</td>\n",
       "      <td>2001</td>\n",
       "      <td>7</td>\n",
       "      <td>OT</td>\n",
       "      <td>M</td>\n",
       "      <td>20.0</td>\n",
       "      <td>19.0</td>\n",
       "    </tr>\n",
       "    <tr>\n",
       "      <th>33307</th>\n",
       "      <td>33308</td>\n",
       "      <td>12</td>\n",
       "      <td>15</td>\n",
       "      <td>2001</td>\n",
       "      <td>7</td>\n",
       "      <td>PP</td>\n",
       "      <td>M</td>\n",
       "      <td>24.0</td>\n",
       "      <td>16.0</td>\n",
       "    </tr>\n",
       "    <tr>\n",
       "      <th>33308</th>\n",
       "      <td>33309</td>\n",
       "      <td>12</td>\n",
       "      <td>16</td>\n",
       "      <td>2001</td>\n",
       "      <td>3</td>\n",
       "      <td>NaN</td>\n",
       "      <td>NaN</td>\n",
       "      <td>NaN</td>\n",
       "      <td>NaN</td>\n",
       "    </tr>\n",
       "    <tr>\n",
       "      <th>33309</th>\n",
       "      <td>33310</td>\n",
       "      <td>12</td>\n",
       "      <td>16</td>\n",
       "      <td>2001</td>\n",
       "      <td>4</td>\n",
       "      <td>NaN</td>\n",
       "      <td>NaN</td>\n",
       "      <td>NaN</td>\n",
       "      <td>NaN</td>\n",
       "    </tr>\n",
       "    <tr>\n",
       "      <th>33310</th>\n",
       "      <td>33311</td>\n",
       "      <td>12</td>\n",
       "      <td>16</td>\n",
       "      <td>2001</td>\n",
       "      <td>5</td>\n",
       "      <td>NaN</td>\n",
       "      <td>NaN</td>\n",
       "      <td>NaN</td>\n",
       "      <td>NaN</td>\n",
       "    </tr>\n",
       "    <tr>\n",
       "      <th>33311</th>\n",
       "      <td>33312</td>\n",
       "      <td>12</td>\n",
       "      <td>16</td>\n",
       "      <td>2001</td>\n",
       "      <td>6</td>\n",
       "      <td>NaN</td>\n",
       "      <td>NaN</td>\n",
       "      <td>NaN</td>\n",
       "      <td>NaN</td>\n",
       "    </tr>\n",
       "    <tr>\n",
       "      <th>33312</th>\n",
       "      <td>33313</td>\n",
       "      <td>12</td>\n",
       "      <td>16</td>\n",
       "      <td>2001</td>\n",
       "      <td>8</td>\n",
       "      <td>NaN</td>\n",
       "      <td>NaN</td>\n",
       "      <td>NaN</td>\n",
       "      <td>NaN</td>\n",
       "    </tr>\n",
       "    <tr>\n",
       "      <th>33313</th>\n",
       "      <td>33314</td>\n",
       "      <td>12</td>\n",
       "      <td>16</td>\n",
       "      <td>2001</td>\n",
       "      <td>9</td>\n",
       "      <td>NaN</td>\n",
       "      <td>NaN</td>\n",
       "      <td>NaN</td>\n",
       "      <td>NaN</td>\n",
       "    </tr>\n",
       "    <tr>\n",
       "      <th>33314</th>\n",
       "      <td>33315</td>\n",
       "      <td>12</td>\n",
       "      <td>16</td>\n",
       "      <td>2001</td>\n",
       "      <td>10</td>\n",
       "      <td>NaN</td>\n",
       "      <td>NaN</td>\n",
       "      <td>NaN</td>\n",
       "      <td>NaN</td>\n",
       "    </tr>\n",
       "    <tr>\n",
       "      <th>33315</th>\n",
       "      <td>33316</td>\n",
       "      <td>12</td>\n",
       "      <td>16</td>\n",
       "      <td>2001</td>\n",
       "      <td>11</td>\n",
       "      <td>NaN</td>\n",
       "      <td>NaN</td>\n",
       "      <td>NaN</td>\n",
       "      <td>NaN</td>\n",
       "    </tr>\n",
       "    <tr>\n",
       "      <th>33316</th>\n",
       "      <td>33317</td>\n",
       "      <td>12</td>\n",
       "      <td>16</td>\n",
       "      <td>2001</td>\n",
       "      <td>13</td>\n",
       "      <td>NaN</td>\n",
       "      <td>NaN</td>\n",
       "      <td>NaN</td>\n",
       "      <td>NaN</td>\n",
       "    </tr>\n",
       "    <tr>\n",
       "      <th>33317</th>\n",
       "      <td>33318</td>\n",
       "      <td>12</td>\n",
       "      <td>16</td>\n",
       "      <td>2001</td>\n",
       "      <td>14</td>\n",
       "      <td>NaN</td>\n",
       "      <td>NaN</td>\n",
       "      <td>NaN</td>\n",
       "      <td>NaN</td>\n",
       "    </tr>\n",
       "    <tr>\n",
       "      <th>33318</th>\n",
       "      <td>33319</td>\n",
       "      <td>12</td>\n",
       "      <td>16</td>\n",
       "      <td>2001</td>\n",
       "      <td>15</td>\n",
       "      <td>NaN</td>\n",
       "      <td>NaN</td>\n",
       "      <td>NaN</td>\n",
       "      <td>NaN</td>\n",
       "    </tr>\n",
       "    <tr>\n",
       "      <th>33319</th>\n",
       "      <td>33320</td>\n",
       "      <td>12</td>\n",
       "      <td>16</td>\n",
       "      <td>2001</td>\n",
       "      <td>16</td>\n",
       "      <td>NaN</td>\n",
       "      <td>NaN</td>\n",
       "      <td>NaN</td>\n",
       "      <td>NaN</td>\n",
       "    </tr>\n",
       "  </tbody>\n",
       "</table>\n",
       "<p>33320 rows × 9 columns</p>\n",
       "</div>"
      ],
      "text/plain": [
       "       record_id  month  day  year  plot_id species_id  sex  hindfoot_length  \\\n",
       "0              1      7   16  1977        2         NL    M             32.0   \n",
       "1              2      7   16  1977        3         NL    M             33.0   \n",
       "2              3      7   16  1977        2         DM    F             37.0   \n",
       "3              4      7   16  1977        7         DM    M             36.0   \n",
       "4              5      7   16  1977        3         DM    M             35.0   \n",
       "5              6      7   16  1977        1         PF    M             14.0   \n",
       "6              7      7   16  1977        2         PE    F              NaN   \n",
       "7              8      7   16  1977        1         DM    M             37.0   \n",
       "8              9      7   16  1977        1         DM    F             34.0   \n",
       "9             10      7   16  1977        6         PF    F             20.0   \n",
       "10            11      7   16  1977        5         DS    F             53.0   \n",
       "11            12      7   16  1977        7         DM    M             38.0   \n",
       "12            13      7   16  1977        3         DM    M             35.0   \n",
       "13            14      7   16  1977        8         DM  NaN              NaN   \n",
       "14            15      7   16  1977        6         DM    F             36.0   \n",
       "15            16      7   16  1977        4         DM    F             36.0   \n",
       "16            17      7   16  1977        3         DS    F             48.0   \n",
       "17            18      7   16  1977        2         PP    M             22.0   \n",
       "18            19      7   16  1977        4         PF  NaN              NaN   \n",
       "19            20      7   17  1977       11         DS    F             48.0   \n",
       "20            21      7   17  1977       14         DM    F             34.0   \n",
       "21            22      7   17  1977       15         NL    F             31.0   \n",
       "22            23      7   17  1977       13         DM    M             36.0   \n",
       "23            24      7   17  1977       13         SH    M             21.0   \n",
       "24            25      7   17  1977        9         DM    M             35.0   \n",
       "25            26      7   17  1977       15         DM    M             31.0   \n",
       "26            27      7   17  1977       15         DM    M             36.0   \n",
       "27            28      7   17  1977       11         DM    M             38.0   \n",
       "28            29      7   17  1977       11         PP    M              NaN   \n",
       "29            30      7   17  1977       10         DS    F             52.0   \n",
       "...          ...    ...  ...   ...      ...        ...  ...              ...   \n",
       "33290      33291     12   15  2001       23         PE    M             20.0   \n",
       "33291      33292     12   15  2001       23         RM    F             16.0   \n",
       "33292      33293     12   15  2001       20         PE    F             20.0   \n",
       "33293      33294     12   15  2001       20         SH    M             25.0   \n",
       "33294      33295     12   15  2001       20         PB    F             27.0   \n",
       "33295      33296     12   15  2001       20         PB    M             25.0   \n",
       "33296      33297     12   15  2001       20         RM    M             16.0   \n",
       "33297      33298     12   15  2001       20         RM    F             16.0   \n",
       "33298      33299     12   15  2001       20         PB    F             25.0   \n",
       "33299      33300     12   15  2001       20         PB    F             26.0   \n",
       "33300      33301     12   15  2001       20         PB    F             27.0   \n",
       "33301      33302     12   15  2001       24         PE    M             20.0   \n",
       "33302      33303     12   15  2001       24         PE    M             20.0   \n",
       "33303      33304     12   15  2001       24         RM    M             16.0   \n",
       "33304      33305     12   15  2001        7         PB    M             29.0   \n",
       "33305      33306     12   15  2001        7         OT    M             19.0   \n",
       "33306      33307     12   15  2001        7         OT    M             20.0   \n",
       "33307      33308     12   15  2001        7         PP    M             24.0   \n",
       "33308      33309     12   16  2001        3        NaN  NaN              NaN   \n",
       "33309      33310     12   16  2001        4        NaN  NaN              NaN   \n",
       "33310      33311     12   16  2001        5        NaN  NaN              NaN   \n",
       "33311      33312     12   16  2001        6        NaN  NaN              NaN   \n",
       "33312      33313     12   16  2001        8        NaN  NaN              NaN   \n",
       "33313      33314     12   16  2001        9        NaN  NaN              NaN   \n",
       "33314      33315     12   16  2001       10        NaN  NaN              NaN   \n",
       "33315      33316     12   16  2001       11        NaN  NaN              NaN   \n",
       "33316      33317     12   16  2001       13        NaN  NaN              NaN   \n",
       "33317      33318     12   16  2001       14        NaN  NaN              NaN   \n",
       "33318      33319     12   16  2001       15        NaN  NaN              NaN   \n",
       "33319      33320     12   16  2001       16        NaN  NaN              NaN   \n",
       "\n",
       "       weight  \n",
       "0         NaN  \n",
       "1         NaN  \n",
       "2         NaN  \n",
       "3         NaN  \n",
       "4         NaN  \n",
       "5         NaN  \n",
       "6         NaN  \n",
       "7         NaN  \n",
       "8         NaN  \n",
       "9         NaN  \n",
       "10        NaN  \n",
       "11        NaN  \n",
       "12        NaN  \n",
       "13        NaN  \n",
       "14        NaN  \n",
       "15        NaN  \n",
       "16        NaN  \n",
       "17        NaN  \n",
       "18        NaN  \n",
       "19        NaN  \n",
       "20        NaN  \n",
       "21        NaN  \n",
       "22        NaN  \n",
       "23        NaN  \n",
       "24        NaN  \n",
       "25        NaN  \n",
       "26        NaN  \n",
       "27        NaN  \n",
       "28        NaN  \n",
       "29        NaN  \n",
       "...       ...  \n",
       "33290    18.0  \n",
       "33291     8.0  \n",
       "33292    22.0  \n",
       "33293    43.0  \n",
       "33294    33.0  \n",
       "33295    35.0  \n",
       "33296    11.0  \n",
       "33297     8.0  \n",
       "33298    28.0  \n",
       "33299    30.0  \n",
       "33300    31.0  \n",
       "33301    24.0  \n",
       "33302    23.0  \n",
       "33303    10.0  \n",
       "33304    44.0  \n",
       "33305    21.0  \n",
       "33306    19.0  \n",
       "33307    16.0  \n",
       "33308     NaN  \n",
       "33309     NaN  \n",
       "33310     NaN  \n",
       "33311     NaN  \n",
       "33312     NaN  \n",
       "33313     NaN  \n",
       "33314     NaN  \n",
       "33315     NaN  \n",
       "33316     NaN  \n",
       "33317     NaN  \n",
       "33318     NaN  \n",
       "33319     NaN  \n",
       "\n",
       "[33320 rows x 9 columns]"
      ]
     },
     "execution_count": 45,
     "metadata": {},
     "output_type": "execute_result"
    }
   ],
   "source": [
    "surveys_df[surveys_df.year!=2002]"
   ]
  },
  {
   "cell_type": "code",
   "execution_count": 47,
   "metadata": {
    "collapsed": true
   },
   "outputs": [],
   "source": [
    "zero_w_surveys = surveys_df.copy()\n",
    "zero_w_surveys['weight'] = zero_w_surveys['weight'].fillna(0) #replace all 'NaN' weight by 0"
   ]
  },
  {
   "cell_type": "code",
   "execution_count": 48,
   "metadata": {
    "collapsed": false
   },
   "outputs": [
    {
     "data": {
      "text/plain": [
       "0         0.0\n",
       "1         0.0\n",
       "2         0.0\n",
       "3         0.0\n",
       "4         0.0\n",
       "5         0.0\n",
       "6         0.0\n",
       "7         0.0\n",
       "8         0.0\n",
       "9         0.0\n",
       "10        0.0\n",
       "11        0.0\n",
       "12        0.0\n",
       "13        0.0\n",
       "14        0.0\n",
       "15        0.0\n",
       "16        0.0\n",
       "17        0.0\n",
       "18        0.0\n",
       "19        0.0\n",
       "20        0.0\n",
       "21        0.0\n",
       "22        0.0\n",
       "23        0.0\n",
       "24        0.0\n",
       "25        0.0\n",
       "26        0.0\n",
       "27        0.0\n",
       "28        0.0\n",
       "29        0.0\n",
       "         ... \n",
       "35519    36.0\n",
       "35520    48.0\n",
       "35521    45.0\n",
       "35522    44.0\n",
       "35523    27.0\n",
       "35524    26.0\n",
       "35525    24.0\n",
       "35526    43.0\n",
       "35527     0.0\n",
       "35528    25.0\n",
       "35529     0.0\n",
       "35530     0.0\n",
       "35531    43.0\n",
       "35532    48.0\n",
       "35533    56.0\n",
       "35534    53.0\n",
       "35535    42.0\n",
       "35536    46.0\n",
       "35537    31.0\n",
       "35538    68.0\n",
       "35539    23.0\n",
       "35540    31.0\n",
       "35541    29.0\n",
       "35542    34.0\n",
       "35543     0.0\n",
       "35544     0.0\n",
       "35545     0.0\n",
       "35546    14.0\n",
       "35547    51.0\n",
       "35548     0.0\n",
       "Name: weight, dtype: float64"
      ]
     },
     "execution_count": 48,
     "metadata": {},
     "output_type": "execute_result"
    }
   ],
   "source": [
    "zero_w_surveys['weight']"
   ]
  },
  {
   "cell_type": "markdown",
   "metadata": {},
   "source": [
    "## good book: numerical modelling, we can learn interactive numerical modelling by Jupeter notebook\n",
    "Research Data Management Plan (RDMP)\n",
    "https://wiki.auckland.ac.nz/display/CERES/Research+Data+Management+Workshops\n",
    "http://www.massey.ac.nz/massey/research/library/library-services/research-services/manage-data/plan.cfm \n",
    "https://dmponline.dcc.ac.uk/ this site is good for data management plan\n",
    "\n",
    "\n",
    "Reproducible research curriculum\n",
    "http://reproducible-science-curriculum.github.io/2015-09-24-reproducible-science-duml/ \n",
    "Version control, Git, and Github is essential in coding\n",
    "\n",
    "\n",
    "Case studies of reproducible research  https://www.practicereproducibleresearch.org/\n",
    "\n",
    "\n",
    "NZGOAL https://www.ict.govt.nz/guidance-and-resources/open-government/new-zealand-government-open-access-and-licensing-nzgoal-framework/ \n",
    "https://www.ict.govt.nz/programmes-and-initiatives/open-and-transparent-government/ \n",
    "\n",
    "Data Govt NZ https://data.govt.nz/ \n",
    "\n",
    "Data visualisation workshop (for example, like this one: https://www.software.ac.uk/blog/2016-11-23-research-data-visualisation-workshop-report) \n",
    "\n"
   ]
  }
 ],
 "metadata": {
  "anaconda-cloud": {},
  "kernelspec": {
   "display_name": "Python [conda root]",
   "language": "python",
   "name": "conda-root-py"
  },
  "language_info": {
   "codemirror_mode": {
    "name": "ipython",
    "version": 2
   },
   "file_extension": ".py",
   "mimetype": "text/x-python",
   "name": "python",
   "nbconvert_exporter": "python",
   "pygments_lexer": "ipython2",
   "version": "2.7.12"
  }
 },
 "nbformat": 4,
 "nbformat_minor": 1
}
