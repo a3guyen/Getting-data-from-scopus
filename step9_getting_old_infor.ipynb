{
 "cells": [
  {
   "cell_type": "code",
   "execution_count": 5,
   "metadata": {
    "collapsed": false
   },
   "outputs": [
    {
     "name": "stdout",
     "output_type": "stream",
     "text": [
      "2017-02-15 15:33:06.650000\n",
      "Take a sit and wait a bit!\n",
      "Total number of papers in input: 115101\n",
      "2017-02-15 15:33:26.303000\n"
     ]
    }
   ],
   "source": [
    "## from the file with origin affiliation at the time they published the paper\n",
    "import csv\n",
    "import sys\n",
    "import datetime\n",
    "\n",
    "csv.field_size_limit(sys.maxint) #to avoid too long field error\n",
    "print datetime.datetime.now()\n",
    "infile = open('step0_authless100.csv', 'rb')\n",
    "reader = csv.reader(infile, delimiter='|', quotechar=' ')\n",
    "\n",
    "outfile = open('step9_extract_info_10years.csv', 'wb')\n",
    "writer = csv.writer(outfile, delimiter='|', quotechar=' ', quoting=csv.QUOTE_ALL)\n",
    "writer.writerow(['paperid','year','paperlink','author', 'oldaffi','oldaffi_short'])\n",
    "\n",
    "line_nb = 0\n",
    "print 'Take a sit and wait a bit!'\n",
    "for row in reader:\n",
    "    if line_nb == 0: #for the moment I dont care the first row (titles)\n",
    "            #print row\n",
    "            line_nb += 1\n",
    "            continue\n",
    "    #if line_nb < 100:\n",
    "    else:\n",
    "        for line in row:\n",
    "            if 'eid=2-s2.0-' in line:\n",
    "                atpos = line.find('eid=2-s2.0-')\n",
    "                sppos = line.find('&')\n",
    "                paperid = line[atpos+11 : sppos]\n",
    "        author_affs = row[14].split(\"; \") #row[0] containing author+aff seperated by \"; \" \n",
    "        for author_aff in author_affs:\n",
    "            auth_or_aff = author_aff.split(\".,\")\n",
    "            author = auth_or_aff[0].strip() + '.'\n",
    "            affiliation = ''\n",
    "            oldaffi_short = ''\n",
    "            paperlink = row[12]\n",
    "            year = row[2]\n",
    "            if len(auth_or_aff)>1:\n",
    "                affiliation = auth_or_aff[1].strip()\n",
    "                affis = affiliation.split(',')\n",
    "                oldaffi_short = affis[len(affis)-1].strip()\n",
    "                if 'Zealand'in affiliation:\n",
    "                    oldaffi_short = 'New Zealand'\n",
    "                    Y = ['University','Univ','Instit','Hospital','Laborato','College','Cent','Ministry']\n",
    "                    for i in xrange(len(affis)):\n",
    "                        for y in Y:\n",
    "                            if y in affis[i]:\n",
    "                                alist = affis[i].strip() + ', '\n",
    "                                oldaffi_short = alist.split(', ')[0].strip()           \n",
    "            \n",
    "            writer.writerow([paperid, year, paperlink, author, affiliation,oldaffi_short])\n",
    "        line_nb += 1\n",
    "print 'Total number of papers in input:', line_nb\n",
    "print datetime.datetime.now()\n",
    "\n",
    "outfile.close()\n"
   ]
  },
  {
   "cell_type": "code",
   "execution_count": 8,
   "metadata": {
    "collapsed": false
   },
   "outputs": [
    {
     "name": "stdout",
     "output_type": "stream",
     "text": [
      "['paper_ID', 'year', 'paperlink', 'author', 'oldaffi', 'oldaffi_short']\n",
      "['1', '2007', 'https://www.scopus.com/inward/record.uri?eid=2-s2.0-34447091908&doi=10.1016%2fj.bbabio.2007.04.002&partnerID=40&md5=cf30f13a66e4f4437e081c5618ccf520', 'Zulian, A.', 'Department of Pharmacology and Anesthesiology, Pharmacology Division, University of Padova, Padova, Italy', 'Italy']\n",
      "['1', '2007', 'https://www.scopus.com/inward/record.uri?eid=2-s2.0-34447091908&doi=10.1016%2fj.bbabio.2007.04.002&partnerID=40&md5=cf30f13a66e4f4437e081c5618ccf520', 'Petronilli, V.', 'Department of Biomedical Sciences, C.N.R. Institute of Neurosciences, University of Padova, Padova, Italy', 'Italy']\n",
      "['1', '2007', 'https://www.scopus.com/inward/record.uri?eid=2-s2.0-34447091908&doi=10.1016%2fj.bbabio.2007.04.002&partnerID=40&md5=cf30f13a66e4f4437e081c5618ccf520', 'Bova, S.', 'Department of Pharmacology and Anesthesiology, Pharmacology Division, University of Padova, Padova, Italy', 'Italy']\n",
      "['1', '2007', 'https://www.scopus.com/inward/record.uri?eid=2-s2.0-34447091908&doi=10.1016%2fj.bbabio.2007.04.002&partnerID=40&md5=cf30f13a66e4f4437e081c5618ccf520', 'Dabbeni-Sala, F.', 'Department of Pharmacology and Anesthesiology, Pharmacology Division, University of Padova, Padova, Italy', 'Italy']\n",
      "['1', '2007', 'https://www.scopus.com/inward/record.uri?eid=2-s2.0-34447091908&doi=10.1016%2fj.bbabio.2007.04.002&partnerID=40&md5=cf30f13a66e4f4437e081c5618ccf520', 'Cargnelli, G.', 'Department of Pharmacology and Anesthesiology, Pharmacology Division, University of Padova, Padova, Italy', 'Italy']\n",
      "['1', '2007', 'https://www.scopus.com/inward/record.uri?eid=2-s2.0-34447091908&doi=10.1016%2fj.bbabio.2007.04.002&partnerID=40&md5=cf30f13a66e4f4437e081c5618ccf520', 'Cavalli, M.', 'Department of Pharmacology and Anesthesiology, Pharmacology Division, University of Padova, Padova, Italy', 'Italy']\n",
      "['1', '2007', 'https://www.scopus.com/inward/record.uri?eid=2-s2.0-34447091908&doi=10.1016%2fj.bbabio.2007.04.002&partnerID=40&md5=cf30f13a66e4f4437e081c5618ccf520', 'Rennison, D.', 'Department of Chemistry, University of Auckland, Auckland, New Zealand', 'University of Auckland']\n",
      "['1', '2007', 'https://www.scopus.com/inward/record.uri?eid=2-s2.0-34447091908&doi=10.1016%2fj.bbabio.2007.04.002&partnerID=40&md5=cf30f13a66e4f4437e081c5618ccf520', 'St\\xc3\\xa4b, J.', 'Department of Chemistry, University of Auckland, Auckland, New Zealand', 'University of Auckland']\n",
      "Total number of lines: 517264\n",
      "No.of authors with missing affiliation: 3632\n",
      "No.of authors with NZ affiliation: 269990\n",
      "No.of authors with foreign affiliation: 243642\n",
      "2017-02-13 12:46:44.954000\n"
     ]
    }
   ],
   "source": [
    "#Print out several rows\n",
    "import csv\n",
    "import sys\n",
    "import datetime\n",
    "outfile = open('step9_extract_info_10years.csv', 'rb')\n",
    "readerTest = csv.reader(outfile,delimiter='|', quotechar=' ')\n",
    "nb_row = 0\n",
    "miss_aff = 0\n",
    "nz_aff = 0\n",
    "foreign_aff = 0\n",
    "for row in readerTest:\n",
    "    nb_row +=1\n",
    "    if nb_row < 10:\n",
    "        print row       \n",
    "    if 'Zealand' in row[4]:\n",
    "        nz_aff += 1\n",
    "    if row[4] =='':\n",
    "        miss_aff += 1\n",
    "print 'Total number of lines:', nb_row\n",
    "print 'No.of authors with missing affiliation:', miss_aff\n",
    "print 'No.of authors with NZ affiliation:', nz_aff\n",
    "print 'No.of authors with foreign affiliation:', nb_row - miss_aff - nz_aff\n",
    "outfile.close()\n",
    "print datetime.datetime.now()\n"
   ]
  },
  {
   "cell_type": "code",
   "execution_count": null,
   "metadata": {
    "collapsed": true
   },
   "outputs": [],
   "source": []
  }
 ],
 "metadata": {
  "anaconda-cloud": {},
  "kernelspec": {
   "display_name": "Python [conda root]",
   "language": "python",
   "name": "conda-root-py"
  },
  "language_info": {
   "codemirror_mode": {
    "name": "ipython",
    "version": 2
   },
   "file_extension": ".py",
   "mimetype": "text/x-python",
   "name": "python",
   "nbconvert_exporter": "python",
   "pygments_lexer": "ipython2",
   "version": "2.7.12"
  }
 },
 "nbformat": 4,
 "nbformat_minor": 1
}
