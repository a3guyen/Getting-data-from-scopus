{
 "cells": [
  {
   "cell_type": "code",
   "execution_count": 3,
   "metadata": {
    "collapsed": false
   },
   "outputs": [
    {
     "name": "stdout",
     "output_type": "stream",
     "text": [
      "2017-02-10 09:42:50.634000\n",
      "Opened database successfully\n",
      "Done with creating SQL table\n",
      "[]\n"
     ]
    }
   ],
   "source": [
    "import csv\n",
    "import sys\n",
    "import sqlite3 #for SQLite\n",
    "import datetime\n",
    "\n",
    "csv.field_size_limit(sys.maxint) #to avoid too long field error\n",
    "print datetime.datetime.now()\n",
    "\n",
    "#open the csv file as input\n",
    "infile = open('step5_extract_authorID.csv','rb')\n",
    "reader = csv.reader(infile, delimiter ='|', quotechar = ' ', quoting = csv.QUOTE_ALL)\n",
    "#connect to the database and create the table\n",
    "conn = sqlite3.connect('database.db')\n",
    "conn.text_factory = str #to accept also strange characters \n",
    "print \"Opened database successfully\";\n",
    "cursor = conn.cursor()\n",
    "cursor.execute('''CREATE TABLE STEP5_test\n",
    "(paper_ID text, year text, paperlink text, author text, authorlink text,authid int)''')\n",
    "error = []\n",
    "\n",
    "row_nb = 0\n",
    "for row in reader:\n",
    "    if row_nb == 0:\n",
    "        row_nb += 1\n",
    "        continue\n",
    "    #if row_nb < 10:\n",
    "    else:\n",
    "        try:\n",
    "            cursor.execute(\"INSERT INTO STEP5_test VALUES (?,?,?,?,?,?)\",(row[0], row[1], row[2],row[3], row[4],row[5]))\n",
    "            row_nb += 1\n",
    "        except:\n",
    "            error.append(row[0])\n",
    "            pass\n",
    "print \"Done with creating SQL table\"\n",
    "print error\n",
    "conn.commit()\n",
    "conn.close()\n"
   ]
  },
  {
   "cell_type": "code",
   "execution_count": null,
   "metadata": {
    "collapsed": false
   },
   "outputs": [],
   "source": [
    "import csv\n",
    "import sys\n",
    "import sqlite3 #for SQLite\n",
    "import datetime\n",
    "\n",
    "csv.field_size_limit(sys.maxint) #to avoid too long field error\n",
    "print datetime.datetime.now()\n",
    "\n",
    "#open the csv file as input\n",
    "infile = open('step7_authorprofile_part1.csv','rb')\n",
    "reader = csv.reader(infile, delimiter ='|', quotechar = ' ', quoting = csv.QUOTE_ALL)\n",
    "#connect to the database and create the table\n",
    "conn = sqlite3.connect('database.db')\n",
    "conn.text_factory = str #to accept also strange characters \n",
    "print \"Opened database successfully\";\n",
    "cursor = conn.cursor()\n",
    "cursor.execute('''CREATE TABLE STEP5_test\n",
    "(paper_ID text, year text, paperlink text, author text, authorlink text,authid int)''')\n",
    "error = []\n",
    "\n",
    "row_nb = 0\n",
    "for row in reader:\n",
    "    if row_nb == 0:\n",
    "        row_nb += 1\n",
    "        continue\n",
    "    #if row_nb < 10:\n",
    "    else:\n",
    "        try:\n",
    "            cursor.execute(\"INSERT INTO STEP5_test VALUES (?,?,?,?,?,?)\",(row[0], row[1], row[2],row[3], row[4],row[5]))\n",
    "            row_nb += 1\n",
    "        except:\n",
    "            error.append(row[0])\n",
    "            pass\n",
    "print \"Done with creating SQL table\"\n",
    "print error\n",
    "conn.commit()\n",
    "conn.close()\n",
    "\n",
    "['authid', 'authorlink', 'fullname', 'othernames', 'currentaffi', 'doccount', 'cites', 'coauthor', 'subject']"
   ]
  },
  {
   "cell_type": "code",
   "execution_count": null,
   "metadata": {
    "collapsed": true
   },
   "outputs": [],
   "source": []
  }
 ],
 "metadata": {
  "anaconda-cloud": {},
  "kernelspec": {
   "display_name": "Python [conda root]",
   "language": "python",
   "name": "conda-root-py"
  },
  "language_info": {
   "codemirror_mode": {
    "name": "ipython",
    "version": 2
   },
   "file_extension": ".py",
   "mimetype": "text/x-python",
   "name": "python",
   "nbconvert_exporter": "python",
   "pygments_lexer": "ipython2",
   "version": "2.7.12"
  }
 },
 "nbformat": 4,
 "nbformat_minor": 1
}
