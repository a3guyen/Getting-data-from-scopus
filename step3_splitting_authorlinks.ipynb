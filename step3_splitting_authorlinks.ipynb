{
 "cells": [
  {
   "cell_type": "code",
   "execution_count": 4,
   "metadata": {
    "collapsed": false
   },
   "outputs": [
    {
     "name": "stdout",
     "output_type": "stream",
     "text": [
      "2017-02-07 09:48:17.692000\n",
      "Number of authors:  506791\n",
      "Number of emails:  144627\n"
     ]
    }
   ],
   "source": [
    "import csv\n",
    "import datetime\n",
    "import sys\n",
    "csv.field_size_limit(sys.maxint)\n",
    "print datetime.datetime.now()\n",
    "infile = open('step2_authorlinks.csv','rb')\n",
    "reader = csv.reader(infile, delimiter ='|', quotechar = ' ')\n",
    "outfile1 = open('step3_author_https.csv','wb')\n",
    "writer1 = csv.writer(outfile1, delimiter = '|', quotechar=' ', quoting = csv.QUOTE_ALL)\n",
    "writer1.writerow(['paper_ID','year','paperlink','author','authorlink'])\n",
    "outfile2 = open('step3_author_emails.csv','wb')\n",
    "writer2 = csv.writer(outfile2, delimiter = '|', quotechar=' ', quoting = csv.QUOTE_ALL)\n",
    "writer2.writerow(['paper_ID','year','paperlink','author','authoremail'])\n",
    "nb_emails = 0\n",
    "nb_authors = 0\n",
    "nb = 0\n",
    "for row in reader:\n",
    "    nb += 1\n",
    "    #if nb <20:\n",
    "    if 'https' in row[4]:\n",
    "        writer1.writerow([row[0],row[1],row[2],row[3],row[4]])\n",
    "        nb_authors += 1\n",
    "    if 'mailto' in row[4]:\n",
    "        writer2.writerow([row[0],row[1],row[2],row[3],row[4]])\n",
    "        nb_emails += 1  \n",
    "print 'Number of authors: ', nb_authors\n",
    "print 'Number of emails: ', nb_emails\n"
   ]
  },
  {
   "cell_type": "code",
   "execution_count": null,
   "metadata": {
    "collapsed": true
   },
   "outputs": [],
   "source": []
  },
  {
   "cell_type": "code",
   "execution_count": null,
   "metadata": {
    "collapsed": true
   },
   "outputs": [],
   "source": []
  },
  {
   "cell_type": "code",
   "execution_count": null,
   "metadata": {
    "collapsed": true
   },
   "outputs": [],
   "source": []
  }
 ],
 "metadata": {
  "anaconda-cloud": {},
  "kernelspec": {
   "display_name": "Python [conda root]",
   "language": "python",
   "name": "conda-root-py"
  },
  "language_info": {
   "codemirror_mode": {
    "name": "ipython",
    "version": 2
   },
   "file_extension": ".py",
   "mimetype": "text/x-python",
   "name": "python",
   "nbconvert_exporter": "python",
   "pygments_lexer": "ipython2",
   "version": "2.7.12"
  }
 },
 "nbformat": 4,
 "nbformat_minor": 1
}
