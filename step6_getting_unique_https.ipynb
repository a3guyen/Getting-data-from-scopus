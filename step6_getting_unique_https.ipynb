{
 "cells": [
  {
   "cell_type": "code",
   "execution_count": 1,
   "metadata": {
    "collapsed": false
   },
   "outputs": [
    {
     "name": "stdout",
     "output_type": "stream",
     "text": [
      "2017-02-08 16:32:12.178000\n",
      "Number of unique author id:  175792\n",
      "Number of total lines:  506792\n",
      "2017-02-08 16:39:18.863000\n"
     ]
    }
   ],
   "source": [
    "import csv\n",
    "import datetime\n",
    "import sys\n",
    "csv.field_size_limit(sys.maxint)\n",
    "print datetime.datetime.now()\n",
    "infile = open('step5_authorid.csv','rb')\n",
    "reader = csv.reader(infile, delimiter ='|', quotechar = ' ', quoting = csv.QUOTE_ALL)\n",
    "outfile = open('step6_unique_https.csv','wb')\n",
    "writer1= csv.writer(outfile,delimiter = '|', quotechar=' ', quoting = csv.QUOTE_ALL)\n",
    "writer1.writerow(['authid','authorlink'])\n",
    "id_list =[]\n",
    "nb_id = 0\n",
    "nb_line = 0\n",
    "for row in reader:\n",
    "    nb_line += 1\n",
    "    if row[5] not in id_list:\n",
    "        id_list.append(row[5])\n",
    "        writer1.writerow([row[5],row[4]])\n",
    "        nb_id += 1\n",
    "        continue\n",
    "            \n",
    "print 'Number of unique author id: ', nb_id\n",
    "print 'Number of total lines: ', nb_line\n",
    "print datetime.datetime.now()"
   ]
  },
  {
   "cell_type": "code",
   "execution_count": null,
   "metadata": {
    "collapsed": true
   },
   "outputs": [],
   "source": [
    "\n"
   ]
  },
  {
   "cell_type": "code",
   "execution_count": null,
   "metadata": {
    "collapsed": true
   },
   "outputs": [],
   "source": []
  }
 ],
 "metadata": {
  "anaconda-cloud": {},
  "kernelspec": {
   "display_name": "Python [conda root]",
   "language": "python",
   "name": "conda-root-py"
  },
  "language_info": {
   "codemirror_mode": {
    "name": "ipython",
    "version": 2
   },
   "file_extension": ".py",
   "mimetype": "text/x-python",
   "name": "python",
   "nbconvert_exporter": "python",
   "pygments_lexer": "ipython2",
   "version": "2.7.12"
  }
 },
 "nbformat": 4,
 "nbformat_minor": 1
}
