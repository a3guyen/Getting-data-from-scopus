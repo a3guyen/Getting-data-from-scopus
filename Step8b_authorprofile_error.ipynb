{
 "cells": [
  {
   "cell_type": "code",
   "execution_count": 1,
   "metadata": {
    "collapsed": false
   },
   "outputs": [
    {
     "name": "stdout",
     "output_type": "stream",
     "text": [
      "Wait a minute!\n",
      "Done with extracting authorId\n",
      "2017-02-14 13:03:57.522000\n",
      "['authid', 'authorlink', 'fullname', 'othernames', 'currentaffi', 'currentaffi_short', 'doccount', 'cites', 'coauthor', 'subject']\n",
      "['56928110900', 'https://www.scopus.com/authid/detail.uri?authorId=56928110900&amp;eid=2-s2.0-84945576843', 'Quaranta, Sara', '', '5 S. Raffaele Rehabilitation and Care Centers,,Italy', 'Italy', '1', 'documentView', 'Add', 'Medicine; Neuroscience; Psychology; ']\n",
      "['57132895900', 'https://www.scopus.com/authid/detail.uri?authorId=57132895900&amp;eid=2-s2.0-84958978135', 'Civita, Lucia', '', \"Lega F. D'Oro Research Center,Ancona,Italy\", 'Italy', '1', 'documentView', 'Add', 'Social Sciences; Psychology; ']\n",
      "['57132752300', 'https://www.scopus.com/authid/detail.uri?authorId=57132752300&amp;eid=2-s2.0-84958978135', 'Tedone, Rosanna', '', \"Lega F. D'Oro Research Center,Ancona,Italy\", 'Italy', '1', 'documentView', 'Add', 'Social Sciences; Psychology; ']\n",
      "['56797902400', 'https://www.scopus.com/authid/detail.uri?authorId=56797902400&amp;eid=2-s2.0-84939825732', 'Zong, Fangrong', '', 'Victoria University of Wellington,Wellington,New Zealand', 'Victoria University of Wellington', '3', 'documentsView', 'Add', 'Biochemistry; Genetics and Molecular Biology; Physics and Astronomy; Medicine; Engineering; Materials Science; Chemistry; ']\n",
      "['56029391300', 'https://www.scopus.com/authid/detail.uri?authorId=56029391300&amp;eid=2-s2.0-84938327217', 'Leask, Marita', '', 'Victoria University of Wellington,Wellington,New Zealand', 'Victoria University of Wellington', '2', 'to', 'Set', 'Social Sciences; ']\n",
      "['57188767468', 'https://www.scopus.com/authid/detail.uri?authorId=57188767468&amp;eid=2-s2.0-84962860693', 'Lee, Chris', '', ' ', '', '1', 'documentView', 'Add', 'Engineering; ']\n",
      "['57128649300', 'https://www.scopus.com/authid/detail.uri?authorId=57128649300&amp;eid=2-s2.0-84958694231', 'Lee, Joseph', '', 'Carnegie Mellon University,Pittsburgh,United States', 'United States', '1', 'documentView', 'Add', 'Computer Science; ']\n",
      "['57127581100', 'https://www.scopus.com/authid/detail.uri?authorId=57127581100&amp;eid=2-s2.0-84958694231', 'Shaw, Troy', '', 'Victoria University of Wellington,Wellington,New Zealand', 'Victoria University of Wellington', '1', 'documentView', 'Add', 'Computer Science; ']\n",
      "Nb_row: 14292\n"
     ]
    }
   ],
   "source": [
    "#fixing some character errors and getting short_current affiliation names\n",
    "import csv\n",
    "print \"Wait a minute!\"\n",
    "import datetime\n",
    "nb_line = 0\n",
    "erro = 0\n",
    "doccounterror = 0\n",
    "citeserror = 0\n",
    "coauthorerror = 0\n",
    "infile = open('step8_authorprofile_modified.csv','rb')\n",
    "reader = csv.reader(infile, delimiter = '|', quotechar=' ', quoting = csv.QUOTE_ALL)\n",
    "outfile = open('step8b_authorprofile_error.csv','wb')\n",
    "writer = csv.writer(outfile, delimiter = '|', quotechar=' ', quoting = csv.QUOTE_ALL)\n",
    "writer.writerow(['authid','authorlink','fullname','othernames','currentaffi','currentaffi_short','doccount','cites','coauthor','subject'])\n",
    "for row in reader:\n",
    "    if nb_line == 0:\n",
    "        nb_line += 1\n",
    "        continue\n",
    "    #if nb_line <20:\n",
    "    else:\n",
    "        try:\n",
    "            float(row[6])\n",
    "            float(row[7])\n",
    "            float(row[8])\n",
    "        except:\n",
    "            writer.writerow(row)\n",
    "        \n",
    "print \"Done with extracting authorId\"\n",
    "\n",
    "import csv\n",
    "import sys\n",
    "import datetime\n",
    "\n",
    "csv.field_size_limit(sys.maxint) #to avoid too long field error\n",
    "print datetime.datetime.now()\n",
    "outfile = open('step8b_authorprofile_error.csv', 'rb')\n",
    "readerTest = csv.reader(outfile,delimiter ='|', quotechar = ' ',quoting = csv.QUOTE_ALL)\n",
    "nb_row = 0\n",
    "for row in readerTest:\n",
    "    nb_row += 1\n",
    "    if nb_row < 10:\n",
    "        print row\n",
    "        #print row\n",
    "print \"Nb_row: %d\" %(nb_row)\n",
    "\n",
    "outfile.close()\n"
   ]
  },
  {
   "cell_type": "code",
   "execution_count": 1,
   "metadata": {
    "collapsed": false
   },
   "outputs": [
    {
     "name": "stdout",
     "output_type": "stream",
     "text": [
      "Wait a minute!\n",
      "Done\n",
      "2017-02-13 11:16:22.711000\n",
      "['57028469300', 'https://www.scopus.com/authid/detail.uri?authorId=57028469300&amp;eid=2-s2.0-84952361276']\n",
      "['35420095800', 'https://www.scopus.com/authid/detail.uri?authorId=35420095800&amp;eid=2-s2.0-84948085537']\n",
      "['7403311082', 'https://www.scopus.com/authid/detail.uri?authorId=7403311082&amp;eid=2-s2.0-34547658082']\n",
      "['7102649070', 'https://www.scopus.com/authid/detail.uri?authorId=7102649070&amp;eid=2-s2.0-84973559143']\n",
      "['54584341900', 'https://www.scopus.com/authid/detail.uri?authorId=54584341900&amp;eid=2-s2.0-84973559143']\n",
      "['16318233900', 'https://www.scopus.com/authid/detail.uri?authorId=16318233900&amp;eid=2-s2.0-84930477070']\n",
      "['36710987800', 'https://www.scopus.com/authid/detail.uri?authorId=36710987800&amp;eid=2-s2.0-84945131344']\n",
      "['7406278265', 'https://www.scopus.com/authid/detail.uri?authorId=7406278265&amp;eid=2-s2.0-84920591644']\n",
      "['54406102800', 'https://www.scopus.com/authid/detail.uri?authorId=54406102800&amp;eid=2-s2.0-84932619562']\n",
      "Nb_row: 78\n"
     ]
    }
   ],
   "source": []
  },
  {
   "cell_type": "code",
   "execution_count": 4,
   "metadata": {
    "collapsed": false
   },
   "outputs": [
    {
     "name": "stdout",
     "output_type": "stream",
     "text": [
      "2017-02-14 13:07:23.944000\n",
      "[u'1 Document1 documentView in search results formatSort on:Export all', u'Add all to list', u'Set document alert', u'Set document feed0 documentView in search results format', u'Add all to list', u'Set citation alert']\n",
      "1\n",
      "to\n",
      "[u'Set', u'document', u'alert']\n",
      "Set\n",
      "Done\n"
     ]
    }
   ],
   "source": [
    "import re\n",
    "import requests\n",
    "from bs4 import BeautifulSoup\n",
    "import csv\n",
    "import datetime\n",
    "import sys\n",
    "csv.field_size_limit(sys.maxint)\n",
    "print datetime.datetime.now()\n",
    "url = 'https://www.scopus.com/authid/detail.uri?authorId=57053486700&amp'\n",
    "r = requests.get(url)\n",
    "soup = BeautifulSoup(r.content)\n",
    "doc = soup.find_all(\"div\", {\"id\": \"tabs\"},{\"data-count\"})\n",
    "x= doc[0].text.replace('\\n','').split(\"|\")\n",
    "print x\n",
    "\n",
    "#getting number of documents - doccount\n",
    "y1= x[0].split(' ')\n",
    "doccount = y1[0]\n",
    "print y1[0]\n",
    "# getting number of citations - citecount   cc\n",
    "y2= x[1].split(' ')\n",
    "citecount = y2[2]\n",
    "print y2[2]\n",
    "#getting number of coauthcount \n",
    "y3= x[2].split(' ')\n",
    "print y3\n",
    "print y3[0]\n",
    "\n",
    "print \"Done\"\n",
    "\n"
   ]
  },
  {
   "cell_type": "code",
   "execution_count": null,
   "metadata": {
    "collapsed": true
   },
   "outputs": [],
   "source": [
    "2017-02-14 13:04:08.143000\n",
    "[u'1 Document', u'2 co-authors1 documentView in search results formatSort on:Export all', u'Add all to list', u'Set document alert', u'Set document feed0 documentView in search results format', u'Add all to list', u'Set citation alert']\n",
    "1\n",
    "documentView\n",
    "[u'Add', u'all', u'to', u'list']\n",
    "Add\n",
    "Done\n",
    "\n",
    "\n",
    "\n",
    "2017-02-14 13:05:04.040000\n",
    "[u'14 Documents', u'Cited by 84 documents 14 documentsView in search results formatSort on:Export all', u'Add all to list', u'Set document alert', u'Set document feed84 documentsView in search results format', u'Add all to list', u'Set citation alert']\n",
    "14\n",
    "84\n",
    "[u'Add', u'all', u'to', u'list']\n",
    "Add\n",
    "Done"
   ]
  }
 ],
 "metadata": {
  "anaconda-cloud": {},
  "kernelspec": {
   "display_name": "Python [conda root]",
   "language": "python",
   "name": "conda-root-py"
  },
  "language_info": {
   "codemirror_mode": {
    "name": "ipython",
    "version": 2
   },
   "file_extension": ".py",
   "mimetype": "text/x-python",
   "name": "python",
   "nbconvert_exporter": "python",
   "pygments_lexer": "ipython2",
   "version": "2.7.12"
  }
 },
 "nbformat": 4,
 "nbformat_minor": 1
}
