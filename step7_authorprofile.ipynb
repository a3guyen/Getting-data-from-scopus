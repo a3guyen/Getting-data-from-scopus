{
 "cells": [
  {
   "cell_type": "code",
   "execution_count": 1,
   "metadata": {
    "collapsed": false
   },
   "outputs": [
    {
     "name": "stdout",
     "output_type": "stream",
     "text": [
      "2017-02-13 11:30:28.559000\n"
     ]
    }
   ],
   "source": [
    "import re\n",
    "import requests\n",
    "from bs4 import BeautifulSoup\n",
    "import csv\n",
    "import datetime\n",
    "import sys\n",
    "csv.field_size_limit(sys.maxint)\n",
    "print datetime.datetime.now()\n",
    "#code to prevent coding error:\n",
    "reload(sys) \n",
    "sys.setdefaultencoding('utf8')\n",
    "csv.field_size_limit(sys.maxint)\n",
    "#open the  input file:\n",
    "infile = open('step7_error_author_links8.csv','r')\n",
    "#infile = open('test.csv','r')\n",
    "reader = csv.reader(infile, delimiter ='|', quotechar = ' ',quoting = csv.QUOTE_ALL)\n",
    "outfile1 = open('step7_authorprofile_part9.csv','wb')\n",
    "writer1 = csv.writer(outfile1, delimiter = '|', quotechar=' ', quoting = csv.QUOTE_ALL)\n",
    "writer1.writerow(['authid','authorlink','fullname','othernames','currentaffi','doccount','cites','coauthor','subject'])\n",
    "outfile2 = open('step7_error_author_links9.csv','wb')\n",
    "writer2 = csv.writer(outfile2, delimiter = '|', quotechar=' ', quoting = csv.QUOTE_ALL)\n",
    "line_nb = 0\n",
    "error_nb = 0\n",
    "id_unique = 0\n",
    "authid_list = []\n",
    "for row in reader:\n",
    "    line_nb += 1\n",
    "    url = row[1]\n",
    "    try: \n",
    "        r = requests.get(url)\n",
    "        soup = BeautifulSoup(r.content)\n",
    "        #getting fullname\n",
    "        titles = soup.find_all('title')\n",
    "        fullname= titles[0].text.replace(\"Scopus - Author details (\",'').replace(\")\",\"\").replace(\"\\n\",\"\")\n",
    "        #getting othernames\n",
    "        names = soup.find_all(\"span\",{\"class\": \"displayBlock\"})\n",
    "        othernames = \"\"\n",
    "        for name in names:\n",
    "            othernames = othernames + name.text + \";\"  \n",
    "        #getting current affiliation\n",
    "        g_data = soup.find_all(\"div\", {\"class\": \"authAffilcityCounty\"})\n",
    "        for item in g_data:\n",
    "            x = item.contents\n",
    "            for y in x:\n",
    "                currentaffi= y.replace('\\r','').replace(\"u'\",'') \n",
    "        subjectarea = soup.find_all(\"div\", {\"id\": \"subjAreas\"})\n",
    "        for area in subjectarea:\n",
    "            subject = area.text.replace(\"\\n\",\"\").replace(\"View More\",\"\")#.replace(\"\\xc2\\xa0\",\" \")\n",
    "        \n",
    "        doc = soup.find_all(\"div\", {\"id\": \"tabs\"},{\"data-count\"})\n",
    "        x= doc[0].text.replace('\\n','').split(\"|\")\n",
    "        #getting number of documents - doccount\n",
    "        y1= x[0].split(' ')\n",
    "        doccount = y1[0]\n",
    "        # getting number of citations - citecount\n",
    "        y2= x[1].split(' ')\n",
    "        citecount = y2[2]\n",
    "        #getting number of coauthcount \n",
    "        y3= x[2].split(' ')\n",
    "        coauthcount= y3[0]\n",
    "        writer1.writerow([row[0],row[1],fullname,othernames, currentaffi,doccount, citecount, coauthcount,subject])\n",
    "        \n",
    "    except:\n",
    "        error_nb += 1\n",
    "        writer2.writerow(row)\n",
    "        pass\n",
    "print \"Done\"\n",
    "print \"Number of error urls: \", error_nb\n",
    "print \"Number of unique id: \", id_unique\n",
    "print datetime.datetime.now()\n",
    "outfile1.close()\n",
    "outfile2.close()\n",
    "    "
   ]
  },
  {
   "cell_type": "code",
   "execution_count": null,
   "metadata": {
    "collapsed": false
   },
   "outputs": [],
   "source": []
  },
  {
   "cell_type": "code",
   "execution_count": null,
   "metadata": {
    "collapsed": true
   },
   "outputs": [],
   "source": []
  },
  {
   "cell_type": "code",
   "execution_count": null,
   "metadata": {
    "collapsed": true
   },
   "outputs": [],
   "source": []
  }
 ],
 "metadata": {
  "anaconda-cloud": {},
  "kernelspec": {
   "display_name": "Python 2",
   "language": "python",
   "name": "python2"
  },
  "language_info": {
   "codemirror_mode": {
    "name": "ipython",
    "version": 2
   },
   "file_extension": ".py",
   "mimetype": "text/x-python",
   "name": "python",
   "nbconvert_exporter": "python",
   "pygments_lexer": "ipython2",
   "version": "2.7.13"
  }
 },
 "nbformat": 4,
 "nbformat_minor": 1
}
